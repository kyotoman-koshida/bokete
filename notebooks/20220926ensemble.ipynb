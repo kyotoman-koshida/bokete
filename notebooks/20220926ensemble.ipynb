{
 "cells": [
  {
   "cell_type": "markdown",
   "metadata": {},
   "source": [
    "### MMBTを1/2, LightGBMのGDBTとGOSSをそれぞれ1/4ずつ重みつけたアンサンブル"
   ]
  },
  {
   "cell_type": "code",
   "execution_count": 16,
   "metadata": {},
   "outputs": [],
   "source": [
    "import pandas as pd\n",
    "import os"
   ]
  },
  {
   "cell_type": "code",
   "execution_count": 18,
   "metadata": {},
   "outputs": [],
   "source": [
    "mmbt = pd.read_csv('../results/submission_oshida_MMBT.csv')\n",
    "gbdt = pd.read_csv('../results/submit_gbdt_20220926.csv')\n",
    "goss = pd.read_csv('../results/20220924goss-submission.csv')\n",
    "\n",
    "INPUT = \"/Users/koshidatatsuo/python/nishika/bokete\"\n",
    "submission_df = pd.read_csv(os.path.join(INPUT, \"sample_submission.csv\"))"
   ]
  },
  {
   "cell_type": "code",
   "execution_count": 19,
   "metadata": {},
   "outputs": [],
   "source": [
    "test_pred = mmbt['is_laugh']*1/2 + gbdt['is_laugh'] * 1/4 + goss['is_laugh'] * 1/4\n",
    "submission_df[\"is_laugh\"] = test_pred\n",
    "submission_df.to_csv('../results/20220926ensemble.csv',index=False)"
   ]
  },
  {
   "cell_type": "code",
   "execution_count": null,
   "metadata": {},
   "outputs": [],
   "source": []
  }
 ],
 "metadata": {
  "kernelspec": {
   "display_name": "Python 3.10.5 ('venv': venv)",
   "language": "python",
   "name": "python3"
  },
  "language_info": {
   "codemirror_mode": {
    "name": "ipython",
    "version": 3
   },
   "file_extension": ".py",
   "mimetype": "text/x-python",
   "name": "python",
   "nbconvert_exporter": "python",
   "pygments_lexer": "ipython3",
   "version": "3.10.5"
  },
  "orig_nbformat": 4,
  "vscode": {
   "interpreter": {
    "hash": "0fe9977627f3ca6d11c110215fba05053f59a783db248ce88310573a63e80709"
   }
  }
 },
 "nbformat": 4,
 "nbformat_minor": 2
}
