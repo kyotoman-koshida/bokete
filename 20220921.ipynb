{
  "nbformat": 4,
  "nbformat_minor": 0,
  "metadata": {
    "colab": {
      "provenance": [],
      "collapsed_sections": [],
      "authorship_tag": "ABX9TyMhT4897I1+QI38FN91fJKR",
      "include_colab_link": true
    },
    "kernelspec": {
      "name": "python3",
      "display_name": "Python 3"
    },
    "language_info": {
      "name": "python"
    },
    "accelerator": "GPU"
  },
  "cells": [
    {
      "cell_type": "markdown",
      "metadata": {
        "id": "view-in-github",
        "colab_type": "text"
      },
      "source": [
        "<a href=\"https://colab.research.google.com/github/kyotoman-koshida/bokete/blob/main/20220921.ipynb\" target=\"_parent\"><img src=\"https://colab.research.google.com/assets/colab-badge.svg\" alt=\"Open In Colab\"/></a>"
      ]
    },
    {
      "cell_type": "code",
      "execution_count": 110,
      "metadata": {
        "colab": {
          "base_uri": "https://localhost:8080/"
        },
        "id": "Mfe0lahzVYzu",
        "outputId": "82c13633-0d9d-4b75-8989-2ecfb7b6f269"
      },
      "outputs": [
        {
          "output_type": "stream",
          "name": "stdout",
          "text": [
            "Drive already mounted at /content/drive; to attempt to forcibly remount, call drive.mount(\"/content/drive\", force_remount=True).\n"
          ]
        }
      ],
      "source": [
        "from google.colab import drive\n",
        "drive.mount('/content/drive')"
      ]
    },
    {
      "cell_type": "code",
      "source": [
        "!pip install --quiet transformers==4.18.0\n",
        "!pip install --quiet tokenizers==0.12.1\n",
        "!pip install --quiet sentencepiece\n",
        "!pip install --quiet japanize-matplotlib\n",
        "!pip install transformers fugashi ipadic >> /dev/null"
      ],
      "metadata": {
        "id": "0KB0Yu82rU5M"
      },
      "execution_count": 111,
      "outputs": []
    },
    {
      "cell_type": "code",
      "source": [
        "import pandas as pd\n",
        "import numpy as np\n",
        "import matplotlib.pyplot as plt\n",
        "import seaborn as sns\n",
        "from PIL import Image\n",
        "import japanize_matplotlib\n",
        "\n",
        "import torch\n",
        "import transformers\n",
        "from transformers import BertTokenizer, BertJapaneseTokenizer\n",
        "\n",
        "from sklearn.metrics import mean_squared_error\n",
        "from sklearn.metrics import log_loss\n",
        "from sklearn.model_selection import StratifiedKFold, KFold\n",
        "from sklearn.model_selection import train_test_split\n",
        "from sklearn.metrics import confusion_matrix\n",
        "\n",
        "import sys\n",
        "import os\n",
        "import re\n",
        "import random\n",
        "\n",
        "from time import time\n",
        "from tqdm import tqdm\n",
        "\n",
        "from contextlib import contextmanager\n",
        "import lightgbm as lgb\n",
        "\n",
        "import re\n",
        "import requests\n",
        "import unicodedata\n",
        "import nltk\n",
        "from nltk.corpus import wordnet\n",
        "from bs4 import BeautifulSoup\n",
        "nltk.download(['wordnet', 'stopwords', 'punkt'])"
      ],
      "metadata": {
        "id": "KR7L8T7UWRfp",
        "colab": {
          "base_uri": "https://localhost:8080/"
        },
        "outputId": "88c6e68e-5e3b-4233-9399-08856387684d"
      },
      "execution_count": 112,
      "outputs": [
        {
          "output_type": "stream",
          "name": "stderr",
          "text": [
            "[nltk_data] Downloading package wordnet to /root/nltk_data...\n",
            "[nltk_data]   Package wordnet is already up-to-date!\n",
            "[nltk_data] Downloading package stopwords to /root/nltk_data...\n",
            "[nltk_data]   Package stopwords is already up-to-date!\n",
            "[nltk_data] Downloading package punkt to /root/nltk_data...\n",
            "[nltk_data]   Package punkt is already up-to-date!\n"
          ]
        },
        {
          "output_type": "execute_result",
          "data": {
            "text/plain": [
              "True"
            ]
          },
          "metadata": {},
          "execution_count": 112
        }
      ]
    },
    {
      "cell_type": "markdown",
      "source": [
        "### csvデータの読み込み"
      ],
      "metadata": {
        "id": "cAwyuGrLZfTM"
      }
    },
    {
      "cell_type": "code",
      "source": [
        "train_df = pd.read_csv('/content/drive/MyDrive/会社/nishika/bokete/data/train.csv')\n",
        "test_df = pd.read_csv('/content/drive/MyDrive/会社/nishika/bokete/data/test.csv')\n",
        "submission_df = pd.read_csv('/content/drive/MyDrive/会社/nishika/bokete/data/sample_submission.csv')"
      ],
      "metadata": {
        "id": "CrbNSYH9W-HV"
      },
      "execution_count": 113,
      "outputs": []
    },
    {
      "cell_type": "markdown",
      "source": [
        "### 画像データの読み込みと、パスのデータフレームへの埋め込み"
      ],
      "metadata": {
        "id": "3Og5ZwVaZjAs"
      }
    },
    {
      "cell_type": "code",
      "source": [
        "# データのロード\n",
        "INPUT = \"/content/drive/MyDrive/会社/nishika/bokete/data\" # 所望のディレクトリに変更してください。\n",
        "train_image_path = \"/train/\"\n",
        "test_image_path = \"/test/\"\n",
        "\n",
        "# train_df[\"img_path\"] = train_image_path + train_df[\"odai_photo_file_name\"]\n",
        "# test_df[\"img_path\"] = test_image_path + test_df[\"odai_photo_file_name\"]\n",
        "\n",
        "# train, testデータのshapeの確認\n",
        "print(f\"train_data: {train_df.shape}\")\n",
        "display(train_df.head())\n",
        "\n",
        "print(f\"test_data: {test_df.shape}\")\n",
        "display(test_df.head())"
      ],
      "metadata": {
        "colab": {
          "base_uri": "https://localhost:8080/",
          "height": 431
        },
        "id": "RbJyEIVHZGtw",
        "outputId": "5c9dd572-5336-4734-de28-e138edc8f7c3"
      },
      "execution_count": 114,
      "outputs": [
        {
          "output_type": "stream",
          "name": "stdout",
          "text": [
            "train_data: (24962, 4)\n"
          ]
        },
        {
          "output_type": "display_data",
          "data": {
            "text/plain": [
              "          id odai_photo_file_name  \\\n",
              "0  ge5kssftl       9fkys1gb2r.jpg   \n",
              "1  r7sm6tvkj       c6ag0m1lak.jpg   \n",
              "2  yp5aze0bh       whtn6gb9ww.jpg   \n",
              "3  ujaixzo56       6yk5cwmrsy.jpg   \n",
              "4  7vkeveptl       0i9gsa2jsm.jpg   \n",
              "\n",
              "                                            text  is_laugh  \n",
              "0             君しょっちゅうソレ自慢するけど、ツムジ２個ってそんなに嬉しいのかい？         0  \n",
              "1                            これでバレない？授業中寝てもバレない？         0  \n",
              "2  「あなたも感じる？」\\n『ああ…、感じてる…』\\n「後ろに幽霊いるよね…」\\n『女のな…』         0  \n",
              "3                 大塚愛聞いてたらお腹減った…さく、らんぼと牛タン食べたい…          0  \n",
              "4                                    熊だと思ったら嫁だった         0  "
            ],
            "text/html": [
              "\n",
              "  <div id=\"df-35b958db-98d7-4866-b3aa-323548998a7c\">\n",
              "    <div class=\"colab-df-container\">\n",
              "      <div>\n",
              "<style scoped>\n",
              "    .dataframe tbody tr th:only-of-type {\n",
              "        vertical-align: middle;\n",
              "    }\n",
              "\n",
              "    .dataframe tbody tr th {\n",
              "        vertical-align: top;\n",
              "    }\n",
              "\n",
              "    .dataframe thead th {\n",
              "        text-align: right;\n",
              "    }\n",
              "</style>\n",
              "<table border=\"1\" class=\"dataframe\">\n",
              "  <thead>\n",
              "    <tr style=\"text-align: right;\">\n",
              "      <th></th>\n",
              "      <th>id</th>\n",
              "      <th>odai_photo_file_name</th>\n",
              "      <th>text</th>\n",
              "      <th>is_laugh</th>\n",
              "    </tr>\n",
              "  </thead>\n",
              "  <tbody>\n",
              "    <tr>\n",
              "      <th>0</th>\n",
              "      <td>ge5kssftl</td>\n",
              "      <td>9fkys1gb2r.jpg</td>\n",
              "      <td>君しょっちゅうソレ自慢するけど、ツムジ２個ってそんなに嬉しいのかい？</td>\n",
              "      <td>0</td>\n",
              "    </tr>\n",
              "    <tr>\n",
              "      <th>1</th>\n",
              "      <td>r7sm6tvkj</td>\n",
              "      <td>c6ag0m1lak.jpg</td>\n",
              "      <td>これでバレない？授業中寝てもバレない？</td>\n",
              "      <td>0</td>\n",
              "    </tr>\n",
              "    <tr>\n",
              "      <th>2</th>\n",
              "      <td>yp5aze0bh</td>\n",
              "      <td>whtn6gb9ww.jpg</td>\n",
              "      <td>「あなたも感じる？」\\n『ああ…、感じてる…』\\n「後ろに幽霊いるよね…」\\n『女のな…』</td>\n",
              "      <td>0</td>\n",
              "    </tr>\n",
              "    <tr>\n",
              "      <th>3</th>\n",
              "      <td>ujaixzo56</td>\n",
              "      <td>6yk5cwmrsy.jpg</td>\n",
              "      <td>大塚愛聞いてたらお腹減った…さく、らんぼと牛タン食べたい…</td>\n",
              "      <td>0</td>\n",
              "    </tr>\n",
              "    <tr>\n",
              "      <th>4</th>\n",
              "      <td>7vkeveptl</td>\n",
              "      <td>0i9gsa2jsm.jpg</td>\n",
              "      <td>熊だと思ったら嫁だった</td>\n",
              "      <td>0</td>\n",
              "    </tr>\n",
              "  </tbody>\n",
              "</table>\n",
              "</div>\n",
              "      <button class=\"colab-df-convert\" onclick=\"convertToInteractive('df-35b958db-98d7-4866-b3aa-323548998a7c')\"\n",
              "              title=\"Convert this dataframe to an interactive table.\"\n",
              "              style=\"display:none;\">\n",
              "        \n",
              "  <svg xmlns=\"http://www.w3.org/2000/svg\" height=\"24px\"viewBox=\"0 0 24 24\"\n",
              "       width=\"24px\">\n",
              "    <path d=\"M0 0h24v24H0V0z\" fill=\"none\"/>\n",
              "    <path d=\"M18.56 5.44l.94 2.06.94-2.06 2.06-.94-2.06-.94-.94-2.06-.94 2.06-2.06.94zm-11 1L8.5 8.5l.94-2.06 2.06-.94-2.06-.94L8.5 2.5l-.94 2.06-2.06.94zm10 10l.94 2.06.94-2.06 2.06-.94-2.06-.94-.94-2.06-.94 2.06-2.06.94z\"/><path d=\"M17.41 7.96l-1.37-1.37c-.4-.4-.92-.59-1.43-.59-.52 0-1.04.2-1.43.59L10.3 9.45l-7.72 7.72c-.78.78-.78 2.05 0 2.83L4 21.41c.39.39.9.59 1.41.59.51 0 1.02-.2 1.41-.59l7.78-7.78 2.81-2.81c.8-.78.8-2.07 0-2.86zM5.41 20L4 18.59l7.72-7.72 1.47 1.35L5.41 20z\"/>\n",
              "  </svg>\n",
              "      </button>\n",
              "      \n",
              "  <style>\n",
              "    .colab-df-container {\n",
              "      display:flex;\n",
              "      flex-wrap:wrap;\n",
              "      gap: 12px;\n",
              "    }\n",
              "\n",
              "    .colab-df-convert {\n",
              "      background-color: #E8F0FE;\n",
              "      border: none;\n",
              "      border-radius: 50%;\n",
              "      cursor: pointer;\n",
              "      display: none;\n",
              "      fill: #1967D2;\n",
              "      height: 32px;\n",
              "      padding: 0 0 0 0;\n",
              "      width: 32px;\n",
              "    }\n",
              "\n",
              "    .colab-df-convert:hover {\n",
              "      background-color: #E2EBFA;\n",
              "      box-shadow: 0px 1px 2px rgba(60, 64, 67, 0.3), 0px 1px 3px 1px rgba(60, 64, 67, 0.15);\n",
              "      fill: #174EA6;\n",
              "    }\n",
              "\n",
              "    [theme=dark] .colab-df-convert {\n",
              "      background-color: #3B4455;\n",
              "      fill: #D2E3FC;\n",
              "    }\n",
              "\n",
              "    [theme=dark] .colab-df-convert:hover {\n",
              "      background-color: #434B5C;\n",
              "      box-shadow: 0px 1px 3px 1px rgba(0, 0, 0, 0.15);\n",
              "      filter: drop-shadow(0px 1px 2px rgba(0, 0, 0, 0.3));\n",
              "      fill: #FFFFFF;\n",
              "    }\n",
              "  </style>\n",
              "\n",
              "      <script>\n",
              "        const buttonEl =\n",
              "          document.querySelector('#df-35b958db-98d7-4866-b3aa-323548998a7c button.colab-df-convert');\n",
              "        buttonEl.style.display =\n",
              "          google.colab.kernel.accessAllowed ? 'block' : 'none';\n",
              "\n",
              "        async function convertToInteractive(key) {\n",
              "          const element = document.querySelector('#df-35b958db-98d7-4866-b3aa-323548998a7c');\n",
              "          const dataTable =\n",
              "            await google.colab.kernel.invokeFunction('convertToInteractive',\n",
              "                                                     [key], {});\n",
              "          if (!dataTable) return;\n",
              "\n",
              "          const docLinkHtml = 'Like what you see? Visit the ' +\n",
              "            '<a target=\"_blank\" href=https://colab.research.google.com/notebooks/data_table.ipynb>data table notebook</a>'\n",
              "            + ' to learn more about interactive tables.';\n",
              "          element.innerHTML = '';\n",
              "          dataTable['output_type'] = 'display_data';\n",
              "          await google.colab.output.renderOutput(dataTable, element);\n",
              "          const docLink = document.createElement('div');\n",
              "          docLink.innerHTML = docLinkHtml;\n",
              "          element.appendChild(docLink);\n",
              "        }\n",
              "      </script>\n",
              "    </div>\n",
              "  </div>\n",
              "  "
            ]
          },
          "metadata": {}
        },
        {
          "output_type": "stream",
          "name": "stdout",
          "text": [
            "test_data: (6000, 3)\n"
          ]
        },
        {
          "output_type": "display_data",
          "data": {
            "text/plain": [
              "          id odai_photo_file_name  \\\n",
              "0  rfdjcfsqq       nc1kez326b.jpg   \n",
              "1  tsgqmfpef       49xt2fmjw0.jpg   \n",
              "2  owjcthkz2       9dtscjmyfh.jpg   \n",
              "3  rvgaocjyy       osa3n56tiv.jpg   \n",
              "4  uxtwu5i69       yb1yqs4pvb.jpg   \n",
              "\n",
              "                                                text  \n",
              "0                          僕のママ、キャラ弁のゆでたまごに８時間かかったんだ  \n",
              "1                                          かわいいが作れた！  \n",
              "2                                           来世の志茂田景樹  \n",
              "3                       ちょ、あの、オカン、これ水風呂やねんけど、なんの冗談??  \n",
              "4  「今日は皆さんにザリガニと消防車の違いを知ってもらいたいと思います」『どっちも同じだろ。両方...  "
            ],
            "text/html": [
              "\n",
              "  <div id=\"df-bc5d7ac2-7880-45fc-9496-844928806b50\">\n",
              "    <div class=\"colab-df-container\">\n",
              "      <div>\n",
              "<style scoped>\n",
              "    .dataframe tbody tr th:only-of-type {\n",
              "        vertical-align: middle;\n",
              "    }\n",
              "\n",
              "    .dataframe tbody tr th {\n",
              "        vertical-align: top;\n",
              "    }\n",
              "\n",
              "    .dataframe thead th {\n",
              "        text-align: right;\n",
              "    }\n",
              "</style>\n",
              "<table border=\"1\" class=\"dataframe\">\n",
              "  <thead>\n",
              "    <tr style=\"text-align: right;\">\n",
              "      <th></th>\n",
              "      <th>id</th>\n",
              "      <th>odai_photo_file_name</th>\n",
              "      <th>text</th>\n",
              "    </tr>\n",
              "  </thead>\n",
              "  <tbody>\n",
              "    <tr>\n",
              "      <th>0</th>\n",
              "      <td>rfdjcfsqq</td>\n",
              "      <td>nc1kez326b.jpg</td>\n",
              "      <td>僕のママ、キャラ弁のゆでたまごに８時間かかったんだ</td>\n",
              "    </tr>\n",
              "    <tr>\n",
              "      <th>1</th>\n",
              "      <td>tsgqmfpef</td>\n",
              "      <td>49xt2fmjw0.jpg</td>\n",
              "      <td>かわいいが作れた！</td>\n",
              "    </tr>\n",
              "    <tr>\n",
              "      <th>2</th>\n",
              "      <td>owjcthkz2</td>\n",
              "      <td>9dtscjmyfh.jpg</td>\n",
              "      <td>来世の志茂田景樹</td>\n",
              "    </tr>\n",
              "    <tr>\n",
              "      <th>3</th>\n",
              "      <td>rvgaocjyy</td>\n",
              "      <td>osa3n56tiv.jpg</td>\n",
              "      <td>ちょ、あの、オカン、これ水風呂やねんけど、なんの冗談??</td>\n",
              "    </tr>\n",
              "    <tr>\n",
              "      <th>4</th>\n",
              "      <td>uxtwu5i69</td>\n",
              "      <td>yb1yqs4pvb.jpg</td>\n",
              "      <td>「今日は皆さんにザリガニと消防車の違いを知ってもらいたいと思います」『どっちも同じだろ。両方...</td>\n",
              "    </tr>\n",
              "  </tbody>\n",
              "</table>\n",
              "</div>\n",
              "      <button class=\"colab-df-convert\" onclick=\"convertToInteractive('df-bc5d7ac2-7880-45fc-9496-844928806b50')\"\n",
              "              title=\"Convert this dataframe to an interactive table.\"\n",
              "              style=\"display:none;\">\n",
              "        \n",
              "  <svg xmlns=\"http://www.w3.org/2000/svg\" height=\"24px\"viewBox=\"0 0 24 24\"\n",
              "       width=\"24px\">\n",
              "    <path d=\"M0 0h24v24H0V0z\" fill=\"none\"/>\n",
              "    <path d=\"M18.56 5.44l.94 2.06.94-2.06 2.06-.94-2.06-.94-.94-2.06-.94 2.06-2.06.94zm-11 1L8.5 8.5l.94-2.06 2.06-.94-2.06-.94L8.5 2.5l-.94 2.06-2.06.94zm10 10l.94 2.06.94-2.06 2.06-.94-2.06-.94-.94-2.06-.94 2.06-2.06.94z\"/><path d=\"M17.41 7.96l-1.37-1.37c-.4-.4-.92-.59-1.43-.59-.52 0-1.04.2-1.43.59L10.3 9.45l-7.72 7.72c-.78.78-.78 2.05 0 2.83L4 21.41c.39.39.9.59 1.41.59.51 0 1.02-.2 1.41-.59l7.78-7.78 2.81-2.81c.8-.78.8-2.07 0-2.86zM5.41 20L4 18.59l7.72-7.72 1.47 1.35L5.41 20z\"/>\n",
              "  </svg>\n",
              "      </button>\n",
              "      \n",
              "  <style>\n",
              "    .colab-df-container {\n",
              "      display:flex;\n",
              "      flex-wrap:wrap;\n",
              "      gap: 12px;\n",
              "    }\n",
              "\n",
              "    .colab-df-convert {\n",
              "      background-color: #E8F0FE;\n",
              "      border: none;\n",
              "      border-radius: 50%;\n",
              "      cursor: pointer;\n",
              "      display: none;\n",
              "      fill: #1967D2;\n",
              "      height: 32px;\n",
              "      padding: 0 0 0 0;\n",
              "      width: 32px;\n",
              "    }\n",
              "\n",
              "    .colab-df-convert:hover {\n",
              "      background-color: #E2EBFA;\n",
              "      box-shadow: 0px 1px 2px rgba(60, 64, 67, 0.3), 0px 1px 3px 1px rgba(60, 64, 67, 0.15);\n",
              "      fill: #174EA6;\n",
              "    }\n",
              "\n",
              "    [theme=dark] .colab-df-convert {\n",
              "      background-color: #3B4455;\n",
              "      fill: #D2E3FC;\n",
              "    }\n",
              "\n",
              "    [theme=dark] .colab-df-convert:hover {\n",
              "      background-color: #434B5C;\n",
              "      box-shadow: 0px 1px 3px 1px rgba(0, 0, 0, 0.15);\n",
              "      filter: drop-shadow(0px 1px 2px rgba(0, 0, 0, 0.3));\n",
              "      fill: #FFFFFF;\n",
              "    }\n",
              "  </style>\n",
              "\n",
              "      <script>\n",
              "        const buttonEl =\n",
              "          document.querySelector('#df-bc5d7ac2-7880-45fc-9496-844928806b50 button.colab-df-convert');\n",
              "        buttonEl.style.display =\n",
              "          google.colab.kernel.accessAllowed ? 'block' : 'none';\n",
              "\n",
              "        async function convertToInteractive(key) {\n",
              "          const element = document.querySelector('#df-bc5d7ac2-7880-45fc-9496-844928806b50');\n",
              "          const dataTable =\n",
              "            await google.colab.kernel.invokeFunction('convertToInteractive',\n",
              "                                                     [key], {});\n",
              "          if (!dataTable) return;\n",
              "\n",
              "          const docLinkHtml = 'Like what you see? Visit the ' +\n",
              "            '<a target=\"_blank\" href=https://colab.research.google.com/notebooks/data_table.ipynb>data table notebook</a>'\n",
              "            + ' to learn more about interactive tables.';\n",
              "          element.innerHTML = '';\n",
              "          dataTable['output_type'] = 'display_data';\n",
              "          await google.colab.output.renderOutput(dataTable, element);\n",
              "          const docLink = document.createElement('div');\n",
              "          docLink.innerHTML = docLinkHtml;\n",
              "          element.appendChild(docLink);\n",
              "        }\n",
              "      </script>\n",
              "    </div>\n",
              "  </div>\n",
              "  "
            ]
          },
          "metadata": {}
        }
      ]
    },
    {
      "cell_type": "code",
      "source": [
        "# 目的変数の分布を確認する\n",
        "sns.countplot(x=\"is_laugh\", data=train_df)"
      ],
      "metadata": {
        "colab": {
          "base_uri": "https://localhost:8080/",
          "height": 295
        },
        "id": "rnezFX_Q9ZWs",
        "outputId": "9af7c3a2-f7de-453c-ac89-6d198a1056ef"
      },
      "execution_count": 115,
      "outputs": [
        {
          "output_type": "execute_result",
          "data": {
            "text/plain": [
              "<matplotlib.axes._subplots.AxesSubplot at 0x7f265eefdf90>"
            ]
          },
          "metadata": {},
          "execution_count": 115
        },
        {
          "output_type": "display_data",
          "data": {
            "text/plain": [
              "<Figure size 432x288 with 1 Axes>"
            ],
            "image/png": "[encoded data removed]"
          },
          "metadata": {
            "needs_background": "light"
          }
        }
      ]
    },
    {
      "cell_type": "code",
      "source": [
        "train_df[\"is_laugh\"].value_counts()"
      ],
      "metadata": {
        "colab": {
          "base_uri": "https://localhost:8080/"
        },
        "id": "oiewCCyR9s0P",
        "outputId": "0af1df77-f311-4c42-c795-8654e75b639f"
      },
      "execution_count": 116,
      "outputs": [
        {
          "output_type": "execute_result",
          "data": {
            "text/plain": [
              "0    12481\n",
              "1    12481\n",
              "Name: is_laugh, dtype: int64"
            ]
          },
          "metadata": {},
          "execution_count": 116
        }
      ]
    },
    {
      "cell_type": "code",
      "source": [
        "# 画像の重複があるか確認する\n",
        "print(train_df[\"odai_photo_file_name\"].duplicated().sum())\n",
        "print(test_df[\"odai_photo_file_name\"].duplicated().sum())"
      ],
      "metadata": {
        "colab": {
          "base_uri": "https://localhost:8080/"
        },
        "id": "ZHS2Ua729zdg",
        "outputId": "83bd3c03-f89a-434c-900e-049309826b27"
      },
      "execution_count": 117,
      "outputs": [
        {
          "output_type": "stream",
          "name": "stdout",
          "text": [
            "0\n",
            "0\n"
          ]
        }
      ]
    },
    {
      "cell_type": "code",
      "source": [
        "# 文書の長さとflagの関係を確認する\n",
        "train_df[\"text_len\"] = train_df[\"text\"].str.len()\n",
        "test_df[\"text_len\"] = test_df[\"text\"].str.len()\n",
        "\n",
        "sns.boxplot(x=\"is_laugh\", y=\"text_len\", data=train_df)"
      ],
      "metadata": {
        "colab": {
          "base_uri": "https://localhost:8080/",
          "height": 295
        },
        "id": "KCQboUfw92j7",
        "outputId": "6b4fa977-b5ce-40bc-f722-479033fad2b2"
      },
      "execution_count": 118,
      "outputs": [
        {
          "output_type": "execute_result",
          "data": {
            "text/plain": [
              "<matplotlib.axes._subplots.AxesSubplot at 0x7f265ef11d10>"
            ]
          },
          "metadata": {},
          "execution_count": 118
        },
        {
          "output_type": "display_data",
          "data": {
            "text/plain": [
              "<Figure size 432x288 with 1 Axes>"
            ],
            "image/png": "[encoded data removed]"
          },
          "metadata": {
            "needs_background": "light"
          }
        }
      ]
    },
    {
      "cell_type": "markdown",
      "source": [
        "画像のデータを特徴量として用いる"
      ],
      "metadata": {
        "id": "uzT8uDEtjsu0"
      }
    },
    {
      "cell_type": "code",
      "source": [
        "import numpy as np\n",
        "import cv2\n",
        "from keras.models import Model\n",
        "from keras.layers import GlobalAveragePooling2D, Input, Lambda, AveragePooling1D\n",
        "import keras.backend as K\n",
        "from tqdm import tqdm, tqdm_notebook\n",
        "from keras.applications.densenet import preprocess_input, DenseNet121"
      ],
      "metadata": {
        "id": "6AMsBtcBbqIa"
      },
      "execution_count": 119,
      "outputs": []
    },
    {
      "cell_type": "code",
      "source": [
        "class CFG:# 単に変数を格納するだけのクラス\n",
        "    img_size = 224\n",
        "    batch_size = 17"
      ],
      "metadata": {
        "id": "gkPbrmSPjyg9"
      },
      "execution_count": 120,
      "outputs": []
    },
    {
      "cell_type": "code",
      "source": [
        "# 入力された画像変数を224x224の正方形に整形する関数\n",
        "def resize_to_square(im):\n",
        "    old_size = im.shape[:2] \n",
        "    ratio = float(CFG.img_size)/max(old_size)\n",
        "    new_size = tuple([int(x*ratio) for x in old_size])\n",
        "    # 画像サイズを224×224に変更します\n",
        "    im = cv2.resize(im, (new_size[1], new_size[0]))\n",
        "    delta_w = CFG.img_size - new_size[1]\n",
        "    delta_h = CFG.img_size - new_size[0]\n",
        "    top, bottom = delta_h//2, delta_h-(delta_h//2)\n",
        "    left, right = delta_w//2, delta_w-(delta_w//2)\n",
        "    color = [0, 0, 0]\n",
        "    new_im = cv2.copyMakeBorder(im, top, bottom, left, right, cv2.BORDER_CONSTANT,value=color)\n",
        "    return new_im\n",
        "\n",
        "# 画像データの読み込み用の関数\n",
        "def load_image(ids, is_train=True):\n",
        "  if is_train:\n",
        "    image = cv2.imread(train_image_path+ids)# ここで画像を読み込んでいる・・・？\n",
        "  else:\n",
        "    image = cv2.imread(test_image_path+ids)\n",
        "  new_image = resize_to_square(image)\n",
        "  new_image = preprocess_input(new_image)\n",
        "  return new_image"
      ],
      "metadata": {
        "id": "IQGwBKnFj2dR"
      },
      "execution_count": 121,
      "outputs": []
    },
    {
      "cell_type": "code",
      "source": [
        "#謎の処理\n",
        "inp = Input((224,224,3))\n",
        "backbone = DenseNet121(input_tensor = inp, include_top = False)\n",
        "x = backbone.output\n",
        "x = GlobalAveragePooling2D()(x)\n",
        "x = Lambda(lambda x: K.expand_dims(x,axis = -1))(x)\n",
        "x = AveragePooling1D(4)(x)\n",
        "out = Lambda(lambda x: x[:,:,0])(x)\n",
        "\n",
        "m = Model(inp,out)"
      ],
      "metadata": {
        "id": "Wx3b7dOQkYHD"
      },
      "execution_count": 122,
      "outputs": []
    },
    {
      "cell_type": "code",
      "source": [
        "image_df_train = train_df[[\"id\", \"odai_photo_file_name\"]].copy()\n",
        "image_df_train.head()"
      ],
      "metadata": {
        "colab": {
          "base_uri": "https://localhost:8080/",
          "height": 206
        },
        "id": "5oDdxNX6khDZ",
        "outputId": "c79aa949-2b04-4fd6-dfe9-c1920acc1ab1"
      },
      "execution_count": 123,
      "outputs": [
        {
          "output_type": "execute_result",
          "data": {
            "text/plain": [
              "          id odai_photo_file_name\n",
              "0  ge5kssftl       9fkys1gb2r.jpg\n",
              "1  r7sm6tvkj       c6ag0m1lak.jpg\n",
              "2  yp5aze0bh       whtn6gb9ww.jpg\n",
              "3  ujaixzo56       6yk5cwmrsy.jpg\n",
              "4  7vkeveptl       0i9gsa2jsm.jpg"
            ],
            "text/html": [
              "\n",
              "  <div id=\"df-d3682716-bcc9-478b-86f1-be3291023f1d\">\n",
              "    <div class=\"colab-df-container\">\n",
              "      <div>\n",
              "<style scoped>\n",
              "    .dataframe tbody tr th:only-of-type {\n",
              "        vertical-align: middle;\n",
              "    }\n",
              "\n",
              "    .dataframe tbody tr th {\n",
              "        vertical-align: top;\n",
              "    }\n",
              "\n",
              "    .dataframe thead th {\n",
              "        text-align: right;\n",
              "    }\n",
              "</style>\n",
              "<table border=\"1\" class=\"dataframe\">\n",
              "  <thead>\n",
              "    <tr style=\"text-align: right;\">\n",
              "      <th></th>\n",
              "      <th>id</th>\n",
              "      <th>odai_photo_file_name</th>\n",
              "    </tr>\n",
              "  </thead>\n",
              "  <tbody>\n",
              "    <tr>\n",
              "      <th>0</th>\n",
              "      <td>ge5kssftl</td>\n",
              "      <td>9fkys1gb2r.jpg</td>\n",
              "    </tr>\n",
              "    <tr>\n",
              "      <th>1</th>\n",
              "      <td>r7sm6tvkj</td>\n",
              "      <td>c6ag0m1lak.jpg</td>\n",
              "    </tr>\n",
              "    <tr>\n",
              "      <th>2</th>\n",
              "      <td>yp5aze0bh</td>\n",
              "      <td>whtn6gb9ww.jpg</td>\n",
              "    </tr>\n",
              "    <tr>\n",
              "      <th>3</th>\n",
              "      <td>ujaixzo56</td>\n",
              "      <td>6yk5cwmrsy.jpg</td>\n",
              "    </tr>\n",
              "    <tr>\n",
              "      <th>4</th>\n",
              "      <td>7vkeveptl</td>\n",
              "      <td>0i9gsa2jsm.jpg</td>\n",
              "    </tr>\n",
              "  </tbody>\n",
              "</table>\n",
              "</div>\n",
              "      <button class=\"colab-df-convert\" onclick=\"convertToInteractive('df-d3682716-bcc9-478b-86f1-be3291023f1d')\"\n",
              "              title=\"Convert this dataframe to an interactive table.\"\n",
              "              style=\"display:none;\">\n",
              "        \n",
              "  <svg xmlns=\"http://www.w3.org/2000/svg\" height=\"24px\"viewBox=\"0 0 24 24\"\n",
              "       width=\"24px\">\n",
              "    <path d=\"M0 0h24v24H0V0z\" fill=\"none\"/>\n",
              "    <path d=\"M18.56 5.44l.94 2.06.94-2.06 2.06-.94-2.06-.94-.94-2.06-.94 2.06-2.06.94zm-11 1L8.5 8.5l.94-2.06 2.06-.94-2.06-.94L8.5 2.5l-.94 2.06-2.06.94zm10 10l.94 2.06.94-2.06 2.06-.94-2.06-.94-.94-2.06-.94 2.06-2.06.94z\"/><path d=\"M17.41 7.96l-1.37-1.37c-.4-.4-.92-.59-1.43-.59-.52 0-1.04.2-1.43.59L10.3 9.45l-7.72 7.72c-.78.78-.78 2.05 0 2.83L4 21.41c.39.39.9.59 1.41.59.51 0 1.02-.2 1.41-.59l7.78-7.78 2.81-2.81c.8-.78.8-2.07 0-2.86zM5.41 20L4 18.59l7.72-7.72 1.47 1.35L5.41 20z\"/>\n",
              "  </svg>\n",
              "      </button>\n",
              "      \n",
              "  <style>\n",
              "    .colab-df-container {\n",
              "      display:flex;\n",
              "      flex-wrap:wrap;\n",
              "      gap: 12px;\n",
              "    }\n",
              "\n",
              "    .colab-df-convert {\n",
              "      background-color: #E8F0FE;\n",
              "      border: none;\n",
              "      border-radius: 50%;\n",
              "      cursor: pointer;\n",
              "      display: none;\n",
              "      fill: #1967D2;\n",
              "      height: 32px;\n",
              "      padding: 0 0 0 0;\n",
              "      width: 32px;\n",
              "    }\n",
              "\n",
              "    .colab-df-convert:hover {\n",
              "      background-color: #E2EBFA;\n",
              "      box-shadow: 0px 1px 2px rgba(60, 64, 67, 0.3), 0px 1px 3px 1px rgba(60, 64, 67, 0.15);\n",
              "      fill: #174EA6;\n",
              "    }\n",
              "\n",
              "    [theme=dark] .colab-df-convert {\n",
              "      background-color: #3B4455;\n",
              "      fill: #D2E3FC;\n",
              "    }\n",
              "\n",
              "    [theme=dark] .colab-df-convert:hover {\n",
              "      background-color: #434B5C;\n",
              "      box-shadow: 0px 1px 3px 1px rgba(0, 0, 0, 0.15);\n",
              "      filter: drop-shadow(0px 1px 2px rgba(0, 0, 0, 0.3));\n",
              "      fill: #FFFFFF;\n",
              "    }\n",
              "  </style>\n",
              "\n",
              "      <script>\n",
              "        const buttonEl =\n",
              "          document.querySelector('#df-d3682716-bcc9-478b-86f1-be3291023f1d button.colab-df-convert');\n",
              "        buttonEl.style.display =\n",
              "          google.colab.kernel.accessAllowed ? 'block' : 'none';\n",
              "\n",
              "        async function convertToInteractive(key) {\n",
              "          const element = document.querySelector('#df-d3682716-bcc9-478b-86f1-be3291023f1d');\n",
              "          const dataTable =\n",
              "            await google.colab.kernel.invokeFunction('convertToInteractive',\n",
              "                                                     [key], {});\n",
              "          if (!dataTable) return;\n",
              "\n",
              "          const docLinkHtml = 'Like what you see? Visit the ' +\n",
              "            '<a target=\"_blank\" href=https://colab.research.google.com/notebooks/data_table.ipynb>data table notebook</a>'\n",
              "            + ' to learn more about interactive tables.';\n",
              "          element.innerHTML = '';\n",
              "          dataTable['output_type'] = 'display_data';\n",
              "          await google.colab.output.renderOutput(dataTable, element);\n",
              "          const docLink = document.createElement('div');\n",
              "          docLink.innerHTML = docLinkHtml;\n",
              "          element.appendChild(docLink);\n",
              "        }\n",
              "      </script>\n",
              "    </div>\n",
              "  </div>\n",
              "  "
            ]
          },
          "metadata": {},
          "execution_count": 123
        }
      ]
    },
    {
      "cell_type": "code",
      "source": [
        "image_ids = image_df_train[\"odai_photo_file_name\"].values\n",
        "n_batches = len(image_ids) // CFG.batch_size + 1\n",
        "#　n_batchesは何を意味している？"
      ],
      "metadata": {
        "id": "VsleKLiElNTK"
      },
      "execution_count": 124,
      "outputs": []
    },
    {
      "cell_type": "code",
      "source": [
        "# 謎の処理\n",
        "features = {}\n",
        "for b in tqdm(range(n_batches)):\n",
        "    start = b*CFG.batch_size\n",
        "    end = (b+1)*CFG.batch_size\n",
        "    batch_ids = image_ids[start:end]\n",
        "    batch_images = np.zeros((len(batch_ids),CFG.img_size,CFG.img_size,3))\n",
        "    for i,image_id in enumerate(batch_ids):\n",
        "        try:\n",
        "            batch_images[i] = load_image(image_id)\n",
        "        except:\n",
        "          print(\"Error\")\n",
        "    batch_preds = m.predict(batch_images) #この段階で既に予測をしている？何を予測している？？\n",
        "    for i,image_id in enumerate(batch_ids):\n",
        "        features[image_id] = batch_preds[i]"
      ],
      "metadata": {
        "colab": {
          "base_uri": "https://localhost:8080/",
          "height": 1000
        },
        "id": "mQyypVi1lY2V",
        "outputId": "6b70eae2-a481-46b3-b231-57e86c4d1fd6"
      },
      "execution_count": 125,
      "outputs": [
        {
          "output_type": "stream",
          "name": "stderr",
          "text": [
            "\r  0%|          | 0/1469 [00:00<?, ?it/s]"
          ]
        },
        {
          "output_type": "stream",
          "name": "stdout",
          "text": [
            "Error\n",
            "Error\n",
            "Error\n",
            "Error\n",
            "Error\n",
            "Error\n",
            "Error\n",
            "Error\n",
            "Error\n",
            "Error\n",
            "Error\n",
            "Error\n",
            "Error\n",
            "Error\n",
            "Error\n",
            "Error\n",
            "Error\n"
          ]
        },
        {
          "output_type": "stream",
          "name": "stderr",
          "text": [
            "  0%|          | 2/1469 [00:01<19:57,  1.22it/s]"
          ]
        },
        {
          "output_type": "stream",
          "name": "stdout",
          "text": [
            "Error\n",
            "Error\n",
            "Error\n",
            "Error\n",
            "Error\n",
            "Error\n",
            "Error\n",
            "Error\n",
            "Error\n",
            "Error\n",
            "Error\n",
            "Error\n",
            "Error\n",
            "Error\n",
            "Error\n",
            "Error\n",
            "Error\n",
            "Error\n",
            "Error\n",
            "Error\n",
            "Error\n",
            "Error\n",
            "Error\n",
            "Error\n",
            "Error\n",
            "Error\n",
            "Error\n",
            "Error\n",
            "Error\n",
            "Error\n",
            "Error\n",
            "Error\n",
            "Error\n",
            "Error\n"
          ]
        },
        {
          "output_type": "stream",
          "name": "stderr",
          "text": [
            "  0%|          | 4/1469 [00:02<08:45,  2.79it/s]"
          ]
        },
        {
          "output_type": "stream",
          "name": "stdout",
          "text": [
            "Error\n",
            "Error\n",
            "Error\n",
            "Error\n",
            "Error\n",
            "Error\n",
            "Error\n",
            "Error\n",
            "Error\n",
            "Error\n",
            "Error\n",
            "Error\n",
            "Error\n",
            "Error\n",
            "Error\n",
            "Error\n",
            "Error\n",
            "Error\n",
            "Error\n",
            "Error\n",
            "Error\n",
            "Error\n",
            "Error\n",
            "Error\n",
            "Error\n",
            "Error\n",
            "Error\n",
            "Error\n",
            "Error\n",
            "Error\n",
            "Error\n",
            "Error\n",
            "Error\n",
            "Error\n"
          ]
        },
        {
          "output_type": "stream",
          "name": "stderr",
          "text": [
            "  0%|          | 6/1469 [00:02<05:33,  4.39it/s]"
          ]
        },
        {
          "output_type": "stream",
          "name": "stdout",
          "text": [
            "Error\n",
            "Error\n",
            "Error\n",
            "Error\n",
            "Error\n",
            "Error\n",
            "Error\n",
            "Error\n",
            "Error\n",
            "Error\n",
            "Error\n",
            "Error\n",
            "Error\n",
            "Error\n",
            "Error\n",
            "Error\n",
            "Error\n",
            "Error\n",
            "Error\n",
            "Error\n",
            "Error\n",
            "Error\n",
            "Error\n",
            "Error\n",
            "Error\n",
            "Error\n",
            "Error\n",
            "Error\n",
            "Error\n",
            "Error\n",
            "Error\n",
            "Error\n",
            "Error\n",
            "Error\n"
          ]
        },
        {
          "output_type": "stream",
          "name": "stderr",
          "text": [
            "  1%|          | 8/1469 [00:02<04:16,  5.69it/s]"
          ]
        },
        {
          "output_type": "stream",
          "name": "stdout",
          "text": [
            "Error\n",
            "Error\n",
            "Error\n",
            "Error\n",
            "Error\n",
            "Error\n",
            "Error\n",
            "Error\n",
            "Error\n",
            "Error\n",
            "Error\n",
            "Error\n",
            "Error\n",
            "Error\n",
            "Error\n",
            "Error\n",
            "Error\n",
            "Error\n",
            "Error\n",
            "Error\n",
            "Error\n",
            "Error\n",
            "Error\n",
            "Error\n",
            "Error\n",
            "Error\n",
            "Error\n",
            "Error\n",
            "Error\n",
            "Error\n",
            "Error\n",
            "Error\n",
            "Error\n",
            "Error\n"
          ]
        },
        {
          "output_type": "stream",
          "name": "stderr",
          "text": [
            "  1%|          | 10/1469 [00:03<04:04,  5.96it/s]"
          ]
        },
        {
          "output_type": "stream",
          "name": "stdout",
          "text": [
            "Error\n",
            "Error\n",
            "Error\n",
            "Error\n",
            "Error\n",
            "Error\n",
            "Error\n",
            "Error\n",
            "Error\n",
            "Error\n",
            "Error\n",
            "Error\n",
            "Error\n",
            "Error\n",
            "Error\n",
            "Error\n",
            "Error\n",
            "Error\n",
            "Error\n",
            "Error\n",
            "Error\n",
            "Error\n",
            "Error\n",
            "Error\n",
            "Error\n",
            "Error\n",
            "Error\n",
            "Error\n",
            "Error\n",
            "Error\n",
            "Error\n",
            "Error\n",
            "Error\n",
            "Error\n"
          ]
        },
        {
          "output_type": "stream",
          "name": "stderr",
          "text": [
            "  1%|          | 12/1469 [00:03<03:35,  6.75it/s]"
          ]
        },
        {
          "output_type": "stream",
          "name": "stdout",
          "text": [
            "Error\n",
            "Error\n",
            "Error\n",
            "Error\n",
            "Error\n",
            "Error\n",
            "Error\n",
            "Error\n",
            "Error\n",
            "Error\n",
            "Error\n",
            "Error\n",
            "Error\n",
            "Error\n",
            "Error\n",
            "Error\n",
            "Error\n",
            "Error\n",
            "Error\n",
            "Error\n",
            "Error\n",
            "Error\n",
            "Error\n",
            "Error\n",
            "Error\n",
            "Error\n",
            "Error\n",
            "Error\n",
            "Error\n",
            "Error\n",
            "Error\n",
            "Error\n",
            "Error\n",
            "Error\n"
          ]
        },
        {
          "output_type": "stream",
          "name": "stderr",
          "text": [
            "  1%|          | 14/1469 [00:03<03:21,  7.22it/s]"
          ]
        },
        {
          "output_type": "stream",
          "name": "stdout",
          "text": [
            "Error\n",
            "Error\n",
            "Error\n",
            "Error\n",
            "Error\n",
            "Error\n",
            "Error\n",
            "Error\n",
            "Error\n",
            "Error\n",
            "Error\n",
            "Error\n",
            "Error\n",
            "Error\n",
            "Error\n",
            "Error\n",
            "Error\n",
            "Error\n",
            "Error\n",
            "Error\n",
            "Error\n",
            "Error\n",
            "Error\n",
            "Error\n",
            "Error\n",
            "Error\n",
            "Error\n",
            "Error\n",
            "Error\n",
            "Error\n",
            "Error\n",
            "Error\n",
            "Error\n",
            "Error\n"
          ]
        },
        {
          "output_type": "stream",
          "name": "stderr",
          "text": [
            "  1%|          | 16/1469 [00:03<03:13,  7.53it/s]"
          ]
        },
        {
          "output_type": "stream",
          "name": "stdout",
          "text": [
            "Error\n",
            "Error\n",
            "Error\n",
            "Error\n",
            "Error\n",
            "Error\n",
            "Error\n",
            "Error\n",
            "Error\n",
            "Error\n",
            "Error\n",
            "Error\n",
            "Error\n",
            "Error\n",
            "Error\n",
            "Error\n",
            "Error\n",
            "Error\n",
            "Error\n",
            "Error\n",
            "Error\n",
            "Error\n",
            "Error\n",
            "Error\n",
            "Error\n",
            "Error\n",
            "Error\n",
            "Error\n",
            "Error\n",
            "Error\n",
            "Error\n",
            "Error\n",
            "Error\n",
            "Error\n"
          ]
        },
        {
          "output_type": "stream",
          "name": "stderr",
          "text": [
            "  1%|          | 18/1469 [00:04<03:11,  7.56it/s]"
          ]
        },
        {
          "output_type": "stream",
          "name": "stdout",
          "text": [
            "Error\n",
            "Error\n",
            "Error\n",
            "Error\n",
            "Error\n",
            "Error\n",
            "Error\n",
            "Error\n",
            "Error\n",
            "Error\n",
            "Error\n",
            "Error\n",
            "Error\n",
            "Error\n",
            "Error\n",
            "Error\n",
            "Error\n",
            "Error\n",
            "Error\n",
            "Error\n",
            "Error\n",
            "Error\n",
            "Error\n",
            "Error\n",
            "Error\n",
            "Error\n",
            "Error\n",
            "Error\n",
            "Error\n",
            "Error\n",
            "Error\n",
            "Error\n",
            "Error\n",
            "Error\n"
          ]
        },
        {
          "output_type": "stream",
          "name": "stderr",
          "text": [
            "  1%|▏         | 20/1469 [00:04<03:10,  7.62it/s]"
          ]
        },
        {
          "output_type": "stream",
          "name": "stdout",
          "text": [
            "Error\n",
            "Error\n",
            "Error\n",
            "Error\n",
            "Error\n",
            "Error\n",
            "Error\n",
            "Error\n",
            "Error\n",
            "Error\n",
            "Error\n",
            "Error\n",
            "Error\n",
            "Error\n",
            "Error\n",
            "Error\n",
            "Error\n",
            "Error\n",
            "Error\n",
            "Error\n",
            "Error\n",
            "Error\n",
            "Error\n",
            "Error\n",
            "Error\n",
            "Error\n",
            "Error\n",
            "Error\n",
            "Error\n",
            "Error\n",
            "Error\n",
            "Error\n",
            "Error\n",
            "Error\n"
          ]
        },
        {
          "output_type": "stream",
          "name": "stderr",
          "text": [
            "  1%|▏         | 22/1469 [00:04<03:04,  7.84it/s]"
          ]
        },
        {
          "output_type": "stream",
          "name": "stdout",
          "text": [
            "Error\n",
            "Error\n",
            "Error\n",
            "Error\n",
            "Error\n",
            "Error\n",
            "Error\n",
            "Error\n",
            "Error\n",
            "Error\n",
            "Error\n",
            "Error\n",
            "Error\n",
            "Error\n",
            "Error\n",
            "Error\n",
            "Error\n",
            "Error\n",
            "Error\n",
            "Error\n",
            "Error\n",
            "Error\n",
            "Error\n",
            "Error\n",
            "Error\n",
            "Error\n",
            "Error\n",
            "Error\n",
            "Error\n",
            "Error\n",
            "Error\n",
            "Error\n",
            "Error\n",
            "Error\n"
          ]
        },
        {
          "output_type": "stream",
          "name": "stderr",
          "text": [
            "  2%|▏         | 24/1469 [00:04<02:58,  8.11it/s]"
          ]
        },
        {
          "output_type": "stream",
          "name": "stdout",
          "text": [
            "Error\n",
            "Error\n",
            "Error\n",
            "Error\n",
            "Error\n",
            "Error\n",
            "Error\n",
            "Error\n",
            "Error\n",
            "Error\n",
            "Error\n",
            "Error\n",
            "Error\n",
            "Error\n",
            "Error\n",
            "Error\n",
            "Error\n",
            "Error\n",
            "Error\n",
            "Error\n",
            "Error\n",
            "Error\n",
            "Error\n",
            "Error\n",
            "Error\n",
            "Error\n",
            "Error\n",
            "Error\n",
            "Error\n",
            "Error\n",
            "Error\n",
            "Error\n",
            "Error\n",
            "Error\n"
          ]
        },
        {
          "output_type": "stream",
          "name": "stderr",
          "text": [
            "  2%|▏         | 26/1469 [00:05<03:09,  7.63it/s]"
          ]
        },
        {
          "output_type": "stream",
          "name": "stdout",
          "text": [
            "Error\n",
            "Error\n",
            "Error\n",
            "Error\n",
            "Error\n",
            "Error\n",
            "Error\n",
            "Error\n",
            "Error\n",
            "Error\n",
            "Error\n",
            "Error\n",
            "Error\n",
            "Error\n",
            "Error\n",
            "Error\n",
            "Error\n",
            "Error\n",
            "Error\n",
            "Error\n",
            "Error\n",
            "Error\n",
            "Error\n",
            "Error\n",
            "Error\n",
            "Error\n",
            "Error\n",
            "Error\n",
            "Error\n",
            "Error\n",
            "Error\n",
            "Error\n",
            "Error\n",
            "Error\n"
          ]
        },
        {
          "output_type": "stream",
          "name": "stderr",
          "text": [
            "  2%|▏         | 28/1469 [00:05<03:13,  7.44it/s]"
          ]
        },
        {
          "output_type": "stream",
          "name": "stdout",
          "text": [
            "Error\n",
            "Error\n",
            "Error\n",
            "Error\n",
            "Error\n",
            "Error\n",
            "Error\n",
            "Error\n",
            "Error\n",
            "Error\n",
            "Error\n",
            "Error\n",
            "Error\n",
            "Error\n",
            "Error\n",
            "Error\n",
            "Error\n",
            "Error\n",
            "Error\n",
            "Error\n",
            "Error\n",
            "Error\n",
            "Error\n",
            "Error\n",
            "Error\n",
            "Error\n",
            "Error\n",
            "Error\n",
            "Error\n",
            "Error\n",
            "Error\n",
            "Error\n",
            "Error\n",
            "Error\n"
          ]
        },
        {
          "output_type": "stream",
          "name": "stderr",
          "text": [
            "  2%|▏         | 30/1469 [00:05<03:04,  7.80it/s]"
          ]
        },
        {
          "output_type": "stream",
          "name": "stdout",
          "text": [
            "Error\n",
            "Error\n",
            "Error\n",
            "Error\n",
            "Error\n",
            "Error\n",
            "Error\n",
            "Error\n",
            "Error\n",
            "Error\n",
            "Error\n",
            "Error\n",
            "Error\n",
            "Error\n",
            "Error\n",
            "Error\n",
            "Error\n",
            "Error\n",
            "Error\n",
            "Error\n",
            "Error\n",
            "Error\n",
            "Error\n",
            "Error\n",
            "Error\n",
            "Error\n",
            "Error\n",
            "Error\n",
            "Error\n",
            "Error\n",
            "Error\n",
            "Error\n",
            "Error\n",
            "Error\n"
          ]
        },
        {
          "output_type": "stream",
          "name": "stderr",
          "text": [
            "  2%|▏         | 32/1469 [00:05<03:04,  7.78it/s]"
          ]
        },
        {
          "output_type": "stream",
          "name": "stdout",
          "text": [
            "Error\n",
            "Error\n",
            "Error\n",
            "Error\n",
            "Error\n",
            "Error\n",
            "Error\n",
            "Error\n",
            "Error\n",
            "Error\n",
            "Error\n",
            "Error\n",
            "Error\n",
            "Error\n",
            "Error\n",
            "Error\n",
            "Error\n",
            "Error\n",
            "Error\n",
            "Error\n",
            "Error\n",
            "Error\n",
            "Error\n",
            "Error\n",
            "Error\n",
            "Error\n",
            "Error\n",
            "Error\n",
            "Error\n",
            "Error\n",
            "Error\n",
            "Error\n",
            "Error\n",
            "Error\n"
          ]
        },
        {
          "output_type": "stream",
          "name": "stderr",
          "text": [
            "  2%|▏         | 34/1469 [00:06<03:17,  7.28it/s]"
          ]
        },
        {
          "output_type": "stream",
          "name": "stdout",
          "text": [
            "Error\n",
            "Error\n",
            "Error\n",
            "Error\n",
            "Error\n",
            "Error\n",
            "Error\n",
            "Error\n",
            "Error\n",
            "Error\n",
            "Error\n",
            "Error\n",
            "Error\n",
            "Error\n",
            "Error\n",
            "Error\n",
            "Error\n",
            "Error\n",
            "Error\n",
            "Error\n",
            "Error\n",
            "Error\n",
            "Error\n",
            "Error\n",
            "Error\n",
            "Error\n",
            "Error\n",
            "Error\n",
            "Error\n",
            "Error\n",
            "Error\n",
            "Error\n",
            "Error\n",
            "Error\n"
          ]
        },
        {
          "output_type": "stream",
          "name": "stderr",
          "text": [
            "  2%|▏         | 36/1469 [00:06<03:25,  6.98it/s]"
          ]
        },
        {
          "output_type": "stream",
          "name": "stdout",
          "text": [
            "Error\n",
            "Error\n",
            "Error\n",
            "Error\n",
            "Error\n",
            "Error\n",
            "Error\n",
            "Error\n",
            "Error\n",
            "Error\n",
            "Error\n",
            "Error\n",
            "Error\n",
            "Error\n",
            "Error\n",
            "Error\n",
            "Error\n",
            "Error\n",
            "Error\n",
            "Error\n",
            "Error\n",
            "Error\n",
            "Error\n",
            "Error\n",
            "Error\n",
            "Error\n",
            "Error\n",
            "Error\n",
            "Error\n",
            "Error\n",
            "Error\n",
            "Error\n",
            "Error\n",
            "Error\n"
          ]
        },
        {
          "output_type": "stream",
          "name": "stderr",
          "text": [
            "  3%|▎         | 38/1469 [00:06<03:06,  7.68it/s]"
          ]
        },
        {
          "output_type": "stream",
          "name": "stdout",
          "text": [
            "Error\n",
            "Error\n",
            "Error\n",
            "Error\n",
            "Error\n",
            "Error\n",
            "Error\n",
            "Error\n",
            "Error\n",
            "Error\n",
            "Error\n",
            "Error\n",
            "Error\n",
            "Error\n",
            "Error\n",
            "Error\n",
            "Error\n",
            "Error\n",
            "Error\n",
            "Error\n",
            "Error\n",
            "Error\n",
            "Error\n",
            "Error\n",
            "Error\n",
            "Error\n",
            "Error\n",
            "Error\n",
            "Error\n",
            "Error\n",
            "Error\n",
            "Error\n",
            "Error\n",
            "Error\n"
          ]
        },
        {
          "output_type": "stream",
          "name": "stderr",
          "text": [
            "  3%|▎         | 40/1469 [00:06<03:00,  7.91it/s]"
          ]
        },
        {
          "output_type": "stream",
          "name": "stdout",
          "text": [
            "Error\n",
            "Error\n",
            "Error\n",
            "Error\n",
            "Error\n",
            "Error\n",
            "Error\n",
            "Error\n",
            "Error\n",
            "Error\n",
            "Error\n",
            "Error\n",
            "Error\n",
            "Error\n",
            "Error\n",
            "Error\n",
            "Error\n",
            "Error\n",
            "Error\n",
            "Error\n",
            "Error\n",
            "Error\n",
            "Error\n",
            "Error\n",
            "Error\n",
            "Error\n",
            "Error\n",
            "Error\n",
            "Error\n",
            "Error\n",
            "Error\n",
            "Error\n",
            "Error\n",
            "Error\n"
          ]
        },
        {
          "output_type": "stream",
          "name": "stderr",
          "text": [
            "  3%|▎         | 42/1469 [00:07<03:01,  7.85it/s]"
          ]
        },
        {
          "output_type": "stream",
          "name": "stdout",
          "text": [
            "Error\n",
            "Error\n",
            "Error\n",
            "Error\n",
            "Error\n",
            "Error\n",
            "Error\n",
            "Error\n",
            "Error\n",
            "Error\n",
            "Error\n",
            "Error\n",
            "Error\n",
            "Error\n",
            "Error\n",
            "Error\n",
            "Error\n",
            "Error\n",
            "Error\n",
            "Error\n",
            "Error\n",
            "Error\n",
            "Error\n",
            "Error\n",
            "Error\n",
            "Error\n",
            "Error\n",
            "Error\n",
            "Error\n",
            "Error\n",
            "Error\n",
            "Error\n",
            "Error\n",
            "Error\n"
          ]
        },
        {
          "output_type": "stream",
          "name": "stderr",
          "text": [
            "  3%|▎         | 44/1469 [00:07<02:56,  8.07it/s]"
          ]
        },
        {
          "output_type": "stream",
          "name": "stdout",
          "text": [
            "Error\n",
            "Error\n",
            "Error\n",
            "Error\n",
            "Error\n",
            "Error\n",
            "Error\n",
            "Error\n",
            "Error\n",
            "Error\n",
            "Error\n",
            "Error\n",
            "Error\n",
            "Error\n",
            "Error\n",
            "Error\n",
            "Error\n",
            "Error\n",
            "Error\n",
            "Error\n",
            "Error\n",
            "Error\n",
            "Error\n",
            "Error\n",
            "Error\n",
            "Error\n",
            "Error\n",
            "Error\n",
            "Error\n",
            "Error\n",
            "Error\n",
            "Error\n",
            "Error\n",
            "Error\n"
          ]
        },
        {
          "output_type": "stream",
          "name": "stderr",
          "text": [
            "  3%|▎         | 46/1469 [00:07<03:03,  7.77it/s]"
          ]
        },
        {
          "output_type": "stream",
          "name": "stdout",
          "text": [
            "Error\n",
            "Error\n",
            "Error\n",
            "Error\n",
            "Error\n",
            "Error\n",
            "Error\n",
            "Error\n",
            "Error\n",
            "Error\n",
            "Error\n",
            "Error\n",
            "Error\n",
            "Error\n",
            "Error\n",
            "Error\n",
            "Error\n",
            "Error\n",
            "Error\n",
            "Error\n",
            "Error\n",
            "Error\n",
            "Error\n",
            "Error\n",
            "Error\n",
            "Error\n",
            "Error\n",
            "Error\n",
            "Error\n",
            "Error\n",
            "Error\n",
            "Error\n",
            "Error\n",
            "Error\n"
          ]
        },
        {
          "output_type": "stream",
          "name": "stderr",
          "text": [
            "  3%|▎         | 48/1469 [00:07<03:02,  7.80it/s]"
          ]
        },
        {
          "output_type": "stream",
          "name": "stdout",
          "text": [
            "Error\n",
            "Error\n",
            "Error\n",
            "Error\n",
            "Error\n",
            "Error\n",
            "Error\n",
            "Error\n",
            "Error\n",
            "Error\n",
            "Error\n",
            "Error\n",
            "Error\n",
            "Error\n",
            "Error\n",
            "Error\n",
            "Error\n",
            "Error\n",
            "Error\n",
            "Error\n",
            "Error\n",
            "Error\n",
            "Error\n",
            "Error\n",
            "Error\n",
            "Error\n",
            "Error\n",
            "Error\n",
            "Error\n",
            "Error\n",
            "Error\n",
            "Error\n",
            "Error\n",
            "Error\n"
          ]
        },
        {
          "output_type": "stream",
          "name": "stderr",
          "text": [
            "  3%|▎         | 50/1469 [00:08<03:01,  7.83it/s]"
          ]
        },
        {
          "output_type": "stream",
          "name": "stdout",
          "text": [
            "Error\n",
            "Error\n",
            "Error\n",
            "Error\n",
            "Error\n",
            "Error\n",
            "Error\n",
            "Error\n",
            "Error\n",
            "Error\n",
            "Error\n",
            "Error\n",
            "Error\n",
            "Error\n",
            "Error\n",
            "Error\n",
            "Error\n",
            "Error\n",
            "Error\n",
            "Error\n",
            "Error\n",
            "Error\n",
            "Error\n",
            "Error\n",
            "Error\n",
            "Error\n",
            "Error\n",
            "Error\n",
            "Error\n",
            "Error\n",
            "Error\n",
            "Error\n",
            "Error\n",
            "Error\n"
          ]
        },
        {
          "output_type": "stream",
          "name": "stderr",
          "text": [
            "  4%|▎         | 52/1469 [00:08<02:57,  7.99it/s]"
          ]
        },
        {
          "output_type": "stream",
          "name": "stdout",
          "text": [
            "Error\n",
            "Error\n",
            "Error\n",
            "Error\n",
            "Error\n",
            "Error\n",
            "Error\n",
            "Error\n",
            "Error\n",
            "Error\n",
            "Error\n",
            "Error\n",
            "Error\n",
            "Error\n",
            "Error\n",
            "Error\n",
            "Error\n",
            "Error\n",
            "Error\n",
            "Error\n",
            "Error\n",
            "Error\n",
            "Error\n",
            "Error\n",
            "Error\n",
            "Error\n",
            "Error\n",
            "Error\n",
            "Error\n",
            "Error\n",
            "Error\n",
            "Error\n",
            "Error\n",
            "Error\n"
          ]
        },
        {
          "output_type": "stream",
          "name": "stderr",
          "text": [
            "  4%|▎         | 54/1469 [00:08<03:01,  7.80it/s]"
          ]
        },
        {
          "output_type": "stream",
          "name": "stdout",
          "text": [
            "Error\n",
            "Error\n",
            "Error\n",
            "Error\n",
            "Error\n",
            "Error\n",
            "Error\n",
            "Error\n",
            "Error\n",
            "Error\n",
            "Error\n",
            "Error\n",
            "Error\n",
            "Error\n",
            "Error\n",
            "Error\n",
            "Error\n",
            "Error\n",
            "Error\n",
            "Error\n",
            "Error\n",
            "Error\n",
            "Error\n",
            "Error\n",
            "Error\n",
            "Error\n",
            "Error\n",
            "Error\n",
            "Error\n",
            "Error\n",
            "Error\n",
            "Error\n",
            "Error\n",
            "Error\n"
          ]
        },
        {
          "output_type": "stream",
          "name": "stderr",
          "text": [
            "  4%|▍         | 56/1469 [00:08<03:03,  7.72it/s]"
          ]
        },
        {
          "output_type": "stream",
          "name": "stdout",
          "text": [
            "Error\n",
            "Error\n",
            "Error\n",
            "Error\n",
            "Error\n",
            "Error\n",
            "Error\n",
            "Error\n",
            "Error\n",
            "Error\n",
            "Error\n",
            "Error\n",
            "Error\n",
            "Error\n",
            "Error\n",
            "Error\n",
            "Error\n",
            "Error\n",
            "Error\n",
            "Error\n",
            "Error\n",
            "Error\n",
            "Error\n",
            "Error\n",
            "Error\n",
            "Error\n",
            "Error\n",
            "Error\n",
            "Error\n",
            "Error\n",
            "Error\n",
            "Error\n",
            "Error\n",
            "Error\n"
          ]
        },
        {
          "output_type": "stream",
          "name": "stderr",
          "text": [
            "  4%|▍         | 58/1469 [00:09<03:04,  7.63it/s]"
          ]
        },
        {
          "output_type": "stream",
          "name": "stdout",
          "text": [
            "Error\n",
            "Error\n",
            "Error\n",
            "Error\n",
            "Error\n",
            "Error\n",
            "Error\n",
            "Error\n",
            "Error\n",
            "Error\n",
            "Error\n",
            "Error\n",
            "Error\n",
            "Error\n",
            "Error\n",
            "Error\n",
            "Error\n",
            "Error\n",
            "Error\n",
            "Error\n",
            "Error\n",
            "Error\n",
            "Error\n",
            "Error\n",
            "Error\n",
            "Error\n",
            "Error\n",
            "Error\n",
            "Error\n",
            "Error\n",
            "Error\n",
            "Error\n",
            "Error\n",
            "Error\n"
          ]
        },
        {
          "output_type": "stream",
          "name": "stderr",
          "text": [
            "  4%|▍         | 60/1469 [00:09<03:03,  7.70it/s]"
          ]
        },
        {
          "output_type": "stream",
          "name": "stdout",
          "text": [
            "Error\n",
            "Error\n",
            "Error\n",
            "Error\n",
            "Error\n",
            "Error\n",
            "Error\n",
            "Error\n",
            "Error\n",
            "Error\n",
            "Error\n",
            "Error\n",
            "Error\n",
            "Error\n",
            "Error\n",
            "Error\n",
            "Error\n",
            "Error\n",
            "Error\n",
            "Error\n",
            "Error\n",
            "Error\n",
            "Error\n",
            "Error\n",
            "Error\n",
            "Error\n",
            "Error\n",
            "Error\n",
            "Error\n",
            "Error\n",
            "Error\n",
            "Error\n",
            "Error\n",
            "Error\n"
          ]
        },
        {
          "output_type": "stream",
          "name": "stderr",
          "text": [
            "  4%|▍         | 62/1469 [00:09<03:00,  7.79it/s]"
          ]
        },
        {
          "output_type": "stream",
          "name": "stdout",
          "text": [
            "Error\n",
            "Error\n",
            "Error\n",
            "Error\n",
            "Error\n",
            "Error\n",
            "Error\n",
            "Error\n",
            "Error\n",
            "Error\n",
            "Error\n",
            "Error\n",
            "Error\n",
            "Error\n",
            "Error\n",
            "Error\n",
            "Error\n",
            "Error\n",
            "Error\n",
            "Error\n",
            "Error\n",
            "Error\n",
            "Error\n",
            "Error\n",
            "Error\n",
            "Error\n",
            "Error\n",
            "Error\n",
            "Error\n",
            "Error\n",
            "Error\n",
            "Error\n",
            "Error\n",
            "Error\n"
          ]
        },
        {
          "output_type": "stream",
          "name": "stderr",
          "text": [
            "\r  4%|▍         | 63/1469 [00:09<02:54,  8.04it/s]"
          ]
        },
        {
          "output_type": "stream",
          "name": "stdout",
          "text": [
            "Error\n",
            "Error\n",
            "Error\n",
            "Error\n",
            "Error\n",
            "Error\n",
            "Error\n",
            "Error\n",
            "Error\n",
            "Error\n",
            "Error\n",
            "Error\n",
            "Error\n",
            "Error\n",
            "Error\n",
            "Error\n",
            "Error\n"
          ]
        },
        {
          "output_type": "stream",
          "name": "stderr",
          "text": [
            "  4%|▍         | 65/1469 [00:10<03:40,  6.38it/s]"
          ]
        },
        {
          "output_type": "stream",
          "name": "stdout",
          "text": [
            "Error\n",
            "Error\n",
            "Error\n",
            "Error\n",
            "Error\n",
            "Error\n",
            "Error\n",
            "Error\n",
            "Error\n",
            "Error\n",
            "Error\n",
            "Error\n",
            "Error\n",
            "Error\n",
            "Error\n",
            "Error\n",
            "Error\n",
            "Error\n",
            "Error\n",
            "Error\n",
            "Error\n",
            "Error\n",
            "Error\n",
            "Error\n",
            "Error\n",
            "Error\n",
            "Error\n",
            "Error\n",
            "Error\n",
            "Error\n",
            "Error\n",
            "Error\n",
            "Error\n",
            "Error\n"
          ]
        },
        {
          "output_type": "stream",
          "name": "stderr",
          "text": [
            "  5%|▍         | 67/1469 [00:10<03:51,  6.07it/s]"
          ]
        },
        {
          "output_type": "stream",
          "name": "stdout",
          "text": [
            "Error\n",
            "Error\n",
            "Error\n",
            "Error\n",
            "Error\n",
            "Error\n",
            "Error\n",
            "Error\n",
            "Error\n",
            "Error\n",
            "Error\n",
            "Error\n",
            "Error\n",
            "Error\n",
            "Error\n",
            "Error\n",
            "Error\n",
            "Error\n",
            "Error\n",
            "Error\n",
            "Error\n",
            "Error\n",
            "Error\n",
            "Error\n",
            "Error\n",
            "Error\n",
            "Error\n",
            "Error\n",
            "Error\n",
            "Error\n",
            "Error\n",
            "Error\n",
            "Error\n",
            "Error\n"
          ]
        },
        {
          "output_type": "stream",
          "name": "stderr",
          "text": [
            "  5%|▍         | 69/1469 [00:10<04:04,  5.74it/s]"
          ]
        },
        {
          "output_type": "stream",
          "name": "stdout",
          "text": [
            "Error\n",
            "Error\n",
            "Error\n",
            "Error\n",
            "Error\n",
            "Error\n",
            "Error\n",
            "Error\n",
            "Error\n",
            "Error\n",
            "Error\n",
            "Error\n",
            "Error\n",
            "Error\n",
            "Error\n",
            "Error\n",
            "Error\n",
            "Error\n",
            "Error\n",
            "Error\n",
            "Error\n",
            "Error\n",
            "Error\n",
            "Error\n",
            "Error\n",
            "Error\n",
            "Error\n",
            "Error\n",
            "Error\n",
            "Error\n",
            "Error\n",
            "Error\n",
            "Error\n",
            "Error\n"
          ]
        },
        {
          "output_type": "stream",
          "name": "stderr",
          "text": [
            "\r  5%|▍         | 70/1469 [00:11<04:23,  5.31it/s]"
          ]
        },
        {
          "output_type": "stream",
          "name": "stdout",
          "text": [
            "Error\n",
            "Error\n",
            "Error\n",
            "Error\n",
            "Error\n",
            "Error\n",
            "Error\n",
            "Error\n",
            "Error\n",
            "Error\n",
            "Error\n",
            "Error\n",
            "Error\n",
            "Error\n",
            "Error\n",
            "Error\n",
            "Error\n"
          ]
        },
        {
          "output_type": "stream",
          "name": "stderr",
          "text": [
            "  5%|▍         | 72/1469 [00:11<04:24,  5.27it/s]"
          ]
        },
        {
          "output_type": "stream",
          "name": "stdout",
          "text": [
            "Error\n",
            "Error\n",
            "Error\n",
            "Error\n",
            "Error\n",
            "Error\n",
            "Error\n",
            "Error\n",
            "Error\n",
            "Error\n",
            "Error\n",
            "Error\n",
            "Error\n",
            "Error\n",
            "Error\n",
            "Error\n",
            "Error\n",
            "Error\n",
            "Error\n",
            "Error\n",
            "Error\n",
            "Error\n",
            "Error\n",
            "Error\n",
            "Error\n",
            "Error\n",
            "Error\n",
            "Error\n",
            "Error\n",
            "Error\n",
            "Error\n",
            "Error\n",
            "Error\n",
            "Error\n"
          ]
        },
        {
          "output_type": "stream",
          "name": "stderr",
          "text": [
            "\r  5%|▍         | 73/1469 [00:11<04:18,  5.40it/s]"
          ]
        },
        {
          "output_type": "stream",
          "name": "stdout",
          "text": [
            "Error\n",
            "Error\n",
            "Error\n",
            "Error\n",
            "Error\n",
            "Error\n",
            "Error\n",
            "Error\n",
            "Error\n",
            "Error\n",
            "Error\n",
            "Error\n",
            "Error\n",
            "Error\n",
            "Error\n",
            "Error\n",
            "Error\n"
          ]
        },
        {
          "output_type": "stream",
          "name": "stderr",
          "text": [
            "  5%|▌         | 75/1469 [00:12<04:34,  5.09it/s]"
          ]
        },
        {
          "output_type": "stream",
          "name": "stdout",
          "text": [
            "Error\n",
            "Error\n",
            "Error\n",
            "Error\n",
            "Error\n",
            "Error\n",
            "Error\n",
            "Error\n",
            "Error\n",
            "Error\n",
            "Error\n",
            "Error\n",
            "Error\n",
            "Error\n",
            "Error\n",
            "Error\n",
            "Error\n",
            "Error\n",
            "Error\n",
            "Error\n",
            "Error\n",
            "Error\n",
            "Error\n",
            "Error\n",
            "Error\n",
            "Error\n",
            "Error\n",
            "Error\n",
            "Error\n",
            "Error\n",
            "Error\n",
            "Error\n",
            "Error\n",
            "Error\n"
          ]
        },
        {
          "output_type": "stream",
          "name": "stderr",
          "text": [
            "  5%|▌         | 77/1469 [00:12<04:25,  5.25it/s]"
          ]
        },
        {
          "output_type": "stream",
          "name": "stdout",
          "text": [
            "Error\n",
            "Error\n",
            "Error\n",
            "Error\n",
            "Error\n",
            "Error\n",
            "Error\n",
            "Error\n",
            "Error\n",
            "Error\n",
            "Error\n",
            "Error\n",
            "Error\n",
            "Error\n",
            "Error\n",
            "Error\n",
            "Error\n",
            "Error\n",
            "Error\n",
            "Error\n",
            "Error\n",
            "Error\n",
            "Error\n",
            "Error\n",
            "Error\n",
            "Error\n",
            "Error\n",
            "Error\n",
            "Error\n",
            "Error\n",
            "Error\n",
            "Error\n",
            "Error\n",
            "Error\n"
          ]
        },
        {
          "output_type": "stream",
          "name": "stderr",
          "text": [
            "\r  5%|▌         | 78/1469 [00:12<04:25,  5.25it/s]"
          ]
        },
        {
          "output_type": "stream",
          "name": "stdout",
          "text": [
            "Error\n",
            "Error\n",
            "Error\n",
            "Error\n",
            "Error\n",
            "Error\n",
            "Error\n",
            "Error\n",
            "Error\n",
            "Error\n",
            "Error\n",
            "Error\n",
            "Error\n",
            "Error\n",
            "Error\n",
            "Error\n",
            "Error\n"
          ]
        },
        {
          "output_type": "stream",
          "name": "stderr",
          "text": [
            "  5%|▌         | 80/1469 [00:13<04:51,  4.77it/s]"
          ]
        },
        {
          "output_type": "stream",
          "name": "stdout",
          "text": [
            "Error\n",
            "Error\n",
            "Error\n",
            "Error\n",
            "Error\n",
            "Error\n",
            "Error\n",
            "Error\n",
            "Error\n",
            "Error\n",
            "Error\n",
            "Error\n",
            "Error\n",
            "Error\n",
            "Error\n",
            "Error\n",
            "Error\n",
            "Error\n",
            "Error\n",
            "Error\n",
            "Error\n",
            "Error\n",
            "Error\n",
            "Error\n",
            "Error\n",
            "Error\n",
            "Error\n",
            "Error\n",
            "Error\n",
            "Error\n",
            "Error\n",
            "Error\n",
            "Error\n",
            "Error\n"
          ]
        },
        {
          "output_type": "stream",
          "name": "stderr",
          "text": [
            "  6%|▌         | 82/1469 [00:13<05:10,  4.47it/s]"
          ]
        },
        {
          "output_type": "stream",
          "name": "stdout",
          "text": [
            "Error\n",
            "Error\n",
            "Error\n",
            "Error\n",
            "Error\n",
            "Error\n",
            "Error\n",
            "Error\n",
            "Error\n",
            "Error\n",
            "Error\n",
            "Error\n",
            "Error\n",
            "Error\n",
            "Error\n",
            "Error\n",
            "Error\n",
            "Error\n",
            "Error\n",
            "Error\n",
            "Error\n",
            "Error\n",
            "Error\n",
            "Error\n",
            "Error\n",
            "Error\n",
            "Error\n",
            "Error\n",
            "Error\n",
            "Error\n",
            "Error\n",
            "Error\n",
            "Error\n",
            "Error\n"
          ]
        },
        {
          "output_type": "stream",
          "name": "stderr",
          "text": [
            "\r  6%|▌         | 83/1469 [00:13<05:26,  4.25it/s]"
          ]
        },
        {
          "output_type": "stream",
          "name": "stdout",
          "text": [
            "Error\n",
            "Error\n",
            "Error\n",
            "Error\n",
            "Error\n",
            "Error\n",
            "Error\n",
            "Error\n",
            "Error\n",
            "Error\n",
            "Error\n",
            "Error\n",
            "Error\n",
            "Error\n",
            "Error\n",
            "Error\n",
            "Error\n"
          ]
        },
        {
          "output_type": "stream",
          "name": "stderr",
          "text": [
            "\r  6%|▌         | 84/1469 [00:14<06:01,  3.83it/s]"
          ]
        },
        {
          "output_type": "stream",
          "name": "stdout",
          "text": [
            "Error\n",
            "Error\n",
            "Error\n",
            "Error\n",
            "Error\n",
            "Error\n",
            "Error\n",
            "Error\n",
            "Error\n",
            "Error\n",
            "Error\n",
            "Error\n",
            "Error\n",
            "Error\n",
            "Error\n",
            "Error\n",
            "Error\n"
          ]
        },
        {
          "output_type": "stream",
          "name": "stderr",
          "text": [
            "\r  6%|▌         | 85/1469 [00:14<06:01,  3.83it/s]"
          ]
        },
        {
          "output_type": "stream",
          "name": "stdout",
          "text": [
            "Error\n",
            "Error\n",
            "Error\n",
            "Error\n",
            "Error\n",
            "Error\n",
            "Error\n",
            "Error\n",
            "Error\n",
            "Error\n",
            "Error\n",
            "Error\n",
            "Error\n",
            "Error\n",
            "Error\n",
            "Error\n",
            "Error\n"
          ]
        },
        {
          "output_type": "stream",
          "name": "stderr",
          "text": [
            "\r  6%|▌         | 86/1469 [00:14<05:57,  3.87it/s]"
          ]
        },
        {
          "output_type": "stream",
          "name": "stdout",
          "text": [
            "Error\n",
            "Error\n",
            "Error\n",
            "Error\n",
            "Error\n",
            "Error\n",
            "Error\n",
            "Error\n",
            "Error\n",
            "Error\n",
            "Error\n",
            "Error\n",
            "Error\n",
            "Error\n",
            "Error\n",
            "Error\n",
            "Error\n"
          ]
        },
        {
          "output_type": "stream",
          "name": "stderr",
          "text": [
            "\r  6%|▌         | 87/1469 [00:15<05:41,  4.05it/s]"
          ]
        },
        {
          "output_type": "stream",
          "name": "stdout",
          "text": [
            "Error\n",
            "Error\n",
            "Error\n",
            "Error\n",
            "Error\n",
            "Error\n",
            "Error\n",
            "Error\n",
            "Error\n",
            "Error\n",
            "Error\n",
            "Error\n",
            "Error\n",
            "Error\n",
            "Error\n",
            "Error\n",
            "Error\n"
          ]
        },
        {
          "output_type": "stream",
          "name": "stderr",
          "text": [
            "\r  6%|▌         | 88/1469 [00:15<06:11,  3.72it/s]"
          ]
        },
        {
          "output_type": "stream",
          "name": "stdout",
          "text": [
            "Error\n",
            "Error\n",
            "Error\n",
            "Error\n",
            "Error\n",
            "Error\n",
            "Error\n",
            "Error\n",
            "Error\n",
            "Error\n",
            "Error\n",
            "Error\n",
            "Error\n",
            "Error\n",
            "Error\n",
            "Error\n",
            "Error\n"
          ]
        },
        {
          "output_type": "stream",
          "name": "stderr",
          "text": [
            "  6%|▌         | 90/1469 [00:15<05:50,  3.94it/s]"
          ]
        },
        {
          "output_type": "stream",
          "name": "stdout",
          "text": [
            "Error\n",
            "Error\n",
            "Error\n",
            "Error\n",
            "Error\n",
            "Error\n",
            "Error\n",
            "Error\n",
            "Error\n",
            "Error\n",
            "Error\n",
            "Error\n",
            "Error\n",
            "Error\n",
            "Error\n",
            "Error\n",
            "Error\n",
            "Error\n",
            "Error\n",
            "Error\n",
            "Error\n",
            "Error\n",
            "Error\n",
            "Error\n",
            "Error\n",
            "Error\n",
            "Error\n",
            "Error\n",
            "Error\n",
            "Error\n",
            "Error\n",
            "Error\n",
            "Error\n",
            "Error\n"
          ]
        },
        {
          "output_type": "stream",
          "name": "stderr",
          "text": [
            "\r  6%|▌         | 91/1469 [00:16<05:56,  3.86it/s]"
          ]
        },
        {
          "output_type": "stream",
          "name": "stdout",
          "text": [
            "Error\n",
            "Error\n",
            "Error\n",
            "Error\n",
            "Error\n",
            "Error\n",
            "Error\n",
            "Error\n",
            "Error\n",
            "Error\n",
            "Error\n",
            "Error\n",
            "Error\n",
            "Error\n",
            "Error\n",
            "Error\n",
            "Error\n"
          ]
        },
        {
          "output_type": "stream",
          "name": "stderr",
          "text": [
            "\r  6%|▋         | 92/1469 [00:16<06:34,  3.49it/s]"
          ]
        },
        {
          "output_type": "stream",
          "name": "stdout",
          "text": [
            "Error\n",
            "Error\n",
            "Error\n",
            "Error\n",
            "Error\n",
            "Error\n",
            "Error\n",
            "Error\n",
            "Error\n",
            "Error\n",
            "Error\n",
            "Error\n",
            "Error\n",
            "Error\n",
            "Error\n",
            "Error\n",
            "Error\n"
          ]
        },
        {
          "output_type": "stream",
          "name": "stderr",
          "text": [
            "  6%|▋         | 94/1469 [00:16<05:47,  3.96it/s]"
          ]
        },
        {
          "output_type": "stream",
          "name": "stdout",
          "text": [
            "Error\n",
            "Error\n",
            "Error\n",
            "Error\n",
            "Error\n",
            "Error\n",
            "Error\n",
            "Error\n",
            "Error\n",
            "Error\n",
            "Error\n",
            "Error\n",
            "Error\n",
            "Error\n",
            "Error\n",
            "Error\n",
            "Error\n",
            "Error\n",
            "Error\n",
            "Error\n",
            "Error\n",
            "Error\n",
            "Error\n",
            "Error\n",
            "Error\n",
            "Error\n",
            "Error\n",
            "Error\n",
            "Error\n",
            "Error\n",
            "Error\n",
            "Error\n",
            "Error\n",
            "Error\n"
          ]
        },
        {
          "output_type": "stream",
          "name": "stderr",
          "text": [
            "\r  6%|▋         | 95/1469 [00:17<05:53,  3.88it/s]"
          ]
        },
        {
          "output_type": "stream",
          "name": "stdout",
          "text": [
            "Error\n",
            "Error\n",
            "Error\n",
            "Error\n",
            "Error\n",
            "Error\n",
            "Error\n",
            "Error\n",
            "Error\n",
            "Error\n",
            "Error\n",
            "Error\n",
            "Error\n",
            "Error\n",
            "Error\n",
            "Error\n",
            "Error\n"
          ]
        },
        {
          "output_type": "stream",
          "name": "stderr",
          "text": [
            "\r  7%|▋         | 96/1469 [00:17<06:01,  3.80it/s]"
          ]
        },
        {
          "output_type": "stream",
          "name": "stdout",
          "text": [
            "Error\n",
            "Error\n",
            "Error\n",
            "Error\n",
            "Error\n",
            "Error\n",
            "Error\n",
            "Error\n",
            "Error\n",
            "Error\n",
            "Error\n",
            "Error\n",
            "Error\n",
            "Error\n",
            "Error\n",
            "Error\n",
            "Error\n"
          ]
        },
        {
          "output_type": "stream",
          "name": "stderr",
          "text": [
            "\r  7%|▋         | 97/1469 [00:17<06:15,  3.65it/s]"
          ]
        },
        {
          "output_type": "stream",
          "name": "stdout",
          "text": [
            "Error\n",
            "Error\n",
            "Error\n",
            "Error\n",
            "Error\n",
            "Error\n",
            "Error\n",
            "Error\n",
            "Error\n",
            "Error\n",
            "Error\n",
            "Error\n",
            "Error\n",
            "Error\n",
            "Error\n",
            "Error\n",
            "Error\n"
          ]
        },
        {
          "output_type": "stream",
          "name": "stderr",
          "text": [
            "\r  7%|▋         | 98/1469 [00:18<06:07,  3.73it/s]"
          ]
        },
        {
          "output_type": "stream",
          "name": "stdout",
          "text": [
            "Error\n",
            "Error\n",
            "Error\n",
            "Error\n",
            "Error\n",
            "Error\n",
            "Error\n",
            "Error\n",
            "Error\n",
            "Error\n",
            "Error\n",
            "Error\n",
            "Error\n",
            "Error\n",
            "Error\n",
            "Error\n",
            "Error\n"
          ]
        },
        {
          "output_type": "stream",
          "name": "stderr",
          "text": [
            "  7%|▋         | 100/1469 [00:18<05:18,  4.30it/s]"
          ]
        },
        {
          "output_type": "stream",
          "name": "stdout",
          "text": [
            "Error\n",
            "Error\n",
            "Error\n",
            "Error\n",
            "Error\n",
            "Error\n",
            "Error\n",
            "Error\n",
            "Error\n",
            "Error\n",
            "Error\n",
            "Error\n",
            "Error\n",
            "Error\n",
            "Error\n",
            "Error\n",
            "Error\n",
            "Error\n",
            "Error\n",
            "Error\n",
            "Error\n",
            "Error\n",
            "Error\n",
            "Error\n",
            "Error\n",
            "Error\n",
            "Error\n",
            "Error\n",
            "Error\n",
            "Error\n",
            "Error\n",
            "Error\n",
            "Error\n",
            "Error\n"
          ]
        },
        {
          "output_type": "stream",
          "name": "stderr",
          "text": [
            "  7%|▋         | 102/1469 [00:18<05:01,  4.53it/s]"
          ]
        },
        {
          "output_type": "stream",
          "name": "stdout",
          "text": [
            "Error\n",
            "Error\n",
            "Error\n",
            "Error\n",
            "Error\n",
            "Error\n",
            "Error\n",
            "Error\n",
            "Error\n",
            "Error\n",
            "Error\n",
            "Error\n",
            "Error\n",
            "Error\n",
            "Error\n",
            "Error\n",
            "Error\n",
            "Error\n",
            "Error\n",
            "Error\n",
            "Error\n",
            "Error\n",
            "Error\n",
            "Error\n",
            "Error\n",
            "Error\n",
            "Error\n",
            "Error\n",
            "Error\n",
            "Error\n",
            "Error\n",
            "Error\n",
            "Error\n",
            "Error\n"
          ]
        },
        {
          "output_type": "stream",
          "name": "stderr",
          "text": [
            "  7%|▋         | 104/1469 [00:19<04:49,  4.72it/s]"
          ]
        },
        {
          "output_type": "stream",
          "name": "stdout",
          "text": [
            "Error\n",
            "Error\n",
            "Error\n",
            "Error\n",
            "Error\n",
            "Error\n",
            "Error\n",
            "Error\n",
            "Error\n",
            "Error\n",
            "Error\n",
            "Error\n",
            "Error\n",
            "Error\n",
            "Error\n",
            "Error\n",
            "Error\n",
            "Error\n",
            "Error\n",
            "Error\n",
            "Error\n",
            "Error\n",
            "Error\n",
            "Error\n",
            "Error\n",
            "Error\n"
          ]
        },
        {
          "output_type": "stream",
          "name": "stderr",
          "text": [
            "\r  7%|▋         | 105/1469 [00:19<04:46,  4.76it/s]"
          ]
        },
        {
          "output_type": "stream",
          "name": "stdout",
          "text": [
            "Error\n",
            "Error\n",
            "Error\n",
            "Error\n",
            "Error\n",
            "Error\n",
            "Error\n",
            "Error\n",
            "Error\n",
            "Error\n",
            "Error\n",
            "Error\n",
            "Error\n",
            "Error\n",
            "Error\n",
            "Error\n",
            "Error\n",
            "Error\n",
            "Error\n",
            "Error\n",
            "Error\n",
            "Error\n",
            "Error\n",
            "Error\n",
            "Error\n"
          ]
        },
        {
          "output_type": "stream",
          "name": "stderr",
          "text": [
            "\r  7%|▋         | 106/1469 [00:19<05:08,  4.42it/s]"
          ]
        },
        {
          "output_type": "stream",
          "name": "stdout",
          "text": [
            "Error\n",
            "Error\n",
            "Error\n",
            "Error\n",
            "Error\n",
            "Error\n",
            "Error\n",
            "Error\n",
            "Error\n",
            "Error\n",
            "Error\n",
            "Error\n",
            "Error\n",
            "Error\n",
            "Error\n",
            "Error\n",
            "Error\n"
          ]
        },
        {
          "output_type": "stream",
          "name": "stderr",
          "text": [
            "\r  7%|▋         | 107/1469 [00:20<05:30,  4.12it/s]"
          ]
        },
        {
          "output_type": "stream",
          "name": "stdout",
          "text": [
            "Error\n",
            "Error\n",
            "Error\n",
            "Error\n",
            "Error\n",
            "Error\n",
            "Error\n",
            "Error\n",
            "Error\n",
            "Error\n",
            "Error\n",
            "Error\n",
            "Error\n",
            "Error\n",
            "Error\n",
            "Error\n",
            "Error\n"
          ]
        },
        {
          "output_type": "stream",
          "name": "stderr",
          "text": [
            "\r  7%|▋         | 108/1469 [00:20<05:37,  4.03it/s]"
          ]
        },
        {
          "output_type": "stream",
          "name": "stdout",
          "text": [
            "Error\n",
            "Error\n",
            "Error\n",
            "Error\n",
            "Error\n",
            "Error\n",
            "Error\n",
            "Error\n",
            "Error\n",
            "Error\n",
            "Error\n",
            "Error\n",
            "Error\n",
            "Error\n",
            "Error\n",
            "Error\n",
            "Error\n"
          ]
        },
        {
          "output_type": "stream",
          "name": "stderr",
          "text": [
            "  7%|▋         | 110/1469 [00:20<05:27,  4.14it/s]"
          ]
        },
        {
          "output_type": "stream",
          "name": "stdout",
          "text": [
            "Error\n",
            "Error\n",
            "Error\n",
            "Error\n",
            "Error\n",
            "Error\n",
            "Error\n",
            "Error\n",
            "Error\n",
            "Error\n",
            "Error\n",
            "Error\n",
            "Error\n",
            "Error\n",
            "Error\n",
            "Error\n",
            "Error\n",
            "Error\n",
            "Error\n",
            "Error\n",
            "Error\n",
            "Error\n",
            "Error\n",
            "Error\n",
            "Error\n",
            "Error\n",
            "Error\n",
            "Error\n",
            "Error\n",
            "Error\n",
            "Error\n",
            "Error\n",
            "Error\n",
            "Error\n"
          ]
        },
        {
          "output_type": "stream",
          "name": "stderr",
          "text": [
            "\r  8%|▊         | 111/1469 [00:21<05:33,  4.07it/s]"
          ]
        },
        {
          "output_type": "stream",
          "name": "stdout",
          "text": [
            "Error\n",
            "Error\n",
            "Error\n",
            "Error\n",
            "Error\n",
            "Error\n",
            "Error\n",
            "Error\n",
            "Error\n",
            "Error\n",
            "Error\n",
            "Error\n",
            "Error\n",
            "Error\n",
            "Error\n",
            "Error\n",
            "Error\n"
          ]
        },
        {
          "output_type": "stream",
          "name": "stderr",
          "text": [
            "\r  8%|▊         | 112/1469 [00:21<05:46,  3.92it/s]"
          ]
        },
        {
          "output_type": "stream",
          "name": "stdout",
          "text": [
            "Error\n",
            "Error\n",
            "Error\n",
            "Error\n",
            "Error\n",
            "Error\n",
            "Error\n",
            "Error\n",
            "Error\n",
            "Error\n",
            "Error\n",
            "Error\n",
            "Error\n",
            "Error\n",
            "Error\n",
            "Error\n",
            "Error\n"
          ]
        },
        {
          "output_type": "stream",
          "name": "stderr",
          "text": [
            "  8%|▊         | 114/1469 [00:21<05:16,  4.29it/s]"
          ]
        },
        {
          "output_type": "stream",
          "name": "stdout",
          "text": [
            "Error\n",
            "Error\n",
            "Error\n",
            "Error\n",
            "Error\n",
            "Error\n",
            "Error\n",
            "Error\n",
            "Error\n",
            "Error\n",
            "Error\n",
            "Error\n",
            "Error\n",
            "Error\n",
            "Error\n",
            "Error\n",
            "Error\n",
            "Error\n",
            "Error\n",
            "Error\n",
            "Error\n",
            "Error\n",
            "Error\n",
            "Error\n",
            "Error\n",
            "Error\n",
            "Error\n",
            "Error\n",
            "Error\n",
            "Error\n",
            "Error\n",
            "Error\n",
            "Error\n",
            "Error\n"
          ]
        },
        {
          "output_type": "stream",
          "name": "stderr",
          "text": [
            "\r  8%|▊         | 115/1469 [00:22<05:28,  4.12it/s]"
          ]
        },
        {
          "output_type": "stream",
          "name": "stdout",
          "text": [
            "Error\n",
            "Error\n",
            "Error\n",
            "Error\n",
            "Error\n",
            "Error\n",
            "Error\n",
            "Error\n",
            "Error\n",
            "Error\n",
            "Error\n",
            "Error\n",
            "Error\n",
            "Error\n",
            "Error\n",
            "Error\n",
            "Error\n"
          ]
        },
        {
          "output_type": "stream",
          "name": "stderr",
          "text": [
            "\r  8%|▊         | 116/1469 [00:22<05:31,  4.09it/s]"
          ]
        },
        {
          "output_type": "stream",
          "name": "stdout",
          "text": [
            "Error\n",
            "Error\n",
            "Error\n",
            "Error\n",
            "Error\n",
            "Error\n",
            "Error\n",
            "Error\n",
            "Error\n",
            "Error\n",
            "Error\n",
            "Error\n",
            "Error\n",
            "Error\n",
            "Error\n",
            "Error\n",
            "Error\n"
          ]
        },
        {
          "output_type": "stream",
          "name": "stderr",
          "text": [
            "  8%|▊         | 118/1469 [00:22<05:41,  3.95it/s]"
          ]
        },
        {
          "output_type": "stream",
          "name": "stdout",
          "text": [
            "Error\n",
            "Error\n",
            "Error\n",
            "Error\n",
            "Error\n",
            "Error\n",
            "Error\n",
            "Error\n",
            "Error\n",
            "Error\n",
            "Error\n",
            "Error\n",
            "Error\n",
            "Error\n",
            "Error\n",
            "Error\n",
            "Error\n",
            "Error\n",
            "Error\n",
            "Error\n",
            "Error\n",
            "Error\n",
            "Error\n",
            "Error\n",
            "Error\n",
            "Error\n",
            "Error\n",
            "Error\n",
            "Error\n",
            "Error\n",
            "Error\n",
            "Error\n",
            "Error\n",
            "Error\n"
          ]
        },
        {
          "output_type": "stream",
          "name": "stderr",
          "text": [
            "  8%|▊         | 120/1469 [00:23<05:20,  4.21it/s]"
          ]
        },
        {
          "output_type": "stream",
          "name": "stdout",
          "text": [
            "Error\n",
            "Error\n",
            "Error\n",
            "Error\n",
            "Error\n",
            "Error\n",
            "Error\n",
            "Error\n",
            "Error\n",
            "Error\n",
            "Error\n",
            "Error\n",
            "Error\n",
            "Error\n",
            "Error\n",
            "Error\n",
            "Error\n",
            "Error\n",
            "Error\n",
            "Error\n",
            "Error\n",
            "Error\n",
            "Error\n",
            "Error\n",
            "Error\n",
            "Error\n",
            "Error\n",
            "Error\n",
            "Error\n",
            "Error\n",
            "Error\n",
            "Error\n",
            "Error\n",
            "Error\n"
          ]
        },
        {
          "output_type": "stream",
          "name": "stderr",
          "text": [
            "\r  8%|▊         | 121/1469 [00:23<05:38,  3.98it/s]"
          ]
        },
        {
          "output_type": "stream",
          "name": "stdout",
          "text": [
            "Error\n",
            "Error\n",
            "Error\n",
            "Error\n",
            "Error\n",
            "Error\n",
            "Error\n",
            "Error\n",
            "Error\n",
            "Error\n",
            "Error\n",
            "Error\n",
            "Error\n",
            "Error\n",
            "Error\n",
            "Error\n",
            "Error\n"
          ]
        },
        {
          "output_type": "stream",
          "name": "stderr",
          "text": [
            "\r  8%|▊         | 122/1469 [00:23<06:24,  3.50it/s]"
          ]
        },
        {
          "output_type": "stream",
          "name": "stdout",
          "text": [
            "Error\n",
            "Error\n",
            "Error\n",
            "Error\n",
            "Error\n",
            "Error\n",
            "Error\n",
            "Error\n",
            "Error\n",
            "Error\n",
            "Error\n",
            "Error\n",
            "Error\n",
            "Error\n",
            "Error\n",
            "Error\n",
            "Error\n"
          ]
        },
        {
          "output_type": "stream",
          "name": "stderr",
          "text": [
            "  8%|▊         | 124/1469 [00:24<06:03,  3.70it/s]"
          ]
        },
        {
          "output_type": "stream",
          "name": "stdout",
          "text": [
            "Error\n",
            "Error\n",
            "Error\n",
            "Error\n",
            "Error\n",
            "Error\n",
            "Error\n",
            "Error\n",
            "Error\n",
            "Error\n",
            "Error\n",
            "Error\n",
            "Error\n",
            "Error\n",
            "Error\n",
            "Error\n",
            "Error\n",
            "Error\n",
            "Error\n",
            "Error\n",
            "Error\n",
            "Error\n",
            "Error\n",
            "Error\n",
            "Error\n",
            "Error\n",
            "Error\n",
            "Error\n",
            "Error\n",
            "Error\n",
            "Error\n",
            "Error\n",
            "Error\n",
            "Error\n"
          ]
        },
        {
          "output_type": "stream",
          "name": "stderr",
          "text": [
            "\r  9%|▊         | 125/1469 [00:24<05:59,  3.74it/s]"
          ]
        },
        {
          "output_type": "stream",
          "name": "stdout",
          "text": [
            "Error\n",
            "Error\n",
            "Error\n",
            "Error\n",
            "Error\n",
            "Error\n",
            "Error\n",
            "Error\n",
            "Error\n",
            "Error\n",
            "Error\n",
            "Error\n",
            "Error\n",
            "Error\n",
            "Error\n",
            "Error\n",
            "Error\n"
          ]
        },
        {
          "output_type": "stream",
          "name": "stderr",
          "text": [
            "\r  9%|▊         | 126/1469 [00:25<06:05,  3.68it/s]"
          ]
        },
        {
          "output_type": "stream",
          "name": "stdout",
          "text": [
            "Error\n",
            "Error\n",
            "Error\n",
            "Error\n",
            "Error\n",
            "Error\n",
            "Error\n",
            "Error\n",
            "Error\n",
            "Error\n",
            "Error\n",
            "Error\n",
            "Error\n",
            "Error\n",
            "Error\n",
            "Error\n",
            "Error\n"
          ]
        },
        {
          "output_type": "stream",
          "name": "stderr",
          "text": [
            "\r  9%|▊         | 127/1469 [00:25<06:19,  3.54it/s]"
          ]
        },
        {
          "output_type": "stream",
          "name": "stdout",
          "text": [
            "Error\n",
            "Error\n",
            "Error\n",
            "Error\n",
            "Error\n",
            "Error\n",
            "Error\n",
            "Error\n",
            "Error\n",
            "Error\n",
            "Error\n",
            "Error\n",
            "Error\n",
            "Error\n",
            "Error\n",
            "Error\n",
            "Error\n"
          ]
        },
        {
          "output_type": "stream",
          "name": "stderr",
          "text": [
            "  9%|▉         | 129/1469 [00:25<05:31,  4.04it/s]"
          ]
        },
        {
          "output_type": "stream",
          "name": "stdout",
          "text": [
            "Error\n",
            "Error\n",
            "Error\n",
            "Error\n",
            "Error\n",
            "Error\n",
            "Error\n",
            "Error\n",
            "Error\n",
            "Error\n",
            "Error\n",
            "Error\n",
            "Error\n",
            "Error\n",
            "Error\n",
            "Error\n",
            "Error\n",
            "Error\n",
            "Error\n",
            "Error\n",
            "Error\n",
            "Error\n",
            "Error\n",
            "Error\n",
            "Error\n",
            "Error\n",
            "Error\n",
            "Error\n",
            "Error\n",
            "Error\n",
            "Error\n",
            "Error\n",
            "Error\n",
            "Error\n"
          ]
        },
        {
          "output_type": "stream",
          "name": "stderr",
          "text": [
            "\r  9%|▉         | 130/1469 [00:26<05:34,  4.00it/s]"
          ]
        },
        {
          "output_type": "stream",
          "name": "stdout",
          "text": [
            "Error\n",
            "Error\n",
            "Error\n",
            "Error\n",
            "Error\n",
            "Error\n",
            "Error\n",
            "Error\n",
            "Error\n",
            "Error\n",
            "Error\n",
            "Error\n",
            "Error\n",
            "Error\n",
            "Error\n",
            "Error\n",
            "Error\n"
          ]
        },
        {
          "output_type": "stream",
          "name": "stderr",
          "text": [
            "\r  9%|▉         | 131/1469 [00:26<05:49,  3.83it/s]"
          ]
        },
        {
          "output_type": "stream",
          "name": "stdout",
          "text": [
            "Error\n",
            "Error\n",
            "Error\n",
            "Error\n",
            "Error\n",
            "Error\n",
            "Error\n",
            "Error\n",
            "Error\n",
            "Error\n",
            "Error\n",
            "Error\n",
            "Error\n",
            "Error\n",
            "Error\n",
            "Error\n",
            "Error\n"
          ]
        },
        {
          "output_type": "stream",
          "name": "stderr",
          "text": [
            "\r  9%|▉         | 132/1469 [00:26<05:43,  3.90it/s]"
          ]
        },
        {
          "output_type": "stream",
          "name": "stdout",
          "text": [
            "Error\n",
            "Error\n",
            "Error\n",
            "Error\n",
            "Error\n",
            "Error\n",
            "Error\n",
            "Error\n",
            "Error\n",
            "Error\n",
            "Error\n",
            "Error\n",
            "Error\n",
            "Error\n",
            "Error\n",
            "Error\n",
            "Error\n"
          ]
        },
        {
          "output_type": "stream",
          "name": "stderr",
          "text": [
            "  9%|▉         | 134/1469 [00:26<05:06,  4.36it/s]"
          ]
        },
        {
          "output_type": "stream",
          "name": "stdout",
          "text": [
            "Error\n",
            "Error\n",
            "Error\n",
            "Error\n",
            "Error\n",
            "Error\n",
            "Error\n",
            "Error\n",
            "Error\n",
            "Error\n",
            "Error\n",
            "Error\n",
            "Error\n",
            "Error\n",
            "Error\n",
            "Error\n",
            "Error\n",
            "Error\n",
            "Error\n",
            "Error\n",
            "Error\n",
            "Error\n",
            "Error\n",
            "Error\n",
            "Error\n",
            "Error\n",
            "Error\n",
            "Error\n",
            "Error\n",
            "Error\n",
            "Error\n",
            "Error\n",
            "Error\n",
            "Error\n"
          ]
        },
        {
          "output_type": "stream",
          "name": "stderr",
          "text": [
            "\r  9%|▉         | 135/1469 [00:27<05:36,  3.96it/s]"
          ]
        },
        {
          "output_type": "stream",
          "name": "stdout",
          "text": [
            "Error\n",
            "Error\n",
            "Error\n",
            "Error\n",
            "Error\n",
            "Error\n",
            "Error\n",
            "Error\n",
            "Error\n",
            "Error\n",
            "Error\n",
            "Error\n",
            "Error\n",
            "Error\n",
            "Error\n",
            "Error\n",
            "Error\n"
          ]
        },
        {
          "output_type": "stream",
          "name": "stderr",
          "text": [
            "\r  9%|▉         | 136/1469 [00:27<05:32,  4.01it/s]"
          ]
        },
        {
          "output_type": "stream",
          "name": "stdout",
          "text": [
            "Error\n",
            "Error\n",
            "Error\n",
            "Error\n",
            "Error\n",
            "Error\n",
            "Error\n",
            "Error\n",
            "Error\n",
            "Error\n",
            "Error\n",
            "Error\n",
            "Error\n",
            "Error\n",
            "Error\n",
            "Error\n",
            "Error\n"
          ]
        },
        {
          "output_type": "stream",
          "name": "stderr",
          "text": [
            "\r  9%|▉         | 137/1469 [00:27<05:40,  3.91it/s]"
          ]
        },
        {
          "output_type": "stream",
          "name": "stdout",
          "text": [
            "Error\n",
            "Error\n",
            "Error\n",
            "Error\n",
            "Error\n",
            "Error\n",
            "Error\n",
            "Error\n",
            "Error\n",
            "Error\n",
            "Error\n",
            "Error\n",
            "Error\n",
            "Error\n",
            "Error\n",
            "Error\n",
            "Error\n"
          ]
        },
        {
          "output_type": "stream",
          "name": "stderr",
          "text": [
            "  9%|▉         | 139/1469 [00:28<05:20,  4.15it/s]"
          ]
        },
        {
          "output_type": "stream",
          "name": "stdout",
          "text": [
            "Error\n",
            "Error\n",
            "Error\n",
            "Error\n",
            "Error\n",
            "Error\n",
            "Error\n",
            "Error\n",
            "Error\n",
            "Error\n",
            "Error\n",
            "Error\n",
            "Error\n",
            "Error\n",
            "Error\n",
            "Error\n",
            "Error\n",
            "Error\n",
            "Error\n",
            "Error\n",
            "Error\n",
            "Error\n",
            "Error\n",
            "Error\n",
            "Error\n",
            "Error\n",
            "Error\n",
            "Error\n",
            "Error\n",
            "Error\n",
            "Error\n",
            "Error\n",
            "Error\n",
            "Error\n"
          ]
        },
        {
          "output_type": "stream",
          "name": "stderr",
          "text": [
            "\r 10%|▉         | 140/1469 [00:28<06:15,  3.54it/s]"
          ]
        },
        {
          "output_type": "stream",
          "name": "stdout",
          "text": [
            "Error\n",
            "Error\n",
            "Error\n",
            "Error\n",
            "Error\n",
            "Error\n",
            "Error\n",
            "Error\n",
            "Error\n",
            "Error\n",
            "Error\n",
            "Error\n",
            "Error\n",
            "Error\n",
            "Error\n",
            "Error\n",
            "Error\n"
          ]
        },
        {
          "output_type": "stream",
          "name": "stderr",
          "text": [
            "\r 10%|▉         | 141/1469 [00:28<06:20,  3.49it/s]"
          ]
        },
        {
          "output_type": "stream",
          "name": "stdout",
          "text": [
            "Error\n",
            "Error\n",
            "Error\n",
            "Error\n",
            "Error\n",
            "Error\n",
            "Error\n",
            "Error\n",
            "Error\n",
            "Error\n",
            "Error\n",
            "Error\n",
            "Error\n",
            "Error\n",
            "Error\n",
            "Error\n",
            "Error\n"
          ]
        },
        {
          "output_type": "stream",
          "name": "stderr",
          "text": [
            "\r 10%|▉         | 142/1469 [00:29<06:33,  3.37it/s]"
          ]
        },
        {
          "output_type": "stream",
          "name": "stdout",
          "text": [
            "Error\n",
            "Error\n",
            "Error\n",
            "Error\n",
            "Error\n",
            "Error\n",
            "Error\n",
            "Error\n",
            "Error\n",
            "Error\n",
            "Error\n",
            "Error\n",
            "Error\n",
            "Error\n",
            "Error\n",
            "Error\n",
            "Error\n"
          ]
        },
        {
          "output_type": "stream",
          "name": "stderr",
          "text": [
            "\r 10%|▉         | 143/1469 [00:29<07:07,  3.10it/s]"
          ]
        },
        {
          "output_type": "stream",
          "name": "stdout",
          "text": [
            "Error\n",
            "Error\n",
            "Error\n",
            "Error\n",
            "Error\n",
            "Error\n",
            "Error\n",
            "Error\n",
            "Error\n",
            "Error\n",
            "Error\n",
            "Error\n",
            "Error\n",
            "Error\n",
            "Error\n",
            "Error\n",
            "Error\n"
          ]
        },
        {
          "output_type": "stream",
          "name": "stderr",
          "text": [
            "\r 10%|▉         | 144/1469 [00:29<06:33,  3.37it/s]"
          ]
        },
        {
          "output_type": "stream",
          "name": "stdout",
          "text": [
            "Error\n",
            "Error\n",
            "Error\n",
            "Error\n",
            "Error\n",
            "Error\n",
            "Error\n",
            "Error\n",
            "Error\n",
            "Error\n",
            "Error\n",
            "Error\n",
            "Error\n",
            "Error\n",
            "Error\n",
            "Error\n",
            "Error\n"
          ]
        },
        {
          "output_type": "stream",
          "name": "stderr",
          "text": [
            "\r 10%|▉         | 145/1469 [00:30<07:09,  3.08it/s]"
          ]
        },
        {
          "output_type": "stream",
          "name": "stdout",
          "text": [
            "Error\n",
            "Error\n",
            "Error\n",
            "Error\n",
            "Error\n",
            "Error\n",
            "Error\n",
            "Error\n",
            "Error\n",
            "Error\n",
            "Error\n",
            "Error\n",
            "Error\n",
            "Error\n",
            "Error\n",
            "Error\n",
            "Error\n"
          ]
        },
        {
          "output_type": "stream",
          "name": "stderr",
          "text": [
            "\r 10%|▉         | 146/1469 [00:30<07:04,  3.12it/s]"
          ]
        },
        {
          "output_type": "stream",
          "name": "stdout",
          "text": [
            "Error\n",
            "Error\n",
            "Error\n",
            "Error\n",
            "Error\n",
            "Error\n",
            "Error\n",
            "Error\n",
            "Error\n",
            "Error\n",
            "Error\n",
            "Error\n",
            "Error\n",
            "Error\n",
            "Error\n",
            "Error\n",
            "Error\n"
          ]
        },
        {
          "output_type": "stream",
          "name": "stderr",
          "text": [
            "\r 10%|█         | 147/1469 [00:30<07:23,  2.98it/s]"
          ]
        },
        {
          "output_type": "stream",
          "name": "stdout",
          "text": [
            "Error\n",
            "Error\n",
            "Error\n",
            "Error\n",
            "Error\n",
            "Error\n",
            "Error\n",
            "Error\n",
            "Error\n",
            "Error\n",
            "Error\n",
            "Error\n",
            "Error\n",
            "Error\n",
            "Error\n",
            "Error\n",
            "Error\n"
          ]
        },
        {
          "output_type": "stream",
          "name": "stderr",
          "text": [
            "\r 10%|█         | 148/1469 [00:31<07:37,  2.88it/s]"
          ]
        },
        {
          "output_type": "stream",
          "name": "stdout",
          "text": [
            "Error\n",
            "Error\n",
            "Error\n",
            "Error\n",
            "Error\n",
            "Error\n",
            "Error\n",
            "Error\n",
            "Error\n",
            "Error\n",
            "Error\n",
            "Error\n",
            "Error\n",
            "Error\n",
            "Error\n",
            "Error\n",
            "Error\n"
          ]
        },
        {
          "output_type": "stream",
          "name": "stderr",
          "text": [
            "\r 10%|█         | 149/1469 [00:31<07:44,  2.84it/s]"
          ]
        },
        {
          "output_type": "stream",
          "name": "stdout",
          "text": [
            "Error\n",
            "Error\n",
            "Error\n",
            "Error\n",
            "Error\n",
            "Error\n",
            "Error\n",
            "Error\n",
            "Error\n",
            "Error\n",
            "Error\n",
            "Error\n",
            "Error\n",
            "Error\n",
            "Error\n",
            "Error\n",
            "Error\n"
          ]
        },
        {
          "output_type": "stream",
          "name": "stderr",
          "text": [
            "\r 10%|█         | 150/1469 [00:31<07:25,  2.96it/s]"
          ]
        },
        {
          "output_type": "stream",
          "name": "stdout",
          "text": [
            "Error\n",
            "Error\n",
            "Error\n",
            "Error\n",
            "Error\n",
            "Error\n",
            "Error\n",
            "Error\n",
            "Error\n",
            "Error\n",
            "Error\n",
            "Error\n",
            "Error\n",
            "Error\n",
            "Error\n",
            "Error\n",
            "Error\n"
          ]
        },
        {
          "output_type": "stream",
          "name": "stderr",
          "text": [
            "\r 10%|█         | 151/1469 [00:32<07:50,  2.80it/s]"
          ]
        },
        {
          "output_type": "stream",
          "name": "stdout",
          "text": [
            "Error\n",
            "Error\n",
            "Error\n",
            "Error\n",
            "Error\n",
            "Error\n",
            "Error\n",
            "Error\n",
            "Error\n",
            "Error\n",
            "Error\n",
            "Error\n",
            "Error\n",
            "Error\n",
            "Error\n",
            "Error\n",
            "Error\n"
          ]
        },
        {
          "output_type": "stream",
          "name": "stderr",
          "text": [
            "\r 10%|█         | 152/1469 [00:32<07:34,  2.90it/s]"
          ]
        },
        {
          "output_type": "stream",
          "name": "stdout",
          "text": [
            "Error\n",
            "Error\n",
            "Error\n",
            "Error\n",
            "Error\n",
            "Error\n",
            "Error\n",
            "Error\n",
            "Error\n",
            "Error\n",
            "Error\n",
            "Error\n",
            "Error\n",
            "Error\n",
            "Error\n",
            "Error\n",
            "Error\n"
          ]
        },
        {
          "output_type": "stream",
          "name": "stderr",
          "text": [
            "\r 10%|█         | 153/1469 [00:33<08:04,  2.72it/s]"
          ]
        },
        {
          "output_type": "stream",
          "name": "stdout",
          "text": [
            "Error\n",
            "Error\n",
            "Error\n",
            "Error\n",
            "Error\n",
            "Error\n",
            "Error\n",
            "Error\n",
            "Error\n",
            "Error\n",
            "Error\n",
            "Error\n",
            "Error\n",
            "Error\n",
            "Error\n",
            "Error\n",
            "Error\n"
          ]
        },
        {
          "output_type": "stream",
          "name": "stderr",
          "text": [
            "\r 10%|█         | 154/1469 [00:33<07:58,  2.75it/s]"
          ]
        },
        {
          "output_type": "stream",
          "name": "stdout",
          "text": [
            "Error\n",
            "Error\n",
            "Error\n",
            "Error\n",
            "Error\n",
            "Error\n",
            "Error\n",
            "Error\n",
            "Error\n",
            "Error\n",
            "Error\n",
            "Error\n",
            "Error\n",
            "Error\n",
            "Error\n",
            "Error\n",
            "Error\n"
          ]
        },
        {
          "output_type": "stream",
          "name": "stderr",
          "text": [
            "\r 11%|█         | 155/1469 [00:33<07:01,  3.12it/s]"
          ]
        },
        {
          "output_type": "stream",
          "name": "stdout",
          "text": [
            "Error\n",
            "Error\n",
            "Error\n",
            "Error\n",
            "Error\n",
            "Error\n",
            "Error\n",
            "Error\n",
            "Error\n",
            "Error\n",
            "Error\n",
            "Error\n",
            "Error\n",
            "Error\n",
            "Error\n",
            "Error\n",
            "Error\n"
          ]
        },
        {
          "output_type": "stream",
          "name": "stderr",
          "text": [
            "\r 11%|█         | 156/1469 [00:33<06:32,  3.35it/s]"
          ]
        },
        {
          "output_type": "stream",
          "name": "stdout",
          "text": [
            "Error\n",
            "Error\n",
            "Error\n",
            "Error\n",
            "Error\n",
            "Error\n",
            "Error\n",
            "Error\n",
            "Error\n",
            "Error\n",
            "Error\n",
            "Error\n",
            "Error\n",
            "Error\n",
            "Error\n",
            "Error\n",
            "Error\n"
          ]
        },
        {
          "output_type": "stream",
          "name": "stderr",
          "text": [
            " 11%|█         | 157/1469 [00:34<04:46,  4.57it/s]\n"
          ]
        },
        {
          "output_type": "stream",
          "name": "stdout",
          "text": [
            "Error\n",
            "Error\n",
            "Error\n",
            "Error\n",
            "Error\n",
            "Error\n",
            "Error\n",
            "Error\n",
            "Error\n",
            "Error\n",
            "Error\n",
            "Error\n",
            "Error\n",
            "Error\n",
            "Error\n",
            "Error\n",
            "Error\n"
          ]
        },
        {
          "output_type": "error",
          "ename": "KeyboardInterrupt",
          "evalue": "ignored",
          "traceback": [
            "\u001b[0;31m---------------------------------------------------------------------------\u001b[0m",
            "\u001b[0;31mKeyboardInterrupt\u001b[0m                         Traceback (most recent call last)",
            "\u001b[0;32m<ipython-input-125-67c3a70e2ef9>\u001b[0m in \u001b[0;36m<module>\u001b[0;34m\u001b[0m\n\u001b[1;32m     11\u001b[0m         \u001b[0;32mexcept\u001b[0m\u001b[0;34m:\u001b[0m\u001b[0;34m\u001b[0m\u001b[0;34m\u001b[0m\u001b[0m\n\u001b[1;32m     12\u001b[0m           \u001b[0mprint\u001b[0m\u001b[0;34m(\u001b[0m\u001b[0;34m\"Error\"\u001b[0m\u001b[0;34m)\u001b[0m\u001b[0;34m\u001b[0m\u001b[0;34m\u001b[0m\u001b[0m\n\u001b[0;32m---> 13\u001b[0;31m     \u001b[0mbatch_preds\u001b[0m \u001b[0;34m=\u001b[0m \u001b[0mm\u001b[0m\u001b[0;34m.\u001b[0m\u001b[0mpredict\u001b[0m\u001b[0;34m(\u001b[0m\u001b[0mbatch_images\u001b[0m\u001b[0;34m)\u001b[0m \u001b[0;31m#この段階で既に予測をしている？何を予測している？？\u001b[0m\u001b[0;34m\u001b[0m\u001b[0;34m\u001b[0m\u001b[0m\n\u001b[0m\u001b[1;32m     14\u001b[0m     \u001b[0;32mfor\u001b[0m \u001b[0mi\u001b[0m\u001b[0;34m,\u001b[0m\u001b[0mimage_id\u001b[0m \u001b[0;32min\u001b[0m \u001b[0menumerate\u001b[0m\u001b[0;34m(\u001b[0m\u001b[0mbatch_ids\u001b[0m\u001b[0;34m)\u001b[0m\u001b[0;34m:\u001b[0m\u001b[0;34m\u001b[0m\u001b[0;34m\u001b[0m\u001b[0m\n\u001b[1;32m     15\u001b[0m         \u001b[0mfeatures\u001b[0m\u001b[0;34m[\u001b[0m\u001b[0mimage_id\u001b[0m\u001b[0;34m]\u001b[0m \u001b[0;34m=\u001b[0m \u001b[0mbatch_preds\u001b[0m\u001b[0;34m[\u001b[0m\u001b[0mi\u001b[0m\u001b[0;34m]\u001b[0m\u001b[0;34m\u001b[0m\u001b[0;34m\u001b[0m\u001b[0m\n",
            "\u001b[0;32m/usr/local/lib/python3.7/dist-packages/keras/utils/traceback_utils.py\u001b[0m in \u001b[0;36merror_handler\u001b[0;34m(*args, **kwargs)\u001b[0m\n\u001b[1;32m     62\u001b[0m     \u001b[0mfiltered_tb\u001b[0m \u001b[0;34m=\u001b[0m \u001b[0;32mNone\u001b[0m\u001b[0;34m\u001b[0m\u001b[0;34m\u001b[0m\u001b[0m\n\u001b[1;32m     63\u001b[0m     \u001b[0;32mtry\u001b[0m\u001b[0;34m:\u001b[0m\u001b[0;34m\u001b[0m\u001b[0;34m\u001b[0m\u001b[0m\n\u001b[0;32m---> 64\u001b[0;31m       \u001b[0;32mreturn\u001b[0m \u001b[0mfn\u001b[0m\u001b[0;34m(\u001b[0m\u001b[0;34m*\u001b[0m\u001b[0margs\u001b[0m\u001b[0;34m,\u001b[0m \u001b[0;34m**\u001b[0m\u001b[0mkwargs\u001b[0m\u001b[0;34m)\u001b[0m\u001b[0;34m\u001b[0m\u001b[0;34m\u001b[0m\u001b[0m\n\u001b[0m\u001b[1;32m     65\u001b[0m     \u001b[0;32mexcept\u001b[0m \u001b[0mException\u001b[0m \u001b[0;32mas\u001b[0m \u001b[0me\u001b[0m\u001b[0;34m:\u001b[0m  \u001b[0;31m# pylint: disable=broad-except\u001b[0m\u001b[0;34m\u001b[0m\u001b[0;34m\u001b[0m\u001b[0m\n\u001b[1;32m     66\u001b[0m       \u001b[0mfiltered_tb\u001b[0m \u001b[0;34m=\u001b[0m \u001b[0m_process_traceback_frames\u001b[0m\u001b[0;34m(\u001b[0m\u001b[0me\u001b[0m\u001b[0;34m.\u001b[0m\u001b[0m__traceback__\u001b[0m\u001b[0;34m)\u001b[0m\u001b[0;34m\u001b[0m\u001b[0;34m\u001b[0m\u001b[0m\n",
            "\u001b[0;32m/usr/local/lib/python3.7/dist-packages/keras/engine/training.py\u001b[0m in \u001b[0;36mpredict\u001b[0;34m(self, x, batch_size, verbose, steps, callbacks, max_queue_size, workers, use_multiprocessing)\u001b[0m\n\u001b[1;32m   1959\u001b[0m           \u001b[0muse_multiprocessing\u001b[0m\u001b[0;34m=\u001b[0m\u001b[0muse_multiprocessing\u001b[0m\u001b[0;34m,\u001b[0m\u001b[0;34m\u001b[0m\u001b[0;34m\u001b[0m\u001b[0m\n\u001b[1;32m   1960\u001b[0m           \u001b[0mmodel\u001b[0m\u001b[0;34m=\u001b[0m\u001b[0mself\u001b[0m\u001b[0;34m,\u001b[0m\u001b[0;34m\u001b[0m\u001b[0;34m\u001b[0m\u001b[0m\n\u001b[0;32m-> 1961\u001b[0;31m           steps_per_execution=self._steps_per_execution)\n\u001b[0m\u001b[1;32m   1962\u001b[0m \u001b[0;34m\u001b[0m\u001b[0m\n\u001b[1;32m   1963\u001b[0m       \u001b[0;31m# Container that configures and calls `tf.keras.Callback`s.\u001b[0m\u001b[0;34m\u001b[0m\u001b[0;34m\u001b[0m\u001b[0;34m\u001b[0m\u001b[0m\n",
            "\u001b[0;32m/usr/local/lib/python3.7/dist-packages/keras/engine/data_adapter.py\u001b[0m in \u001b[0;36mget_data_handler\u001b[0;34m(*args, **kwargs)\u001b[0m\n\u001b[1;32m   1397\u001b[0m   \u001b[0;32mif\u001b[0m \u001b[0mgetattr\u001b[0m\u001b[0;34m(\u001b[0m\u001b[0mkwargs\u001b[0m\u001b[0;34m[\u001b[0m\u001b[0;34m\"model\"\u001b[0m\u001b[0;34m]\u001b[0m\u001b[0;34m,\u001b[0m \u001b[0;34m\"_cluster_coordinator\"\u001b[0m\u001b[0;34m,\u001b[0m \u001b[0;32mNone\u001b[0m\u001b[0;34m)\u001b[0m\u001b[0;34m:\u001b[0m\u001b[0;34m\u001b[0m\u001b[0;34m\u001b[0m\u001b[0m\n\u001b[1;32m   1398\u001b[0m     \u001b[0;32mreturn\u001b[0m \u001b[0m_ClusterCoordinatorDataHandler\u001b[0m\u001b[0;34m(\u001b[0m\u001b[0;34m*\u001b[0m\u001b[0margs\u001b[0m\u001b[0;34m,\u001b[0m \u001b[0;34m**\u001b[0m\u001b[0mkwargs\u001b[0m\u001b[0;34m)\u001b[0m\u001b[0;34m\u001b[0m\u001b[0;34m\u001b[0m\u001b[0m\n\u001b[0;32m-> 1399\u001b[0;31m   \u001b[0;32mreturn\u001b[0m \u001b[0mDataHandler\u001b[0m\u001b[0;34m(\u001b[0m\u001b[0;34m*\u001b[0m\u001b[0margs\u001b[0m\u001b[0;34m,\u001b[0m \u001b[0;34m**\u001b[0m\u001b[0mkwargs\u001b[0m\u001b[0;34m)\u001b[0m\u001b[0;34m\u001b[0m\u001b[0;34m\u001b[0m\u001b[0m\n\u001b[0m\u001b[1;32m   1400\u001b[0m \u001b[0;34m\u001b[0m\u001b[0m\n\u001b[1;32m   1401\u001b[0m \u001b[0;34m\u001b[0m\u001b[0m\n",
            "\u001b[0;32m/usr/local/lib/python3.7/dist-packages/keras/engine/data_adapter.py\u001b[0m in \u001b[0;36m__init__\u001b[0;34m(self, x, y, sample_weight, batch_size, steps_per_epoch, initial_epoch, epochs, shuffle, class_weight, max_queue_size, workers, use_multiprocessing, model, steps_per_execution, distribute)\u001b[0m\n\u001b[1;32m   1159\u001b[0m         \u001b[0muse_multiprocessing\u001b[0m\u001b[0;34m=\u001b[0m\u001b[0muse_multiprocessing\u001b[0m\u001b[0;34m,\u001b[0m\u001b[0;34m\u001b[0m\u001b[0;34m\u001b[0m\u001b[0m\n\u001b[1;32m   1160\u001b[0m         \u001b[0mdistribution_strategy\u001b[0m\u001b[0;34m=\u001b[0m\u001b[0mtf\u001b[0m\u001b[0;34m.\u001b[0m\u001b[0mdistribute\u001b[0m\u001b[0;34m.\u001b[0m\u001b[0mget_strategy\u001b[0m\u001b[0;34m(\u001b[0m\u001b[0;34m)\u001b[0m\u001b[0;34m,\u001b[0m\u001b[0;34m\u001b[0m\u001b[0;34m\u001b[0m\u001b[0m\n\u001b[0;32m-> 1161\u001b[0;31m         model=model)\n\u001b[0m\u001b[1;32m   1162\u001b[0m \u001b[0;34m\u001b[0m\u001b[0m\n\u001b[1;32m   1163\u001b[0m     \u001b[0mstrategy\u001b[0m \u001b[0;34m=\u001b[0m \u001b[0mtf\u001b[0m\u001b[0;34m.\u001b[0m\u001b[0mdistribute\u001b[0m\u001b[0;34m.\u001b[0m\u001b[0mget_strategy\u001b[0m\u001b[0;34m(\u001b[0m\u001b[0;34m)\u001b[0m\u001b[0;34m\u001b[0m\u001b[0;34m\u001b[0m\u001b[0m\n",
            "\u001b[0;32m/usr/local/lib/python3.7/dist-packages/keras/engine/data_adapter.py\u001b[0m in \u001b[0;36m__init__\u001b[0;34m(self, x, y, sample_weights, sample_weight_modes, batch_size, epochs, steps, shuffle, **kwargs)\u001b[0m\n\u001b[1;32m    326\u001b[0m     \u001b[0mindices_dataset\u001b[0m \u001b[0;34m=\u001b[0m \u001b[0mindices_dataset\u001b[0m\u001b[0;34m.\u001b[0m\u001b[0mflat_map\u001b[0m\u001b[0;34m(\u001b[0m\u001b[0mslice_batch_indices\u001b[0m\u001b[0;34m)\u001b[0m\u001b[0;34m\u001b[0m\u001b[0;34m\u001b[0m\u001b[0m\n\u001b[1;32m    327\u001b[0m \u001b[0;34m\u001b[0m\u001b[0m\n\u001b[0;32m--> 328\u001b[0;31m     \u001b[0mdataset\u001b[0m \u001b[0;34m=\u001b[0m \u001b[0mself\u001b[0m\u001b[0;34m.\u001b[0m\u001b[0mslice_inputs\u001b[0m\u001b[0;34m(\u001b[0m\u001b[0mindices_dataset\u001b[0m\u001b[0;34m,\u001b[0m \u001b[0minputs\u001b[0m\u001b[0;34m)\u001b[0m\u001b[0;34m\u001b[0m\u001b[0;34m\u001b[0m\u001b[0m\n\u001b[0m\u001b[1;32m    329\u001b[0m \u001b[0;34m\u001b[0m\u001b[0m\n\u001b[1;32m    330\u001b[0m     \u001b[0;32mif\u001b[0m \u001b[0mshuffle\u001b[0m \u001b[0;34m==\u001b[0m \u001b[0;34m\"batch\"\u001b[0m\u001b[0;34m:\u001b[0m\u001b[0;34m\u001b[0m\u001b[0;34m\u001b[0m\u001b[0m\n",
            "\u001b[0;32m/usr/local/lib/python3.7/dist-packages/keras/engine/data_adapter.py\u001b[0m in \u001b[0;36mslice_inputs\u001b[0;34m(self, indices_dataset, inputs)\u001b[0m\n\u001b[1;32m    359\u001b[0m \u001b[0;34m\u001b[0m\u001b[0m\n\u001b[1;32m    360\u001b[0m     dataset = dataset.map(\n\u001b[0;32m--> 361\u001b[0;31m         grab_batch, num_parallel_calls=tf.data.AUTOTUNE)\n\u001b[0m\u001b[1;32m    362\u001b[0m \u001b[0;34m\u001b[0m\u001b[0m\n\u001b[1;32m    363\u001b[0m     \u001b[0;31m# Default optimizations are disabled to avoid the overhead of (unnecessary)\u001b[0m\u001b[0;34m\u001b[0m\u001b[0;34m\u001b[0m\u001b[0;34m\u001b[0m\u001b[0m\n",
            "\u001b[0;32m/usr/local/lib/python3.7/dist-packages/tensorflow/python/data/ops/dataset_ops.py\u001b[0m in \u001b[0;36mmap\u001b[0;34m(self, map_func, num_parallel_calls, deterministic, name)\u001b[0m\n\u001b[1;32m   2022\u001b[0m           \u001b[0mdeterministic\u001b[0m\u001b[0;34m,\u001b[0m\u001b[0;34m\u001b[0m\u001b[0;34m\u001b[0m\u001b[0m\n\u001b[1;32m   2023\u001b[0m           \u001b[0mpreserve_cardinality\u001b[0m\u001b[0;34m=\u001b[0m\u001b[0;32mTrue\u001b[0m\u001b[0;34m,\u001b[0m\u001b[0;34m\u001b[0m\u001b[0;34m\u001b[0m\u001b[0m\n\u001b[0;32m-> 2024\u001b[0;31m           name=name)\n\u001b[0m\u001b[1;32m   2025\u001b[0m \u001b[0;34m\u001b[0m\u001b[0m\n\u001b[1;32m   2026\u001b[0m   \u001b[0;32mdef\u001b[0m \u001b[0mflat_map\u001b[0m\u001b[0;34m(\u001b[0m\u001b[0mself\u001b[0m\u001b[0;34m,\u001b[0m \u001b[0mmap_func\u001b[0m\u001b[0;34m,\u001b[0m \u001b[0mname\u001b[0m\u001b[0;34m=\u001b[0m\u001b[0;32mNone\u001b[0m\u001b[0;34m)\u001b[0m\u001b[0;34m:\u001b[0m\u001b[0;34m\u001b[0m\u001b[0;34m\u001b[0m\u001b[0m\n",
            "\u001b[0;32m/usr/local/lib/python3.7/dist-packages/tensorflow/python/data/ops/dataset_ops.py\u001b[0m in \u001b[0;36m__init__\u001b[0;34m(self, input_dataset, map_func, num_parallel_calls, deterministic, use_inter_op_parallelism, preserve_cardinality, use_legacy_function, name)\u001b[0m\n\u001b[1;32m   5236\u001b[0m         \u001b[0mself\u001b[0m\u001b[0;34m.\u001b[0m\u001b[0m_transformation_name\u001b[0m\u001b[0;34m(\u001b[0m\u001b[0;34m)\u001b[0m\u001b[0;34m,\u001b[0m\u001b[0;34m\u001b[0m\u001b[0;34m\u001b[0m\u001b[0m\n\u001b[1;32m   5237\u001b[0m         \u001b[0mdataset\u001b[0m\u001b[0;34m=\u001b[0m\u001b[0minput_dataset\u001b[0m\u001b[0;34m,\u001b[0m\u001b[0;34m\u001b[0m\u001b[0;34m\u001b[0m\u001b[0m\n\u001b[0;32m-> 5238\u001b[0;31m         use_legacy_function=use_legacy_function)\n\u001b[0m\u001b[1;32m   5239\u001b[0m     \u001b[0;32mif\u001b[0m \u001b[0mdeterministic\u001b[0m \u001b[0;32mis\u001b[0m \u001b[0;32mNone\u001b[0m\u001b[0;34m:\u001b[0m\u001b[0;34m\u001b[0m\u001b[0;34m\u001b[0m\u001b[0m\n\u001b[1;32m   5240\u001b[0m       \u001b[0mself\u001b[0m\u001b[0;34m.\u001b[0m\u001b[0m_deterministic\u001b[0m \u001b[0;34m=\u001b[0m \u001b[0;34m\"default\"\u001b[0m\u001b[0;34m\u001b[0m\u001b[0;34m\u001b[0m\u001b[0m\n",
            "\u001b[0;32m/usr/local/lib/python3.7/dist-packages/tensorflow/python/data/ops/structured_function.py\u001b[0m in \u001b[0;36m__init__\u001b[0;34m(self, func, transformation_name, dataset, input_classes, input_shapes, input_types, input_structure, add_to_graph, use_legacy_function, defun_kwargs)\u001b[0m\n\u001b[1;32m    269\u001b[0m         \u001b[0mfn_factory\u001b[0m \u001b[0;34m=\u001b[0m \u001b[0mtrace_tf_function\u001b[0m\u001b[0;34m(\u001b[0m\u001b[0mdefun_kwargs\u001b[0m\u001b[0;34m)\u001b[0m\u001b[0;34m\u001b[0m\u001b[0;34m\u001b[0m\u001b[0m\n\u001b[1;32m    270\u001b[0m \u001b[0;34m\u001b[0m\u001b[0m\n\u001b[0;32m--> 271\u001b[0;31m     \u001b[0mself\u001b[0m\u001b[0;34m.\u001b[0m\u001b[0m_function\u001b[0m \u001b[0;34m=\u001b[0m \u001b[0mfn_factory\u001b[0m\u001b[0;34m(\u001b[0m\u001b[0;34m)\u001b[0m\u001b[0;34m\u001b[0m\u001b[0;34m\u001b[0m\u001b[0m\n\u001b[0m\u001b[1;32m    272\u001b[0m     \u001b[0;31m# There is no graph to add in eager mode.\u001b[0m\u001b[0;34m\u001b[0m\u001b[0;34m\u001b[0m\u001b[0;34m\u001b[0m\u001b[0m\n\u001b[1;32m    273\u001b[0m     \u001b[0madd_to_graph\u001b[0m \u001b[0;34m&=\u001b[0m \u001b[0;32mnot\u001b[0m \u001b[0mcontext\u001b[0m\u001b[0;34m.\u001b[0m\u001b[0mexecuting_eagerly\u001b[0m\u001b[0;34m(\u001b[0m\u001b[0;34m)\u001b[0m\u001b[0;34m\u001b[0m\u001b[0;34m\u001b[0m\u001b[0m\n",
            "\u001b[0;32m/usr/local/lib/python3.7/dist-packages/tensorflow/python/eager/function.py\u001b[0m in \u001b[0;36mget_concrete_function\u001b[0;34m(self, *args, **kwargs)\u001b[0m\n\u001b[1;32m   3069\u001b[0m     \"\"\"\n\u001b[1;32m   3070\u001b[0m     graph_function = self._get_concrete_function_garbage_collected(\n\u001b[0;32m-> 3071\u001b[0;31m         *args, **kwargs)\n\u001b[0m\u001b[1;32m   3072\u001b[0m     \u001b[0mgraph_function\u001b[0m\u001b[0;34m.\u001b[0m\u001b[0m_garbage_collector\u001b[0m\u001b[0;34m.\u001b[0m\u001b[0mrelease\u001b[0m\u001b[0;34m(\u001b[0m\u001b[0;34m)\u001b[0m  \u001b[0;31m# pylint: disable=protected-access\u001b[0m\u001b[0;34m\u001b[0m\u001b[0;34m\u001b[0m\u001b[0m\n\u001b[1;32m   3073\u001b[0m     \u001b[0;32mreturn\u001b[0m \u001b[0mgraph_function\u001b[0m\u001b[0;34m\u001b[0m\u001b[0;34m\u001b[0m\u001b[0m\n",
            "\u001b[0;32m/usr/local/lib/python3.7/dist-packages/tensorflow/python/eager/function.py\u001b[0m in \u001b[0;36m_get_concrete_function_garbage_collected\u001b[0;34m(self, *args, **kwargs)\u001b[0m\n\u001b[1;32m   3034\u001b[0m       \u001b[0margs\u001b[0m\u001b[0;34m,\u001b[0m \u001b[0mkwargs\u001b[0m \u001b[0;34m=\u001b[0m \u001b[0;32mNone\u001b[0m\u001b[0;34m,\u001b[0m \u001b[0;32mNone\u001b[0m\u001b[0;34m\u001b[0m\u001b[0;34m\u001b[0m\u001b[0m\n\u001b[1;32m   3035\u001b[0m     \u001b[0;32mwith\u001b[0m \u001b[0mself\u001b[0m\u001b[0;34m.\u001b[0m\u001b[0m_lock\u001b[0m\u001b[0;34m:\u001b[0m\u001b[0;34m\u001b[0m\u001b[0;34m\u001b[0m\u001b[0m\n\u001b[0;32m-> 3036\u001b[0;31m       \u001b[0mgraph_function\u001b[0m\u001b[0;34m,\u001b[0m \u001b[0m_\u001b[0m \u001b[0;34m=\u001b[0m \u001b[0mself\u001b[0m\u001b[0;34m.\u001b[0m\u001b[0m_maybe_define_function\u001b[0m\u001b[0;34m(\u001b[0m\u001b[0margs\u001b[0m\u001b[0;34m,\u001b[0m \u001b[0mkwargs\u001b[0m\u001b[0;34m)\u001b[0m\u001b[0;34m\u001b[0m\u001b[0;34m\u001b[0m\u001b[0m\n\u001b[0m\u001b[1;32m   3037\u001b[0m       \u001b[0mseen_names\u001b[0m \u001b[0;34m=\u001b[0m \u001b[0mset\u001b[0m\u001b[0;34m(\u001b[0m\u001b[0;34m)\u001b[0m\u001b[0;34m\u001b[0m\u001b[0;34m\u001b[0m\u001b[0m\n\u001b[1;32m   3038\u001b[0m       captured = object_identity.ObjectIdentitySet(\n",
            "\u001b[0;32m/usr/local/lib/python3.7/dist-packages/tensorflow/python/eager/function.py\u001b[0m in \u001b[0;36m_maybe_define_function\u001b[0;34m(self, args, kwargs)\u001b[0m\n\u001b[1;32m   3290\u001b[0m \u001b[0;34m\u001b[0m\u001b[0m\n\u001b[1;32m   3291\u001b[0m           \u001b[0mself\u001b[0m\u001b[0;34m.\u001b[0m\u001b[0m_function_cache\u001b[0m\u001b[0;34m.\u001b[0m\u001b[0madd_call_context\u001b[0m\u001b[0;34m(\u001b[0m\u001b[0mcache_key\u001b[0m\u001b[0;34m.\u001b[0m\u001b[0mcall_context\u001b[0m\u001b[0;34m)\u001b[0m\u001b[0;34m\u001b[0m\u001b[0;34m\u001b[0m\u001b[0m\n\u001b[0;32m-> 3292\u001b[0;31m           \u001b[0mgraph_function\u001b[0m \u001b[0;34m=\u001b[0m \u001b[0mself\u001b[0m\u001b[0;34m.\u001b[0m\u001b[0m_create_graph_function\u001b[0m\u001b[0;34m(\u001b[0m\u001b[0margs\u001b[0m\u001b[0;34m,\u001b[0m \u001b[0mkwargs\u001b[0m\u001b[0;34m)\u001b[0m\u001b[0;34m\u001b[0m\u001b[0;34m\u001b[0m\u001b[0m\n\u001b[0m\u001b[1;32m   3293\u001b[0m           self._function_cache.add(cache_key, cache_key_deletion_observer,\n\u001b[1;32m   3294\u001b[0m                                    graph_function)\n",
            "\u001b[0;32m/usr/local/lib/python3.7/dist-packages/tensorflow/python/eager/function.py\u001b[0m in \u001b[0;36m_create_graph_function\u001b[0;34m(self, args, kwargs, override_flat_arg_shapes)\u001b[0m\n\u001b[1;32m   3138\u001b[0m             \u001b[0marg_names\u001b[0m\u001b[0;34m=\u001b[0m\u001b[0marg_names\u001b[0m\u001b[0;34m,\u001b[0m\u001b[0;34m\u001b[0m\u001b[0;34m\u001b[0m\u001b[0m\n\u001b[1;32m   3139\u001b[0m             \u001b[0moverride_flat_arg_shapes\u001b[0m\u001b[0;34m=\u001b[0m\u001b[0moverride_flat_arg_shapes\u001b[0m\u001b[0;34m,\u001b[0m\u001b[0;34m\u001b[0m\u001b[0;34m\u001b[0m\u001b[0m\n\u001b[0;32m-> 3140\u001b[0;31m             capture_by_value=self._capture_by_value),\n\u001b[0m\u001b[1;32m   3141\u001b[0m         \u001b[0mself\u001b[0m\u001b[0;34m.\u001b[0m\u001b[0m_function_attributes\u001b[0m\u001b[0;34m,\u001b[0m\u001b[0;34m\u001b[0m\u001b[0;34m\u001b[0m\u001b[0m\n\u001b[1;32m   3142\u001b[0m         \u001b[0mfunction_spec\u001b[0m\u001b[0;34m=\u001b[0m\u001b[0mself\u001b[0m\u001b[0;34m.\u001b[0m\u001b[0mfunction_spec\u001b[0m\u001b[0;34m,\u001b[0m\u001b[0;34m\u001b[0m\u001b[0;34m\u001b[0m\u001b[0m\n",
            "\u001b[0;32m/usr/local/lib/python3.7/dist-packages/tensorflow/python/framework/func_graph.py\u001b[0m in \u001b[0;36mfunc_graph_from_py_func\u001b[0;34m(name, python_func, args, kwargs, signature, func_graph, autograph, autograph_options, add_control_dependencies, arg_names, op_return_value, collections, capture_by_value, override_flat_arg_shapes, acd_record_initial_resource_uses)\u001b[0m\n\u001b[1;32m   1164\u001b[0m       \u001b[0;31m# TensorArrays and `None`s.\u001b[0m\u001b[0;34m\u001b[0m\u001b[0;34m\u001b[0m\u001b[0;34m\u001b[0m\u001b[0m\n\u001b[1;32m   1165\u001b[0m       func_outputs = nest.map_structure(convert, func_outputs,\n\u001b[0;32m-> 1166\u001b[0;31m                                         expand_composites=True)\n\u001b[0m\u001b[1;32m   1167\u001b[0m \u001b[0;34m\u001b[0m\u001b[0m\n\u001b[1;32m   1168\u001b[0m       \u001b[0mcheck_mutation\u001b[0m\u001b[0;34m(\u001b[0m\u001b[0mfunc_args_before\u001b[0m\u001b[0;34m,\u001b[0m \u001b[0mfunc_args\u001b[0m\u001b[0;34m,\u001b[0m \u001b[0moriginal_func\u001b[0m\u001b[0;34m)\u001b[0m\u001b[0;34m\u001b[0m\u001b[0;34m\u001b[0m\u001b[0m\n",
            "\u001b[0;32m/usr/local/lib/python3.7/dist-packages/tensorflow/python/util/nest.py\u001b[0m in \u001b[0;36mmap_structure\u001b[0;34m(func, *structure, **kwargs)\u001b[0m\n\u001b[1;32m    912\u001b[0m \u001b[0;34m\u001b[0m\u001b[0m\n\u001b[1;32m    913\u001b[0m   return pack_sequence_as(\n\u001b[0;32m--> 914\u001b[0;31m       \u001b[0mstructure\u001b[0m\u001b[0;34m[\u001b[0m\u001b[0;36m0\u001b[0m\u001b[0;34m]\u001b[0m\u001b[0;34m,\u001b[0m \u001b[0;34m[\u001b[0m\u001b[0mfunc\u001b[0m\u001b[0;34m(\u001b[0m\u001b[0;34m*\u001b[0m\u001b[0mx\u001b[0m\u001b[0;34m)\u001b[0m \u001b[0;32mfor\u001b[0m \u001b[0mx\u001b[0m \u001b[0;32min\u001b[0m \u001b[0mentries\u001b[0m\u001b[0;34m]\u001b[0m\u001b[0;34m,\u001b[0m\u001b[0;34m\u001b[0m\u001b[0;34m\u001b[0m\u001b[0m\n\u001b[0m\u001b[1;32m    915\u001b[0m       expand_composites=expand_composites)\n\u001b[1;32m    916\u001b[0m \u001b[0;34m\u001b[0m\u001b[0m\n",
            "\u001b[0;32m/usr/local/lib/python3.7/dist-packages/tensorflow/python/util/nest.py\u001b[0m in \u001b[0;36m<listcomp>\u001b[0;34m(.0)\u001b[0m\n\u001b[1;32m    912\u001b[0m \u001b[0;34m\u001b[0m\u001b[0m\n\u001b[1;32m    913\u001b[0m   return pack_sequence_as(\n\u001b[0;32m--> 914\u001b[0;31m       \u001b[0mstructure\u001b[0m\u001b[0;34m[\u001b[0m\u001b[0;36m0\u001b[0m\u001b[0;34m]\u001b[0m\u001b[0;34m,\u001b[0m \u001b[0;34m[\u001b[0m\u001b[0mfunc\u001b[0m\u001b[0;34m(\u001b[0m\u001b[0;34m*\u001b[0m\u001b[0mx\u001b[0m\u001b[0;34m)\u001b[0m \u001b[0;32mfor\u001b[0m \u001b[0mx\u001b[0m \u001b[0;32min\u001b[0m \u001b[0mentries\u001b[0m\u001b[0;34m]\u001b[0m\u001b[0;34m,\u001b[0m\u001b[0;34m\u001b[0m\u001b[0;34m\u001b[0m\u001b[0m\n\u001b[0m\u001b[1;32m    915\u001b[0m       expand_composites=expand_composites)\n\u001b[1;32m    916\u001b[0m \u001b[0;34m\u001b[0m\u001b[0m\n",
            "\u001b[0;32m/usr/local/lib/python3.7/dist-packages/tensorflow/python/framework/func_graph.py\u001b[0m in \u001b[0;36mconvert\u001b[0;34m(x)\u001b[0m\n\u001b[1;32m   1122\u001b[0m               \"ExtensionType.\")\n\u001b[1;32m   1123\u001b[0m       \u001b[0;32mif\u001b[0m \u001b[0madd_control_dependencies\u001b[0m\u001b[0;34m:\u001b[0m\u001b[0;34m\u001b[0m\u001b[0;34m\u001b[0m\u001b[0m\n\u001b[0;32m-> 1124\u001b[0;31m         \u001b[0mx\u001b[0m \u001b[0;34m=\u001b[0m \u001b[0mdeps_ctx\u001b[0m\u001b[0;34m.\u001b[0m\u001b[0mmark_as_return\u001b[0m\u001b[0;34m(\u001b[0m\u001b[0mx\u001b[0m\u001b[0;34m)\u001b[0m\u001b[0;34m\u001b[0m\u001b[0;34m\u001b[0m\u001b[0m\n\u001b[0m\u001b[1;32m   1125\u001b[0m       \u001b[0;32mreturn\u001b[0m \u001b[0mx\u001b[0m\u001b[0;34m\u001b[0m\u001b[0;34m\u001b[0m\u001b[0m\n\u001b[1;32m   1126\u001b[0m \u001b[0;34m\u001b[0m\u001b[0m\n",
            "\u001b[0;32m/usr/local/lib/python3.7/dist-packages/tensorflow/python/framework/auto_control_deps.py\u001b[0m in \u001b[0;36mmark_as_return\u001b[0;34m(self, tensor)\u001b[0m\n\u001b[1;32m    248\u001b[0m     \u001b[0;31m# of a new identity operation that the stateful operations definitely don't\u001b[0m\u001b[0;34m\u001b[0m\u001b[0;34m\u001b[0m\u001b[0;34m\u001b[0m\u001b[0m\n\u001b[1;32m    249\u001b[0m     \u001b[0;31m# depend on.\u001b[0m\u001b[0;34m\u001b[0m\u001b[0;34m\u001b[0m\u001b[0;34m\u001b[0m\u001b[0m\n\u001b[0;32m--> 250\u001b[0;31m     \u001b[0mtensor\u001b[0m \u001b[0;34m=\u001b[0m \u001b[0marray_ops\u001b[0m\u001b[0;34m.\u001b[0m\u001b[0midentity\u001b[0m\u001b[0;34m(\u001b[0m\u001b[0mtensor\u001b[0m\u001b[0;34m)\u001b[0m\u001b[0;34m\u001b[0m\u001b[0;34m\u001b[0m\u001b[0m\n\u001b[0m\u001b[1;32m    251\u001b[0m     \u001b[0mself\u001b[0m\u001b[0;34m.\u001b[0m\u001b[0m_returned_tensors\u001b[0m\u001b[0;34m.\u001b[0m\u001b[0madd\u001b[0m\u001b[0;34m(\u001b[0m\u001b[0mtensor\u001b[0m\u001b[0;34m)\u001b[0m\u001b[0;34m\u001b[0m\u001b[0;34m\u001b[0m\u001b[0m\n\u001b[1;32m    252\u001b[0m     \u001b[0;32mreturn\u001b[0m \u001b[0mtensor\u001b[0m\u001b[0;34m\u001b[0m\u001b[0;34m\u001b[0m\u001b[0m\n",
            "\u001b[0;32m/usr/local/lib/python3.7/dist-packages/tensorflow/python/util/traceback_utils.py\u001b[0m in \u001b[0;36merror_handler\u001b[0;34m(*args, **kwargs)\u001b[0m\n\u001b[1;32m    148\u001b[0m     \u001b[0mfiltered_tb\u001b[0m \u001b[0;34m=\u001b[0m \u001b[0;32mNone\u001b[0m\u001b[0;34m\u001b[0m\u001b[0;34m\u001b[0m\u001b[0m\n\u001b[1;32m    149\u001b[0m     \u001b[0;32mtry\u001b[0m\u001b[0;34m:\u001b[0m\u001b[0;34m\u001b[0m\u001b[0;34m\u001b[0m\u001b[0m\n\u001b[0;32m--> 150\u001b[0;31m       \u001b[0;32mreturn\u001b[0m \u001b[0mfn\u001b[0m\u001b[0;34m(\u001b[0m\u001b[0;34m*\u001b[0m\u001b[0margs\u001b[0m\u001b[0;34m,\u001b[0m \u001b[0;34m**\u001b[0m\u001b[0mkwargs\u001b[0m\u001b[0;34m)\u001b[0m\u001b[0;34m\u001b[0m\u001b[0;34m\u001b[0m\u001b[0m\n\u001b[0m\u001b[1;32m    151\u001b[0m     \u001b[0;32mexcept\u001b[0m \u001b[0mException\u001b[0m \u001b[0;32mas\u001b[0m \u001b[0me\u001b[0m\u001b[0;34m:\u001b[0m\u001b[0;34m\u001b[0m\u001b[0;34m\u001b[0m\u001b[0m\n\u001b[1;32m    152\u001b[0m       \u001b[0mfiltered_tb\u001b[0m \u001b[0;34m=\u001b[0m \u001b[0m_process_traceback_frames\u001b[0m\u001b[0;34m(\u001b[0m\u001b[0me\u001b[0m\u001b[0;34m.\u001b[0m\u001b[0m__traceback__\u001b[0m\u001b[0;34m)\u001b[0m\u001b[0;34m\u001b[0m\u001b[0;34m\u001b[0m\u001b[0m\n",
            "\u001b[0;32m/usr/local/lib/python3.7/dist-packages/tensorflow/python/util/dispatch.py\u001b[0m in \u001b[0;36mop_dispatch_handler\u001b[0;34m(*args, **kwargs)\u001b[0m\n\u001b[1;32m   1080\u001b[0m       \u001b[0;31m# Fallback dispatch system (dispatch v1):\u001b[0m\u001b[0;34m\u001b[0m\u001b[0;34m\u001b[0m\u001b[0;34m\u001b[0m\u001b[0m\n\u001b[1;32m   1081\u001b[0m       \u001b[0;32mtry\u001b[0m\u001b[0;34m:\u001b[0m\u001b[0;34m\u001b[0m\u001b[0;34m\u001b[0m\u001b[0m\n\u001b[0;32m-> 1082\u001b[0;31m         \u001b[0;32mreturn\u001b[0m \u001b[0mdispatch_target\u001b[0m\u001b[0;34m(\u001b[0m\u001b[0;34m*\u001b[0m\u001b[0margs\u001b[0m\u001b[0;34m,\u001b[0m \u001b[0;34m**\u001b[0m\u001b[0mkwargs\u001b[0m\u001b[0;34m)\u001b[0m\u001b[0;34m\u001b[0m\u001b[0;34m\u001b[0m\u001b[0m\n\u001b[0m\u001b[1;32m   1083\u001b[0m       \u001b[0;32mexcept\u001b[0m \u001b[0;34m(\u001b[0m\u001b[0mTypeError\u001b[0m\u001b[0;34m,\u001b[0m \u001b[0mValueError\u001b[0m\u001b[0;34m)\u001b[0m\u001b[0;34m:\u001b[0m\u001b[0;34m\u001b[0m\u001b[0;34m\u001b[0m\u001b[0m\n\u001b[1;32m   1084\u001b[0m         \u001b[0;31m# Note: convert_to_eager_tensor currently raises a ValueError, not a\u001b[0m\u001b[0;34m\u001b[0m\u001b[0;34m\u001b[0m\u001b[0;34m\u001b[0m\u001b[0m\n",
            "\u001b[0;32m/usr/local/lib/python3.7/dist-packages/tensorflow/python/ops/array_ops.py\u001b[0m in \u001b[0;36midentity\u001b[0;34m(input, name)\u001b[0m\n\u001b[1;32m    285\u001b[0m     \u001b[0;31m# variables. Variables have correct handle data when graph building.\u001b[0m\u001b[0;34m\u001b[0m\u001b[0;34m\u001b[0m\u001b[0;34m\u001b[0m\u001b[0m\n\u001b[1;32m    286\u001b[0m     \u001b[0minput\u001b[0m \u001b[0;34m=\u001b[0m \u001b[0mops\u001b[0m\u001b[0;34m.\u001b[0m\u001b[0mconvert_to_tensor\u001b[0m\u001b[0;34m(\u001b[0m\u001b[0minput\u001b[0m\u001b[0;34m)\u001b[0m\u001b[0;34m\u001b[0m\u001b[0;34m\u001b[0m\u001b[0m\n\u001b[0;32m--> 287\u001b[0;31m   \u001b[0mret\u001b[0m \u001b[0;34m=\u001b[0m \u001b[0mgen_array_ops\u001b[0m\u001b[0;34m.\u001b[0m\u001b[0midentity\u001b[0m\u001b[0;34m(\u001b[0m\u001b[0minput\u001b[0m\u001b[0;34m,\u001b[0m \u001b[0mname\u001b[0m\u001b[0;34m=\u001b[0m\u001b[0mname\u001b[0m\u001b[0;34m)\u001b[0m\u001b[0;34m\u001b[0m\u001b[0;34m\u001b[0m\u001b[0m\n\u001b[0m\u001b[1;32m    288\u001b[0m   \u001b[0;31m# Propagate handle data for happier shape inference for resource variables.\u001b[0m\u001b[0;34m\u001b[0m\u001b[0;34m\u001b[0m\u001b[0;34m\u001b[0m\u001b[0m\n\u001b[1;32m    289\u001b[0m   \u001b[0;32mif\u001b[0m \u001b[0mhasattr\u001b[0m\u001b[0;34m(\u001b[0m\u001b[0minput\u001b[0m\u001b[0;34m,\u001b[0m \u001b[0;34m\"_handle_data\"\u001b[0m\u001b[0;34m)\u001b[0m\u001b[0;34m:\u001b[0m\u001b[0;34m\u001b[0m\u001b[0;34m\u001b[0m\u001b[0m\n",
            "\u001b[0;32m/usr/local/lib/python3.7/dist-packages/tensorflow/python/ops/gen_array_ops.py\u001b[0m in \u001b[0;36midentity\u001b[0;34m(input, name)\u001b[0m\n\u001b[1;32m   4076\u001b[0m   \u001b[0;31m# Add nodes to the TensorFlow graph.\u001b[0m\u001b[0;34m\u001b[0m\u001b[0;34m\u001b[0m\u001b[0;34m\u001b[0m\u001b[0m\n\u001b[1;32m   4077\u001b[0m   _, _, _op, _outputs = _op_def_library._apply_op_helper(\n\u001b[0;32m-> 4078\u001b[0;31m         \"Identity\", input=input, name=name)\n\u001b[0m\u001b[1;32m   4079\u001b[0m   \u001b[0m_result\u001b[0m \u001b[0;34m=\u001b[0m \u001b[0m_outputs\u001b[0m\u001b[0;34m[\u001b[0m\u001b[0;34m:\u001b[0m\u001b[0;34m]\u001b[0m\u001b[0;34m\u001b[0m\u001b[0;34m\u001b[0m\u001b[0m\n\u001b[1;32m   4080\u001b[0m   \u001b[0;32mif\u001b[0m \u001b[0m_execute\u001b[0m\u001b[0;34m.\u001b[0m\u001b[0mmust_record_gradient\u001b[0m\u001b[0;34m(\u001b[0m\u001b[0;34m)\u001b[0m\u001b[0;34m:\u001b[0m\u001b[0;34m\u001b[0m\u001b[0;34m\u001b[0m\u001b[0m\n",
            "\u001b[0;32m/usr/local/lib/python3.7/dist-packages/tensorflow/python/framework/op_def_library.py\u001b[0m in \u001b[0;36m_apply_op_helper\u001b[0;34m(op_type_name, name, **keywords)\u001b[0m\n\u001b[1;32m    713\u001b[0m     \u001b[0;31m# Determine output types (possibly using attrs)\u001b[0m\u001b[0;34m\u001b[0m\u001b[0;34m\u001b[0m\u001b[0;34m\u001b[0m\u001b[0m\n\u001b[1;32m    714\u001b[0m     \u001b[0moutput_structure\u001b[0m \u001b[0;34m=\u001b[0m \u001b[0;34m[\u001b[0m\u001b[0;34m]\u001b[0m\u001b[0;34m\u001b[0m\u001b[0;34m\u001b[0m\u001b[0m\n\u001b[0;32m--> 715\u001b[0;31m     \u001b[0;32mfor\u001b[0m \u001b[0marg\u001b[0m \u001b[0;32min\u001b[0m \u001b[0mop_def\u001b[0m\u001b[0;34m.\u001b[0m\u001b[0moutput_arg\u001b[0m\u001b[0;34m:\u001b[0m\u001b[0;34m\u001b[0m\u001b[0;34m\u001b[0m\u001b[0m\n\u001b[0m\u001b[1;32m    716\u001b[0m       \u001b[0;32mif\u001b[0m \u001b[0marg\u001b[0m\u001b[0;34m.\u001b[0m\u001b[0mnumber_attr\u001b[0m\u001b[0;34m:\u001b[0m\u001b[0;34m\u001b[0m\u001b[0;34m\u001b[0m\u001b[0m\n\u001b[1;32m    717\u001b[0m         \u001b[0mn\u001b[0m \u001b[0;34m=\u001b[0m \u001b[0m_AttrValue\u001b[0m\u001b[0;34m(\u001b[0m\u001b[0mattr_protos\u001b[0m\u001b[0;34m,\u001b[0m \u001b[0marg\u001b[0m\u001b[0;34m.\u001b[0m\u001b[0mnumber_attr\u001b[0m\u001b[0;34m,\u001b[0m \u001b[0mop_type_name\u001b[0m\u001b[0;34m)\u001b[0m\u001b[0;34m.\u001b[0m\u001b[0mi\u001b[0m\u001b[0;34m\u001b[0m\u001b[0;34m\u001b[0m\u001b[0m\n",
            "\u001b[0;31mKeyboardInterrupt\u001b[0m: "
          ]
        }
      ]
    },
    {
      "cell_type": "code",
      "source": [
        "image_feature = pd.DataFrame.from_dict(features, orient='index').add_prefix(\"DenseNet121_\").reset_index()\n",
        "image_feature.rename(columns={\"index\":\"odai_photo_file_name\"}, inplace=True)"
      ],
      "metadata": {
        "id": "CQHooXDhliz5"
      },
      "execution_count": null,
      "outputs": []
    },
    {
      "cell_type": "code",
      "source": [
        "# trainのデータに結合します。\n",
        "train_df = pd.merge(train_df, image_feature, on=\"odai_photo_file_name\", how=\"left\")"
      ],
      "metadata": {
        "id": "LszW11dknduX"
      },
      "execution_count": null,
      "outputs": []
    },
    {
      "cell_type": "code",
      "source": [
        "train_df.shape"
      ],
      "metadata": {
        "id": "Ez-e9LBXnoVS"
      },
      "execution_count": null,
      "outputs": []
    },
    {
      "cell_type": "code",
      "source": [
        "# testデータでも同様なことを行って行きます\n",
        "image_df_test = test_df[[\"id\", \"odai_photo_file_name\"]].copy()\n",
        "\n",
        "image_ids = image_df_test[\"odai_photo_file_name\"].values\n",
        "n_batches = len(image_ids) // CFG.batch_size + 1\n",
        "\n",
        "\n",
        "features = {}\n",
        "for b in tqdm(range(n_batches)):\n",
        "    start = b*CFG.batch_size\n",
        "    end = (b+1)*CFG.batch_size\n",
        "    batch_ids = image_ids[start:end]\n",
        "    batch_images = np.zeros((len(batch_ids),CFG.img_size,CFG.img_size,3))\n",
        "    for i,image_id in enumerate(batch_ids):\n",
        "        try:\n",
        "            batch_images[i] = load_image(image_id, is_train=False)\n",
        "        except:\n",
        "          print(\"Error\")\n",
        "    batch_preds = m.predict(batch_images)\n",
        "    for i,image_id in enumerate(batch_ids):\n",
        "        features[image_id] = batch_preds[i]\n",
        "\n",
        "image_feature = pd.DataFrame.from_dict(features, orient='index').add_prefix(\"DenseNet121_\").reset_index()\n",
        "image_feature.rename(columns={\"index\":\"odai_photo_file_name\"}, inplace=True)\n",
        "\n",
        "test_df = pd.merge(test_df, image_feature, on=\"odai_photo_file_name\", how=\"left\")"
      ],
      "metadata": {
        "id": "wwT1afJfnq6k"
      },
      "execution_count": null,
      "outputs": []
    },
    {
      "cell_type": "code",
      "source": [
        "test_df.shape"
      ],
      "metadata": {
        "colab": {
          "base_uri": "https://localhost:8080/"
        },
        "id": "FUIEWLeWnwEp",
        "outputId": "7e046319-e0ba-4213-e906-70b47f538a72"
      },
      "execution_count": 87,
      "outputs": [
        {
          "output_type": "execute_result",
          "data": {
            "text/plain": [
              "(6000, 259)"
            ]
          },
          "metadata": {},
          "execution_count": 87
        }
      ]
    },
    {
      "cell_type": "markdown",
      "source": [
        "# Create Text Features\n",
        "\n",
        "続いてボケての文章について、BERTモデルを用いて特徴量化していきます。\n",
        "特徴量化については、以下のディスカッションを参考にさせていただきます。  \n",
        "[japanese-roberta-baseでテキストデータをembeddingする(小説家になろう ブクマ数予測 \\~”伸びる”タイトルとは？\\~ より)](https://www.nishika.com/competitions/21/topics/163)\n"
      ],
      "metadata": {
        "id": "vaz2jaSyoUS6"
      }
    },
    {
      "cell_type": "code",
      "source": [
        "### 文字整形の関数群\n",
        "def clean_text(text):\n",
        "    replaced_text = text.lower()\n",
        "    replaced_text = re.sub(r'[【】]', ' ', replaced_text)       # 【】の除去\n",
        "    replaced_text = re.sub(r'[（）()]', ' ', replaced_text)     # （）の除去\n",
        "    replaced_text = re.sub(r'[［］\\[\\]]', ' ', replaced_text)   # ［］の除去\n",
        "    replaced_text = re.sub(r'[『』]', ' ', replaced_text)   # 『』の除去\n",
        "    replaced_text = re.sub(r'[@＠]\\w+', '', replaced_text)  # メンションの除去\n",
        "    replaced_text = re.sub(r'https?:\\/\\/.*?[\\r\\n ]', '', replaced_text)  # URLの除去\n",
        "    replaced_text = re.sub(r'　', ' ', replaced_text)  # 全角空白の除去\n",
        "    replaced_text = re.sub(r' ', '', replaced_text)  # 空白の除去\n",
        "    return replaced_text\n",
        "\n",
        "\n",
        "def clean_html_tags(html_text):\n",
        "    soup = BeautifulSoup(html_text, 'html.parser')\n",
        "    cleaned_text = soup.get_text()\n",
        "    cleaned_text = ''.join(cleaned_text.splitlines())\n",
        "    return cleaned_text\n",
        "\n",
        "\n",
        "def clean_html_and_js_tags(html_text):\n",
        "    soup = BeautifulSoup(html_text, 'html.parser')\n",
        "    [x.extract() for x in soup.findAll(['script', 'style'])]\n",
        "    cleaned_text = soup.get_text()\n",
        "    cleaned_text = ''.join(cleaned_text.splitlines())\n",
        "    return cleaned_text\n",
        "\n",
        "\n",
        "def clean_url(html_text):\n",
        "    cleaned_text = re.sub(r'http\\S+', '', html_text)\n",
        "    return cleaned_text\n",
        "\n",
        "\n",
        "def normalize(text):\n",
        "    normalized_text = normalize_unicode(text)\n",
        "    normalized_text = normalize_number(normalized_text)\n",
        "    normalized_text = lower_text(normalized_text)\n",
        "    return normalized_text\n",
        "\n",
        "\n",
        "def lower_text(text):\n",
        "    return text.lower()\n",
        "\n",
        "\n",
        "def normalize_unicode(text, form='NFKC'):\n",
        "    normalized_text = unicodedata.normalize(form, text)\n",
        "    return normalized_text\n",
        "\n",
        "\n",
        "def normalize_number(text):\n",
        "    replaced_text = re.sub(r'\\d+', '0', text)\n",
        "    return replaced_text\n",
        "\n",
        "\n",
        "def text_cleaning(text):\n",
        "    text = clean_text(text)\n",
        "    text = clean_html_tags(text)\n",
        "    text = clean_html_and_js_tags(text)\n",
        "    text = clean_url(text)\n",
        "    text = normalize(text)\n",
        "    text = lower_text(text)\n",
        "    text = normalize_unicode(text)\n",
        "\n",
        "    return text"
      ],
      "metadata": {
        "id": "2whC2X1CoFL-"
      },
      "execution_count": 88,
      "outputs": []
    },
    {
      "cell_type": "code",
      "source": [
        "# テキストをベクトル化するクラス\n",
        "class BertSequenceVectorizer:\n",
        "    def __init__(self, model_name: str):\n",
        "        self.device = 'cuda' if torch.cuda.is_available() else 'cpu'\n",
        "        self.model_name = model_name\n",
        "        self.tokenizer = transformers.T5Tokenizer.from_pretrained(self.model_name)\n",
        "        self.tokenizer.do_lower_case = True \n",
        "        self.bert_model = transformers.RobertaModel.from_pretrained(self.model_name)\n",
        "        self.bert_model = self.bert_model.to(self.device)\n",
        "        self.max_len = 256\n",
        "\n",
        "\n",
        "    def vectorize(self, sentence : str) -> np.array:\n",
        "        inp = self.tokenizer.encode(sentence)\n",
        "        len_inp = len(inp)\n",
        "\n",
        "        if len_inp >= self.max_len:\n",
        "            inputs = inp[:self.max_len]\n",
        "            masks = [1] * self.max_len\n",
        "        else:\n",
        "            inputs = inp + [0] * (self.max_len - len_inp)\n",
        "            masks = [1] * len_inp + [0] * (self.max_len - len_inp)\n",
        "\n",
        "        inputs_tensor = torch.tensor([inputs], dtype=torch.long).to(self.device)\n",
        "        masks_tensor = torch.tensor([masks], dtype=torch.long).to(self.device)\n",
        "\n",
        "        bert_out = self.bert_model(inputs_tensor, masks_tensor)\n",
        "        seq_out, pooled_out = bert_out['last_hidden_state'], bert_out['pooler_output']\n",
        "\n",
        "        if torch.cuda.is_available():    \n",
        "            return seq_out[0][0].cpu().detach().numpy()\n",
        "        else:\n",
        "            return seq_out[0][0].detach().numpy()"
      ],
      "metadata": {
        "id": "WupZadu_o3xq"
      },
      "execution_count": 89,
      "outputs": []
    },
    {
      "cell_type": "code",
      "source": [
        "BSV = BertSequenceVectorizer('rinna/japanese-roberta-base')\n",
        "\n",
        "## テキストの欠損値を補間します\n",
        "train_df[\"text\"] = train_df[\"text\"].fillna('NaN')\n",
        "test_df[\"text\"] = test_df[\"text\"].fillna('NaN')\n",
        "\n",
        "## BERT特徴量 \n",
        "features_text_train = np.stack(train_df[\"text\"].fillna(\"\").map(lambda x: BSV.vectorize(x).reshape(-1)).values)\n",
        "features_text_test = np.stack(test_df[\"text\"].fillna(\"\").map(lambda x: BSV.vectorize(x).reshape(-1)).values)"
      ],
      "metadata": {
        "colab": {
          "base_uri": "https://localhost:8080/"
        },
        "id": "3lZ32HBRqm8c",
        "outputId": "41177c24-d3bd-4690-89a8-6183f2e9d309"
      },
      "execution_count": 90,
      "outputs": [
        {
          "output_type": "stream",
          "name": "stderr",
          "text": [
            "Some weights of the model checkpoint at rinna/japanese-roberta-base were not used when initializing RobertaModel: ['lm_head.layer_norm.bias', 'lm_head.layer_norm.weight', 'lm_head.decoder.weight', 'lm_head.dense.bias', 'lm_head.dense.weight', 'lm_head.decoder.bias', 'lm_head.bias']\n",
            "- This IS expected if you are initializing RobertaModel from the checkpoint of a model trained on another task or with another architecture (e.g. initializing a BertForSequenceClassification model from a BertForPreTraining model).\n",
            "- This IS NOT expected if you are initializing RobertaModel from the checkpoint of a model that you expect to be exactly identical (initializing a BertForSequenceClassification model from a BertForSequenceClassification model).\n",
            "Some weights of RobertaModel were not initialized from the model checkpoint at rinna/japanese-roberta-base and are newly initialized: ['roberta.pooler.dense.weight', 'roberta.pooler.dense.bias']\n",
            "You should probably TRAIN this model on a down-stream task to be able to use it for predictions and inference.\n"
          ]
        }
      ]
    },
    {
      "cell_type": "code",
      "source": [
        "## テキスト特徴量\n",
        "features_text_train_df = pd.DataFrame(features_text_train).add_prefix(\"Roberta-text\")\n",
        "features_text_test_df = pd.DataFrame(features_text_test).add_prefix(\"Roberta-text\")\n",
        "\n",
        "train_df = pd.concat([train_df, features_text_train_df], axis=1)\n",
        "test_df = pd.concat([test_df, features_text_test_df], axis=1)"
      ],
      "metadata": {
        "id": "tWhQi9nUq0sY"
      },
      "execution_count": 91,
      "outputs": []
    },
    {
      "cell_type": "code",
      "source": [
        "print(train_df.shape)\n",
        "print(test_df.shape)"
      ],
      "metadata": {
        "colab": {
          "base_uri": "https://localhost:8080/"
        },
        "id": "oqWv-z3avTva",
        "outputId": "230a8c2e-b03b-4dbb-91c7-4f569dc82f11"
      },
      "execution_count": 92,
      "outputs": [
        {
          "output_type": "stream",
          "name": "stdout",
          "text": [
            "(24962, 1028)\n",
            "(6000, 1027)\n"
          ]
        }
      ]
    },
    {
      "cell_type": "code",
      "source": [
        "train_df[\"is_laugh\"].value_counts()"
      ],
      "metadata": {
        "colab": {
          "base_uri": "https://localhost:8080/"
        },
        "id": "WjX4Qu0UvYk-",
        "outputId": "272f2821-0b27-407a-f989-614240c2ff67"
      },
      "execution_count": 93,
      "outputs": [
        {
          "output_type": "execute_result",
          "data": {
            "text/plain": [
              "0    12481\n",
              "1    12481\n",
              "Name: is_laugh, dtype: int64"
            ]
          },
          "metadata": {},
          "execution_count": 93
        }
      ]
    },
    {
      "cell_type": "code",
      "source": [
        "features_text_train_df.head()"
      ],
      "metadata": {
        "colab": {
          "base_uri": "https://localhost:8080/",
          "height": 317
        },
        "id": "CeHav5P0vfC5",
        "outputId": "7dab652c-f806-4977-83e3-790fdd865994"
      },
      "execution_count": 94,
      "outputs": [
        {
          "output_type": "execute_result",
          "data": {
            "text/plain": [
              "   Roberta-text0  Roberta-text1  Roberta-text2  Roberta-text3  Roberta-text4  \\\n",
              "0      -0.107626       0.055327       0.332656       0.084826       0.196388   \n",
              "1      -0.142536       0.011938      -0.374652      -0.115362      -0.305899   \n",
              "2       0.021675       0.080549       0.094279      -0.017915      -0.029713   \n",
              "3       0.119710      -0.049277      -0.053823       0.051799       0.046368   \n",
              "4      -0.170697       0.026444      -0.092976      -0.285846       0.031922   \n",
              "\n",
              "   Roberta-text5  Roberta-text6  Roberta-text7  Roberta-text8  Roberta-text9  \\\n",
              "0       0.056368       0.166598       0.171358      -0.125276      -0.010135   \n",
              "1      -0.063437       0.198552       0.156238       0.271021       0.012268   \n",
              "2       0.266389       0.034300       0.178127      -0.016939       0.055436   \n",
              "3       0.226661       0.464821       0.019133       0.023530      -0.021767   \n",
              "4       0.176804       0.039082      -0.128412       0.100534      -0.295259   \n",
              "\n",
              "   ...  Roberta-text758  Roberta-text759  Roberta-text760  Roberta-text761  \\\n",
              "0  ...         0.051979         0.092719         0.048414        -0.046145   \n",
              "1  ...         0.147448         0.136201        -0.503051         0.291768   \n",
              "2  ...         0.233712         0.031985        -0.288342         0.062656   \n",
              "3  ...        -0.030282         0.084566         0.104745         0.077361   \n",
              "4  ...         0.153430         0.033884        -0.338327         0.309102   \n",
              "\n",
              "   Roberta-text762  Roberta-text763  Roberta-text764  Roberta-text765  \\\n",
              "0         0.054659         0.179387         0.120467        -0.295126   \n",
              "1         0.006177         0.292241        -0.337630        -0.133204   \n",
              "2         0.103273         0.026101        -0.175331        -0.261590   \n",
              "3        -0.079214        -0.003724        -0.025880        -0.227838   \n",
              "4        -0.263616        -0.081696         0.281731        -0.213077   \n",
              "\n",
              "   Roberta-text766  Roberta-text767  \n",
              "0         0.274085        -0.037685  \n",
              "1         0.129636        -0.336098  \n",
              "2         0.118919         0.037961  \n",
              "3         0.297882        -0.018557  \n",
              "4        -0.276301        -0.181529  \n",
              "\n",
              "[5 rows x 768 columns]"
            ],
            "text/html": [
              "\n",
              "  <div id=\"df-55c9c660-c997-4220-bd24-3d5fde5b517e\">\n",
              "    <div class=\"colab-df-container\">\n",
              "      <div>\n",
              "<style scoped>\n",
              "    .dataframe tbody tr th:only-of-type {\n",
              "        vertical-align: middle;\n",
              "    }\n",
              "\n",
              "    .dataframe tbody tr th {\n",
              "        vertical-align: top;\n",
              "    }\n",
              "\n",
              "    .dataframe thead th {\n",
              "        text-align: right;\n",
              "    }\n",
              "</style>\n",
              "<table border=\"1\" class=\"dataframe\">\n",
              "  <thead>\n",
              "    <tr style=\"text-align: right;\">\n",
              "      <th></th>\n",
              "      <th>Roberta-text0</th>\n",
              "      <th>Roberta-text1</th>\n",
              "      <th>Roberta-text2</th>\n",
              "      <th>Roberta-text3</th>\n",
              "      <th>Roberta-text4</th>\n",
              "      <th>Roberta-text5</th>\n",
              "      <th>Roberta-text6</th>\n",
              "      <th>Roberta-text7</th>\n",
              "      <th>Roberta-text8</th>\n",
              "      <th>Roberta-text9</th>\n",
              "      <th>...</th>\n",
              "      <th>Roberta-text758</th>\n",
              "      <th>Roberta-text759</th>\n",
              "      <th>Roberta-text760</th>\n",
              "      <th>Roberta-text761</th>\n",
              "      <th>Roberta-text762</th>\n",
              "      <th>Roberta-text763</th>\n",
              "      <th>Roberta-text764</th>\n",
              "      <th>Roberta-text765</th>\n",
              "      <th>Roberta-text766</th>\n",
              "      <th>Roberta-text767</th>\n",
              "    </tr>\n",
              "  </thead>\n",
              "  <tbody>\n",
              "    <tr>\n",
              "      <th>0</th>\n",
              "      <td>-0.107626</td>\n",
              "      <td>0.055327</td>\n",
              "      <td>0.332656</td>\n",
              "      <td>0.084826</td>\n",
              "      <td>0.196388</td>\n",
              "      <td>0.056368</td>\n",
              "      <td>0.166598</td>\n",
              "      <td>0.171358</td>\n",
              "      <td>-0.125276</td>\n",
              "      <td>-0.010135</td>\n",
              "      <td>...</td>\n",
              "      <td>0.051979</td>\n",
              "      <td>0.092719</td>\n",
              "      <td>0.048414</td>\n",
              "      <td>-0.046145</td>\n",
              "      <td>0.054659</td>\n",
              "      <td>0.179387</td>\n",
              "      <td>0.120467</td>\n",
              "      <td>-0.295126</td>\n",
              "      <td>0.274085</td>\n",
              "      <td>-0.037685</td>\n",
              "    </tr>\n",
              "    <tr>\n",
              "      <th>1</th>\n",
              "      <td>-0.142536</td>\n",
              "      <td>0.011938</td>\n",
              "      <td>-0.374652</td>\n",
              "      <td>-0.115362</td>\n",
              "      <td>-0.305899</td>\n",
              "      <td>-0.063437</td>\n",
              "      <td>0.198552</td>\n",
              "      <td>0.156238</td>\n",
              "      <td>0.271021</td>\n",
              "      <td>0.012268</td>\n",
              "      <td>...</td>\n",
              "      <td>0.147448</td>\n",
              "      <td>0.136201</td>\n",
              "      <td>-0.503051</td>\n",
              "      <td>0.291768</td>\n",
              "      <td>0.006177</td>\n",
              "      <td>0.292241</td>\n",
              "      <td>-0.337630</td>\n",
              "      <td>-0.133204</td>\n",
              "      <td>0.129636</td>\n",
              "      <td>-0.336098</td>\n",
              "    </tr>\n",
              "    <tr>\n",
              "      <th>2</th>\n",
              "      <td>0.021675</td>\n",
              "      <td>0.080549</td>\n",
              "      <td>0.094279</td>\n",
              "      <td>-0.017915</td>\n",
              "      <td>-0.029713</td>\n",
              "      <td>0.266389</td>\n",
              "      <td>0.034300</td>\n",
              "      <td>0.178127</td>\n",
              "      <td>-0.016939</td>\n",
              "      <td>0.055436</td>\n",
              "      <td>...</td>\n",
              "      <td>0.233712</td>\n",
              "      <td>0.031985</td>\n",
              "      <td>-0.288342</td>\n",
              "      <td>0.062656</td>\n",
              "      <td>0.103273</td>\n",
              "      <td>0.026101</td>\n",
              "      <td>-0.175331</td>\n",
              "      <td>-0.261590</td>\n",
              "      <td>0.118919</td>\n",
              "      <td>0.037961</td>\n",
              "    </tr>\n",
              "    <tr>\n",
              "      <th>3</th>\n",
              "      <td>0.119710</td>\n",
              "      <td>-0.049277</td>\n",
              "      <td>-0.053823</td>\n",
              "      <td>0.051799</td>\n",
              "      <td>0.046368</td>\n",
              "      <td>0.226661</td>\n",
              "      <td>0.464821</td>\n",
              "      <td>0.019133</td>\n",
              "      <td>0.023530</td>\n",
              "      <td>-0.021767</td>\n",
              "      <td>...</td>\n",
              "      <td>-0.030282</td>\n",
              "      <td>0.084566</td>\n",
              "      <td>0.104745</td>\n",
              "      <td>0.077361</td>\n",
              "      <td>-0.079214</td>\n",
              "      <td>-0.003724</td>\n",
              "      <td>-0.025880</td>\n",
              "      <td>-0.227838</td>\n",
              "      <td>0.297882</td>\n",
              "      <td>-0.018557</td>\n",
              "    </tr>\n",
              "    <tr>\n",
              "      <th>4</th>\n",
              "      <td>-0.170697</td>\n",
              "      <td>0.026444</td>\n",
              "      <td>-0.092976</td>\n",
              "      <td>-0.285846</td>\n",
              "      <td>0.031922</td>\n",
              "      <td>0.176804</td>\n",
              "      <td>0.039082</td>\n",
              "      <td>-0.128412</td>\n",
              "      <td>0.100534</td>\n",
              "      <td>-0.295259</td>\n",
              "      <td>...</td>\n",
              "      <td>0.153430</td>\n",
              "      <td>0.033884</td>\n",
              "      <td>-0.338327</td>\n",
              "      <td>0.309102</td>\n",
              "      <td>-0.263616</td>\n",
              "      <td>-0.081696</td>\n",
              "      <td>0.281731</td>\n",
              "      <td>-0.213077</td>\n",
              "      <td>-0.276301</td>\n",
              "      <td>-0.181529</td>\n",
              "    </tr>\n",
              "  </tbody>\n",
              "</table>\n",
              "<p>5 rows × 768 columns</p>\n",
              "</div>\n",
              "      <button class=\"colab-df-convert\" onclick=\"convertToInteractive('df-55c9c660-c997-4220-bd24-3d5fde5b517e')\"\n",
              "              title=\"Convert this dataframe to an interactive table.\"\n",
              "              style=\"display:none;\">\n",
              "        \n",
              "  <svg xmlns=\"http://www.w3.org/2000/svg\" height=\"24px\"viewBox=\"0 0 24 24\"\n",
              "       width=\"24px\">\n",
              "    <path d=\"M0 0h24v24H0V0z\" fill=\"none\"/>\n",
              "    <path d=\"M18.56 5.44l.94 2.06.94-2.06 2.06-.94-2.06-.94-.94-2.06-.94 2.06-2.06.94zm-11 1L8.5 8.5l.94-2.06 2.06-.94-2.06-.94L8.5 2.5l-.94 2.06-2.06.94zm10 10l.94 2.06.94-2.06 2.06-.94-2.06-.94-.94-2.06-.94 2.06-2.06.94z\"/><path d=\"M17.41 7.96l-1.37-1.37c-.4-.4-.92-.59-1.43-.59-.52 0-1.04.2-1.43.59L10.3 9.45l-7.72 7.72c-.78.78-.78 2.05 0 2.83L4 21.41c.39.39.9.59 1.41.59.51 0 1.02-.2 1.41-.59l7.78-7.78 2.81-2.81c.8-.78.8-2.07 0-2.86zM5.41 20L4 18.59l7.72-7.72 1.47 1.35L5.41 20z\"/>\n",
              "  </svg>\n",
              "      </button>\n",
              "      \n",
              "  <style>\n",
              "    .colab-df-container {\n",
              "      display:flex;\n",
              "      flex-wrap:wrap;\n",
              "      gap: 12px;\n",
              "    }\n",
              "\n",
              "    .colab-df-convert {\n",
              "      background-color: #E8F0FE;\n",
              "      border: none;\n",
              "      border-radius: 50%;\n",
              "      cursor: pointer;\n",
              "      display: none;\n",
              "      fill: #1967D2;\n",
              "      height: 32px;\n",
              "      padding: 0 0 0 0;\n",
              "      width: 32px;\n",
              "    }\n",
              "\n",
              "    .colab-df-convert:hover {\n",
              "      background-color: #E2EBFA;\n",
              "      box-shadow: 0px 1px 2px rgba(60, 64, 67, 0.3), 0px 1px 3px 1px rgba(60, 64, 67, 0.15);\n",
              "      fill: #174EA6;\n",
              "    }\n",
              "\n",
              "    [theme=dark] .colab-df-convert {\n",
              "      background-color: #3B4455;\n",
              "      fill: #D2E3FC;\n",
              "    }\n",
              "\n",
              "    [theme=dark] .colab-df-convert:hover {\n",
              "      background-color: #434B5C;\n",
              "      box-shadow: 0px 1px 3px 1px rgba(0, 0, 0, 0.15);\n",
              "      filter: drop-shadow(0px 1px 2px rgba(0, 0, 0, 0.3));\n",
              "      fill: #FFFFFF;\n",
              "    }\n",
              "  </style>\n",
              "\n",
              "      <script>\n",
              "        const buttonEl =\n",
              "          document.querySelector('#df-55c9c660-c997-4220-bd24-3d5fde5b517e button.colab-df-convert');\n",
              "        buttonEl.style.display =\n",
              "          google.colab.kernel.accessAllowed ? 'block' : 'none';\n",
              "\n",
              "        async function convertToInteractive(key) {\n",
              "          const element = document.querySelector('#df-55c9c660-c997-4220-bd24-3d5fde5b517e');\n",
              "          const dataTable =\n",
              "            await google.colab.kernel.invokeFunction('convertToInteractive',\n",
              "                                                     [key], {});\n",
              "          if (!dataTable) return;\n",
              "\n",
              "          const docLinkHtml = 'Like what you see? Visit the ' +\n",
              "            '<a target=\"_blank\" href=https://colab.research.google.com/notebooks/data_table.ipynb>data table notebook</a>'\n",
              "            + ' to learn more about interactive tables.';\n",
              "          element.innerHTML = '';\n",
              "          dataTable['output_type'] = 'display_data';\n",
              "          await google.colab.output.renderOutput(dataTable, element);\n",
              "          const docLink = document.createElement('div');\n",
              "          docLink.innerHTML = docLinkHtml;\n",
              "          element.appendChild(docLink);\n",
              "        }\n",
              "      </script>\n",
              "    </div>\n",
              "  </div>\n",
              "  "
            ]
          },
          "metadata": {},
          "execution_count": 94
        }
      ]
    },
    {
      "cell_type": "markdown",
      "source": [
        "### データを分割する"
      ],
      "metadata": {
        "id": "URSRrCXTv1jO"
      }
    },
    {
      "cell_type": "code",
      "source": [
        "# 学習データと評価データに分割します\n",
        "train_df, valid_df = train_test_split(train_df, test_size=0.2, random_state=42, stratify=train_df[\"is_laugh\"])\n",
        "\n",
        "train_y = train_df[\"is_laugh\"]\n",
        "train_x = train_df.drop([\"id\", \"odai_photo_file_name\", \"text\",\"is_laugh\"], axis=1)\n",
        "\n",
        "valid_y = valid_df[\"is_laugh\"]\n",
        "valid_x = valid_df.drop([\"id\", \"odai_photo_file_name\", \"text\",\"is_laugh\"], axis=1)\n",
        "\n",
        "test_x = test_df.drop([\"id\", \"odai_photo_file_name\", \"text\"], axis=1)"
      ],
      "metadata": {
        "id": "iun9xYzXvm4L"
      },
      "execution_count": 95,
      "outputs": []
    },
    {
      "cell_type": "code",
      "source": [
        "print(train_x.shape)\n",
        "print(valid_x.shape)"
      ],
      "metadata": {
        "colab": {
          "base_uri": "https://localhost:8080/"
        },
        "id": "dKEyFVkYv7iJ",
        "outputId": "8b582b4d-30aa-4aab-f49e-d35ff4f1c458"
      },
      "execution_count": 96,
      "outputs": [
        {
          "output_type": "stream",
          "name": "stdout",
          "text": [
            "(19969, 1024)\n",
            "(4993, 1024)\n"
          ]
        }
      ]
    },
    {
      "cell_type": "markdown",
      "source": [
        "### モデル"
      ],
      "metadata": {
        "id": "dxtz8jU8waB0"
      }
    },
    {
      "cell_type": "code",
      "source": [
        "lgbm_params = {  \n",
        "    \"n_estimators\": 20000,\n",
        "    \"objective\": 'binary',\n",
        "    \"learning_rate\": 0.05,\n",
        "    \"num_leaves\": 32,\n",
        "    \"random_state\": 71,\n",
        "    \"n_jobs\": -1,\n",
        "    \"importance_type\": \"gain\",\n",
        "    'colsample_bytree': .8,\n",
        "    \"reg_lambda\": 5,\n",
        "    \"max_depth\":5,\n",
        "    }\n",
        "\n",
        "lgtrain = lgb.Dataset(train_x, train_y)\n",
        "lgvalid = lgb.Dataset(valid_x, valid_y)\n",
        "\n",
        "lgb_clf = lgb.train(\n",
        "    lgbm_params,\n",
        "    lgtrain,\n",
        "    num_boost_round=10000,\n",
        "    valid_sets=[lgtrain, lgvalid],\n",
        "    valid_names=['train','valid'],\n",
        "    early_stopping_rounds=50,\n",
        "    verbose_eval=50\n",
        ")"
      ],
      "metadata": {
        "colab": {
          "base_uri": "https://localhost:8080/"
        },
        "id": "IQojlTHlwNuK",
        "outputId": "6a7bffaf-0804-4db0-d97f-8cbe308e2ed0"
      },
      "execution_count": 97,
      "outputs": [
        {
          "output_type": "stream",
          "name": "stderr",
          "text": [
            "/usr/local/lib/python3.7/dist-packages/lightgbm/engine.py:118: UserWarning: Found `n_estimators` in params. Will use it instead of argument\n",
            "  warnings.warn(\"Found `{}` in params. Will use it instead of argument\".format(alias))\n"
          ]
        },
        {
          "output_type": "stream",
          "name": "stdout",
          "text": [
            "Training until validation scores don't improve for 50 rounds.\n",
            "[50]\ttrain's binary_logloss: 0.617901\tvalid's binary_logloss: 0.665748\n",
            "[100]\ttrain's binary_logloss: 0.58002\tvalid's binary_logloss: 0.662468\n",
            "[150]\ttrain's binary_logloss: 0.549475\tvalid's binary_logloss: 0.661906\n",
            "[200]\ttrain's binary_logloss: 0.524817\tvalid's binary_logloss: 0.661837\n",
            "[250]\ttrain's binary_logloss: 0.502252\tvalid's binary_logloss: 0.662156\n",
            "Early stopping, best iteration is:\n",
            "[229]\ttrain's binary_logloss: 0.512094\tvalid's binary_logloss: 0.661616\n"
          ]
        }
      ]
    },
    {
      "cell_type": "code",
      "source": [
        "# 特徴量の重要度を可視化。\n",
        "lgb.plot_importance(lgb_clf, figsize=(12,8), max_num_features=50, importance_type='gain')\n",
        "plt.tight_layout()\n",
        "plt.show()"
      ],
      "metadata": {
        "colab": {
          "base_uri": "https://localhost:8080/",
          "height": 585
        },
        "id": "9W6twXn_whuh",
        "outputId": "934f4dda-0d66-49b7-d39b-a29d515167d9"
      },
      "execution_count": 98,
      "outputs": [
        {
          "output_type": "display_data",
          "data": {
            "text/plain": [
              "<Figure size 864x576 with 1 Axes>"
            ],
            "image/png": "[encoded data removed]"
          },
          "metadata": {
            "needs_background": "light"
          }
        }
      ]
    },
    {
      "cell_type": "code",
      "source": [
        "# 評価指標はlog lossだが、accuracyも見てみる\n",
        "\n",
        "val_pred = lgb_clf.predict(valid_x, num_iteration=lgb_clf.best_iteration)\n",
        "val_pred_max = np.round(lgb_clf.predict(valid_x)).astype(int)  # クラスに分類\n",
        "accuracy = sum(valid_y == val_pred_max) / len(valid_y)\n",
        "print(accuracy)"
      ],
      "metadata": {
        "colab": {
          "base_uri": "https://localhost:8080/"
        },
        "id": "hkd_qoO63gST",
        "outputId": "a9214f39-5732-4aca-9f98-d6f715291af9"
      },
      "execution_count": 99,
      "outputs": [
        {
          "output_type": "stream",
          "name": "stdout",
          "text": [
            "0.6030442619667534\n"
          ]
        }
      ]
    },
    {
      "cell_type": "code",
      "source": [
        "_conf_options = {\"normalize\": None,}\n",
        "_plot_options = {\n",
        "        \"cmap\": \"Blues\",\n",
        "        \"annot\": True\n",
        "    }\n",
        "\n",
        "conf = confusion_matrix(y_true=valid_y,\n",
        "                        y_pred=val_pred_max,\n",
        "                        **_conf_options)\n",
        "\n",
        "fig, ax = plt.subplots(figsize=(8, 8))\n",
        "sns.heatmap(conf, ax=ax, **_plot_options)\n",
        "ax.set_ylabel(\"Label\")\n",
        "ax.set_xlabel(\"Predict\")"
      ],
      "metadata": {
        "colab": {
          "base_uri": "https://localhost:8080/",
          "height": 513
        },
        "id": "OCfCm3e83nRf",
        "outputId": "96db1b54-ab6d-4c82-f994-dda87f952f27"
      },
      "execution_count": 100,
      "outputs": [
        {
          "output_type": "execute_result",
          "data": {
            "text/plain": [
              "Text(0.5, 52.0, 'Predict')"
            ]
          },
          "metadata": {},
          "execution_count": 100
        },
        {
          "output_type": "display_data",
          "data": {
            "text/plain": [
              "<Figure size 576x576 with 2 Axes>"
            ],
            "image/png": "[encoded data removed]"
          },
          "metadata": {
            "needs_background": "light"
          }
        }
      ]
    },
    {
      "cell_type": "markdown",
      "source": [
        "### 予測を行う"
      ],
      "metadata": {
        "id": "wAMYDnSM30Va"
      }
    },
    {
      "cell_type": "code",
      "source": [
        "test_pred = lgb_clf.predict(test_x, num_iteration=lgb_clf.best_iteration)"
      ],
      "metadata": {
        "id": "eGKdpUM93s-J"
      },
      "execution_count": 101,
      "outputs": []
    },
    {
      "cell_type": "code",
      "source": [
        "submission_df[\"is_laugh\"] = test_pred\n",
        "submission_df.head()"
      ],
      "metadata": {
        "colab": {
          "base_uri": "https://localhost:8080/",
          "height": 206
        },
        "id": "ROBJIVMz35Y3",
        "outputId": "e71c3366-e74a-4d5c-aa5c-79fe9f049398"
      },
      "execution_count": 104,
      "outputs": [
        {
          "output_type": "execute_result",
          "data": {
            "text/plain": [
              "          id  is_laugh\n",
              "0  rfdjcfsqq  0.460060\n",
              "1  tsgqmfpef  0.398389\n",
              "2  owjcthkz2  0.439487\n",
              "3  rvgaocjyy  0.486755\n",
              "4  uxtwu5i69  0.591617"
            ],
            "text/html": [
              "\n",
              "  <div id=\"df-d6064564-d8e9-4976-8688-aa699cb4d307\">\n",
              "    <div class=\"colab-df-container\">\n",
              "      <div>\n",
              "<style scoped>\n",
              "    .dataframe tbody tr th:only-of-type {\n",
              "        vertical-align: middle;\n",
              "    }\n",
              "\n",
              "    .dataframe tbody tr th {\n",
              "        vertical-align: top;\n",
              "    }\n",
              "\n",
              "    .dataframe thead th {\n",
              "        text-align: right;\n",
              "    }\n",
              "</style>\n",
              "<table border=\"1\" class=\"dataframe\">\n",
              "  <thead>\n",
              "    <tr style=\"text-align: right;\">\n",
              "      <th></th>\n",
              "      <th>id</th>\n",
              "      <th>is_laugh</th>\n",
              "    </tr>\n",
              "  </thead>\n",
              "  <tbody>\n",
              "    <tr>\n",
              "      <th>0</th>\n",
              "      <td>rfdjcfsqq</td>\n",
              "      <td>0.460060</td>\n",
              "    </tr>\n",
              "    <tr>\n",
              "      <th>1</th>\n",
              "      <td>tsgqmfpef</td>\n",
              "      <td>0.398389</td>\n",
              "    </tr>\n",
              "    <tr>\n",
              "      <th>2</th>\n",
              "      <td>owjcthkz2</td>\n",
              "      <td>0.439487</td>\n",
              "    </tr>\n",
              "    <tr>\n",
              "      <th>3</th>\n",
              "      <td>rvgaocjyy</td>\n",
              "      <td>0.486755</td>\n",
              "    </tr>\n",
              "    <tr>\n",
              "      <th>4</th>\n",
              "      <td>uxtwu5i69</td>\n",
              "      <td>0.591617</td>\n",
              "    </tr>\n",
              "  </tbody>\n",
              "</table>\n",
              "</div>\n",
              "      <button class=\"colab-df-convert\" onclick=\"convertToInteractive('df-d6064564-d8e9-4976-8688-aa699cb4d307')\"\n",
              "              title=\"Convert this dataframe to an interactive table.\"\n",
              "              style=\"display:none;\">\n",
              "        \n",
              "  <svg xmlns=\"http://www.w3.org/2000/svg\" height=\"24px\"viewBox=\"0 0 24 24\"\n",
              "       width=\"24px\">\n",
              "    <path d=\"M0 0h24v24H0V0z\" fill=\"none\"/>\n",
              "    <path d=\"M18.56 5.44l.94 2.06.94-2.06 2.06-.94-2.06-.94-.94-2.06-.94 2.06-2.06.94zm-11 1L8.5 8.5l.94-2.06 2.06-.94-2.06-.94L8.5 2.5l-.94 2.06-2.06.94zm10 10l.94 2.06.94-2.06 2.06-.94-2.06-.94-.94-2.06-.94 2.06-2.06.94z\"/><path d=\"M17.41 7.96l-1.37-1.37c-.4-.4-.92-.59-1.43-.59-.52 0-1.04.2-1.43.59L10.3 9.45l-7.72 7.72c-.78.78-.78 2.05 0 2.83L4 21.41c.39.39.9.59 1.41.59.51 0 1.02-.2 1.41-.59l7.78-7.78 2.81-2.81c.8-.78.8-2.07 0-2.86zM5.41 20L4 18.59l7.72-7.72 1.47 1.35L5.41 20z\"/>\n",
              "  </svg>\n",
              "      </button>\n",
              "      \n",
              "  <style>\n",
              "    .colab-df-container {\n",
              "      display:flex;\n",
              "      flex-wrap:wrap;\n",
              "      gap: 12px;\n",
              "    }\n",
              "\n",
              "    .colab-df-convert {\n",
              "      background-color: #E8F0FE;\n",
              "      border: none;\n",
              "      border-radius: 50%;\n",
              "      cursor: pointer;\n",
              "      display: none;\n",
              "      fill: #1967D2;\n",
              "      height: 32px;\n",
              "      padding: 0 0 0 0;\n",
              "      width: 32px;\n",
              "    }\n",
              "\n",
              "    .colab-df-convert:hover {\n",
              "      background-color: #E2EBFA;\n",
              "      box-shadow: 0px 1px 2px rgba(60, 64, 67, 0.3), 0px 1px 3px 1px rgba(60, 64, 67, 0.15);\n",
              "      fill: #174EA6;\n",
              "    }\n",
              "\n",
              "    [theme=dark] .colab-df-convert {\n",
              "      background-color: #3B4455;\n",
              "      fill: #D2E3FC;\n",
              "    }\n",
              "\n",
              "    [theme=dark] .colab-df-convert:hover {\n",
              "      background-color: #434B5C;\n",
              "      box-shadow: 0px 1px 3px 1px rgba(0, 0, 0, 0.15);\n",
              "      filter: drop-shadow(0px 1px 2px rgba(0, 0, 0, 0.3));\n",
              "      fill: #FFFFFF;\n",
              "    }\n",
              "  </style>\n",
              "\n",
              "      <script>\n",
              "        const buttonEl =\n",
              "          document.querySelector('#df-d6064564-d8e9-4976-8688-aa699cb4d307 button.colab-df-convert');\n",
              "        buttonEl.style.display =\n",
              "          google.colab.kernel.accessAllowed ? 'block' : 'none';\n",
              "\n",
              "        async function convertToInteractive(key) {\n",
              "          const element = document.querySelector('#df-d6064564-d8e9-4976-8688-aa699cb4d307');\n",
              "          const dataTable =\n",
              "            await google.colab.kernel.invokeFunction('convertToInteractive',\n",
              "                                                     [key], {});\n",
              "          if (!dataTable) return;\n",
              "\n",
              "          const docLinkHtml = 'Like what you see? Visit the ' +\n",
              "            '<a target=\"_blank\" href=https://colab.research.google.com/notebooks/data_table.ipynb>data table notebook</a>'\n",
              "            + ' to learn more about interactive tables.';\n",
              "          element.innerHTML = '';\n",
              "          dataTable['output_type'] = 'display_data';\n",
              "          await google.colab.output.renderOutput(dataTable, element);\n",
              "          const docLink = document.createElement('div');\n",
              "          docLink.innerHTML = docLinkHtml;\n",
              "          element.appendChild(docLink);\n",
              "        }\n",
              "      </script>\n",
              "    </div>\n",
              "  </div>\n",
              "  "
            ]
          },
          "metadata": {},
          "execution_count": 104
        }
      ]
    },
    {
      "cell_type": "code",
      "source": [
        "submission_df.to_csv('/content/drive/MyDrive/会社/nishika/bokete/data/submission.csv')"
      ],
      "metadata": {
        "id": "sbrug57B39AK"
      },
      "execution_count": 105,
      "outputs": []
    },
    {
      "cell_type": "code",
      "source": [],
      "metadata": {
        "id": "Cz5fnOdr5Nje"
      },
      "execution_count": null,
      "outputs": []
    }
  ]
}